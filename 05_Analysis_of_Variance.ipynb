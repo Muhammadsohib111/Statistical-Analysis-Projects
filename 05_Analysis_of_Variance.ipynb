{
 "cells": [
  {
   "cell_type": "markdown",
   "metadata": {},
   "source": [
    "Введение в проект\n",
    "\n",
    "Вы работаете аналитиком в приложении по доставке готовых блюд. Перед вами результаты двух экспериментов:\n",
    "\t1.\tПервый эксперимент: Тестирование типов фотографий блюд:\n",
    "\t•\tГруппа A: Прямоугольные изображения (16:9).\n",
    "\t•\tГруппа B: Квадратные изображения.\n",
    "\t•\tГруппа C: Прямоугольные изображения (12:4).\n",
    "Цель: Определить, какой формат изображений больше увеличивает заказы.\n",
    "\t2.\tВторой эксперимент: Изменение дизайна кнопки заказа:\n",
    "\t•\tControl: Старая версия кнопки.\n",
    "\t•\tTest: Новая версия кнопки.\n",
    "Цель: Проверить, влияет ли новая кнопка на заказы."
   ]
  },
  {
   "cell_type": "markdown",
   "metadata": {},
   "source": [
    "Основные задачи\n",
    "\t1.\tАнализ первого теста (изображения):\n",
    "\t•\tПроверить распределение и гомогенность данных.\n",
    "\t•\tПровести однофакторный дисперсионный анализ (ANOVA) и критерий Тьюки.\n",
    "\t•\tПринять решение о формате изображений.\n",
    "\t2.\tАнализ второго теста (кнопка):\n",
    "\t•\tСравнить распределения в контрольной и тестовой группах.\n",
    "\t•\tПровести описательный анализ сегментов.\n",
    "\t•\tПостроить модель для проверки гипотезы."
   ]
  },
  {
   "cell_type": "markdown",
   "metadata": {},
   "source": [
    "**Ожидаемые результаты:**\n",
    "- **Фотографии**: Рекомендации по формату изображений для увеличения заказов.\n",
    "- **Кнопка**: Оценка влияния новой кнопки на поведение пользователей.\n",
    "- **Навыки**: Закрепление методов статистического анализа и визуализации данных.\n",
    "- **Решения**: Получение практического опыта формирования выводов на основе данных."
   ]
  },
  {
   "cell_type": "code",
   "execution_count": 1,
   "metadata": {},
   "outputs": [
    {
     "name": "stderr",
     "output_type": "stream",
     "text": [
      "/opt/tljh/user/lib/python3.7/site-packages/outdated/utils.py:18: OutdatedCacheFailedWarning: Failed to use cache while checking for outdated package.\n",
      "Set the environment variable OUTDATED_RAISE_EXCEPTION=1 for a full traceback.\n",
      "Set the environment variable OUTDATED_IGNORE=1 to disable these warnings.\n",
      "  **kwargs\n",
      "/opt/tljh/user/lib/python3.7/site-packages/outdated/utils.py:18: OutdatedPackageWarning: The package outdated is out of date. Your version is 0.2.1, the latest is 0.2.2.\n",
      "Set the environment variable OUTDATED_IGNORE=1 to disable these warnings.\n",
      "  **kwargs\n",
      "/opt/tljh/user/lib/python3.7/site-packages/outdated/utils.py:18: OutdatedCacheFailedWarning: Failed to use cache while checking for outdated package.\n",
      "Set the environment variable OUTDATED_RAISE_EXCEPTION=1 for a full traceback.\n",
      "Set the environment variable OUTDATED_IGNORE=1 to disable these warnings.\n",
      "  **kwargs\n",
      "/opt/tljh/user/lib/python3.7/site-packages/outdated/utils.py:18: OutdatedPackageWarning: The package pingouin is out of date. Your version is 0.4.0, the latest is 0.5.5.\n",
      "Set the environment variable OUTDATED_IGNORE=1 to disable these warnings.\n",
      "  **kwargs\n"
     ]
    }
   ],
   "source": [
    "# Импортируем основные библиотеки для анализа данных и визуализации\n",
    "import pandas as pd\n",
    "import numpy as np\n",
    "import pingouin as pg\n",
    "import statsmodels.api as sm\n",
    "import statsmodels.formula.api as smf\n",
    "import matplotlib.pyplot as plt  # Построение графиков\n",
    "import seaborn as sns  # Красивые визуализации на основе Matplotlib\n",
    "from scipy.stats import f_oneway, levene, shapiro  # Статистические тесты для ANOVA, гомогенности и нормальности\n",
    "from statsmodels.stats.multicomp import (pairwise_tukeyhsd, MultiComparison) # Критерий Тьюки для анализа парных различий\n",
    "\n",
    "plt.style.use('seaborn')  # Применяем стиль для визуализаций\n",
    "sns.set_theme()  # Устанавливаем тему для Seaborn\n"
   ]
  },
  {
   "cell_type": "code",
   "execution_count": 2,
   "metadata": {},
   "outputs": [],
   "source": [
    "# Загр узим данные\n",
    "exp1 = pd.read_csv('5_task_1.csv')\n",
    "exp2 = pd.read_csv('5_task_2.csv')"
   ]
  },
  {
   "cell_type": "markdown",
   "metadata": {},
   "source": [
    "\t\texp1: Данные по тесту форматов изображений.\n",
    "\t\texp2: Данные по тесту кнопки."
   ]
  },
  {
   "cell_type": "code",
   "execution_count": 3,
   "metadata": {},
   "outputs": [
    {
     "data": {
      "text/html": [
       "<div>\n",
       "<style scoped>\n",
       "    .dataframe tbody tr th:only-of-type {\n",
       "        vertical-align: middle;\n",
       "    }\n",
       "\n",
       "    .dataframe tbody tr th {\n",
       "        vertical-align: top;\n",
       "    }\n",
       "\n",
       "    .dataframe thead th {\n",
       "        text-align: right;\n",
       "    }\n",
       "</style>\n",
       "<table border=\"1\" class=\"dataframe\">\n",
       "  <thead>\n",
       "    <tr style=\"text-align: right;\">\n",
       "      <th></th>\n",
       "      <th>id</th>\n",
       "      <th>group</th>\n",
       "      <th>events</th>\n",
       "    </tr>\n",
       "  </thead>\n",
       "  <tbody>\n",
       "    <tr>\n",
       "      <th>10650</th>\n",
       "      <td>215</td>\n",
       "      <td>B</td>\n",
       "      <td>51</td>\n",
       "    </tr>\n",
       "    <tr>\n",
       "      <th>26568</th>\n",
       "      <td>27763</td>\n",
       "      <td>C</td>\n",
       "      <td>18</td>\n",
       "    </tr>\n",
       "    <tr>\n",
       "      <th>1111</th>\n",
       "      <td>15121</td>\n",
       "      <td>A</td>\n",
       "      <td>33</td>\n",
       "    </tr>\n",
       "    <tr>\n",
       "      <th>25084</th>\n",
       "      <td>20846</td>\n",
       "      <td>C</td>\n",
       "      <td>4</td>\n",
       "    </tr>\n",
       "    <tr>\n",
       "      <th>27675</th>\n",
       "      <td>24672</td>\n",
       "      <td>C</td>\n",
       "      <td>30</td>\n",
       "    </tr>\n",
       "  </tbody>\n",
       "</table>\n",
       "</div>"
      ],
      "text/plain": [
       "          id group  events\n",
       "10650    215     B      51\n",
       "26568  27763     C      18\n",
       "1111   15121     A      33\n",
       "25084  20846     C       4\n",
       "27675  24672     C      30"
      ]
     },
     "execution_count": 3,
     "metadata": {},
     "output_type": "execute_result"
    }
   ],
   "source": [
    "exp1.sample(5)"
   ]
  },
  {
   "cell_type": "code",
   "execution_count": 4,
   "metadata": {
    "scrolled": false
   },
   "outputs": [
    {
     "data": {
      "text/html": [
       "<div>\n",
       "<style scoped>\n",
       "    .dataframe tbody tr th:only-of-type {\n",
       "        vertical-align: middle;\n",
       "    }\n",
       "\n",
       "    .dataframe tbody tr th {\n",
       "        vertical-align: top;\n",
       "    }\n",
       "\n",
       "    .dataframe thead th {\n",
       "        text-align: right;\n",
       "    }\n",
       "</style>\n",
       "<table border=\"1\" class=\"dataframe\">\n",
       "  <thead>\n",
       "    <tr style=\"text-align: right;\">\n",
       "      <th></th>\n",
       "      <th>id</th>\n",
       "      <th>group</th>\n",
       "      <th>segment</th>\n",
       "      <th>events</th>\n",
       "    </tr>\n",
       "  </thead>\n",
       "  <tbody>\n",
       "    <tr>\n",
       "      <th>26207</th>\n",
       "      <td>36307</td>\n",
       "      <td>test</td>\n",
       "      <td>low</td>\n",
       "      <td>36.0</td>\n",
       "    </tr>\n",
       "    <tr>\n",
       "      <th>21550</th>\n",
       "      <td>30587</td>\n",
       "      <td>test</td>\n",
       "      <td>low</td>\n",
       "      <td>36.0</td>\n",
       "    </tr>\n",
       "    <tr>\n",
       "      <th>35828</th>\n",
       "      <td>91196</td>\n",
       "      <td>test</td>\n",
       "      <td>low</td>\n",
       "      <td>29.0</td>\n",
       "    </tr>\n",
       "    <tr>\n",
       "      <th>80916</th>\n",
       "      <td>67928</td>\n",
       "      <td>control</td>\n",
       "      <td>low</td>\n",
       "      <td>20.0</td>\n",
       "    </tr>\n",
       "    <tr>\n",
       "      <th>81512</th>\n",
       "      <td>84721</td>\n",
       "      <td>control</td>\n",
       "      <td>low</td>\n",
       "      <td>17.0</td>\n",
       "    </tr>\n",
       "  </tbody>\n",
       "</table>\n",
       "</div>"
      ],
      "text/plain": [
       "          id    group segment  events\n",
       "26207  36307     test     low    36.0\n",
       "21550  30587     test     low    36.0\n",
       "35828  91196     test     low    29.0\n",
       "80916  67928  control     low    20.0\n",
       "81512  84721  control     low    17.0"
      ]
     },
     "execution_count": 4,
     "metadata": {},
     "output_type": "execute_result"
    }
   ],
   "source": [
    "exp2.sample(5)"
   ]
  },
  {
   "cell_type": "markdown",
   "metadata": {},
   "source": [
    "Почему мы это делаем:\n",
    "\n",
    "Гомогенность дисперсий (или равенство дисперсий) — одно из ключевых предположений для проведения ANOVA.\n",
    "\n",
    "Если дисперсии внутри групп различаются слишком сильно, результаты ANOVA могут быть некорректными."
   ]
  },
  {
   "cell_type": "code",
   "execution_count": 5,
   "metadata": {},
   "outputs": [
    {
     "name": "stdout",
     "output_type": "stream",
     "text": [
      "              W      pval  equal_var\n",
      "levene  2.26226  0.104133       True\n"
     ]
    }
   ],
   "source": [
    "# Проверка гомогенности дисперсий между группами\n",
    "result_homogeneity = pg.homoscedasticity(data=exp1, dv='events', group='group')\n",
    "print(result_homogeneity)\n",
    "\n",
    "# Интерпретация результата:\n",
    "# Если p-value > 0.05, дисперсии гомогенны, и мы можем использовать стандартную ANOVA.\n",
    "# Если p-value < 0.05, дисперсии не равны, и ANOVA может быть некорректной."
   ]
  },
  {
   "cell_type": "markdown",
   "metadata": {},
   "source": [
    "В данном случае, pval = 0.10413, что больше 0.05. Это означает, что дисперсии между группами A, B и C равны, и мы можем продолжать использовать стандартный ANOVA."
   ]
  },
  {
   "cell_type": "code",
   "execution_count": null,
   "metadata": {},
   "outputs": [],
   "source": []
  },
  {
   "cell_type": "markdown",
   "metadata": {},
   "source": [
    "Проверяем нормальности распределения\n",
    "\n",
    "Почему это важно:\n",
    "\n",
    "Для использования ANOVA необходимо, чтобы данные в каждой группе были нормально распределены. Если это предположение нарушено, результаты ANOVA могут быть некорректными."
   ]
  },
  {
   "cell_type": "code",
   "execution_count": 6,
   "metadata": {},
   "outputs": [
    {
     "name": "stdout",
     "output_type": "stream",
     "text": [
      "          W      pval  normal\n",
      "A  2.103460  0.349333    True\n",
      "B  0.841072  0.656695    True\n",
      "C  3.243726  0.197530    True\n"
     ]
    }
   ],
   "source": [
    "# Проверка нормальности распределения в группах\n",
    "result = pg.normality(data=exp1, dv='events', group='group', method='normaltest')\n",
    "print(result)\n",
    "\n",
    "# Интерпретация результата:\n",
    "# Если p-value > 0.05, распределение нормальное.\n",
    "# Если p-value < 0.05, распределение отличается от нормального."
   ]
  },
  {
   "cell_type": "markdown",
   "metadata": {},
   "source": [
    "Выводы:\n",
    "\n",
    "\t\tДля всех групп (A, B, C) pval > 0.05, что означает, что распределение данных во всех группах можно считать нормальным.\n",
    "\t\tМы можем использовать стандартный ANOVA для анализа различий между группами.\n"
   ]
  },
  {
   "cell_type": "code",
   "execution_count": 7,
   "metadata": {},
   "outputs": [
    {
     "name": "stdout",
     "output_type": "stream",
     "text": [
      "'Levene's test: p-value = 0.1041\n"
     ]
    }
   ],
   "source": [
    "stat, p = levene(\n",
    "        exp1[exp1['group'] == 'A'] ['events'],\n",
    "        exp1[exp1['group'] == 'B']['events'],\n",
    "        exp1[exp1['group'] == 'C'] ['events']\n",
    ")\n",
    "\n",
    "print(f\"'Levene's test: p-value = {p:.4f}\")"
   ]
  },
  {
   "cell_type": "markdown",
   "metadata": {},
   "source": [
    "В данном случае тоже тест Левена подтверждает гомогенность дисперсий между группами, что делает ANOVA подходящим методом анализа."
   ]
  },
  {
   "cell_type": "code",
   "execution_count": null,
   "metadata": {},
   "outputs": [],
   "source": []
  },
  {
   "cell_type": "markdown",
   "metadata": {},
   "source": [
    "Q-Q Plots для проверки нормальности распределения"
   ]
  },
  {
   "cell_type": "markdown",
   "metadata": {},
   "source": [
    "Q-Q Plots (квантиль-квантиль графики) визуализируют, насколько распределение данных в группе соответствует нормальному распределению. Если точки на графике располагаются вдоль диагонали, то распределение близко к нормальному."
   ]
  },
  {
   "cell_type": "code",
   "execution_count": 8,
   "metadata": {},
   "outputs": [
    {
     "data": {
      "text/plain": [
       "<Figure size 792x504 with 0 Axes>"
      ]
     },
     "metadata": {},
     "output_type": "display_data"
    },
    {
     "data": {
      "image/png": "[encoded data removed]",
      "text/plain": [
       "<Figure size 360x288 with 1 Axes>"
      ]
     },
     "metadata": {},
     "output_type": "display_data"
    },
    {
     "data": {
      "image/png": "[encoded data removed]",
      "text/plain": [
       "<Figure size 360x288 with 1 Axes>"
      ]
     },
     "metadata": {},
     "output_type": "display_data"
    },
    {
     "data": {
      "image/png": "[encoded data removed]",
      "text/plain": [
       "<Figure size 360x288 with 1 Axes>"
      ]
     },
     "metadata": {},
     "output_type": "display_data"
    }
   ],
   "source": [
    "# Q-Q Plot для группы A\n",
    "plt.figure(figsize=(11, 7))\n",
    "pg.qqplot(exp1.query(\"group == 'A'\")['events'])\n",
    "plt.show()\n",
    "\n",
    "# Q-Q Plot для группы B\n",
    "pg.qqplot(exp1.query(\"group == 'B'\")['events'])\n",
    "plt.show()\n",
    "\n",
    "# Q-Q Plot для группы C\n",
    "pg.qqplot(exp1.query(\"group == 'C'\")['events'])\n",
    "plt.show()"
   ]
  },
  {
   "cell_type": "markdown",
   "metadata": {},
   "source": [
    "Q-Q графики подтверждают выводы, сделанные ранее при помощи теста pg.normality.\n",
    "\n",
    "\t\tВо всех группах (A, B, C) данные соответствуют нормальному распределению.\n",
    "\t\tМожно переходить к проведению однофакторного дисперсионного анализа (ANOVA)."
   ]
  },
  {
   "cell_type": "code",
   "execution_count": null,
   "metadata": {},
   "outputs": [],
   "source": []
  },
  {
   "cell_type": "markdown",
   "metadata": {},
   "source": [
    "Проведение однофакторного дисперсионного анализа (ANOVA)\n",
    "\n",
    "Цель:\n",
    "    Проверить, есть ли статистически значимые различия между средними значениями групп (A, B, C)."
   ]
  },
  {
   "cell_type": "code",
   "execution_count": 9,
   "metadata": {},
   "outputs": [
    {
     "name": "stdout",
     "output_type": "stream",
     "text": [
      "Значение статистики: 2886\n",
      "P-уровень значимости: 0.0000\n"
     ]
    }
   ],
   "source": [
    "# Проведение однофакторного дисперсионного анализа\n",
    "stat, p_value = f_oneway(\n",
    "    exp1[exp1['group'] == 'A']['events'],\n",
    "    exp1[exp1['group'] == 'B']['events'],\n",
    "    exp1[exp1['group'] == 'C']['events']\n",
    ")\n",
    "\n",
    "print(f\"Значение статистики: {stat:.0f}\")\n",
    "print(f\"P-уровень значимости: {p_value:.4f}\")"
   ]
  },
  {
   "cell_type": "markdown",
   "metadata": {},
   "source": [
    "P-value = 0 говорит о том, что между группами (A, B, C) существуют статистически значимые различия.\n",
    "\n",
    "Это означает, что хотя бы одна из групп имеет среднее значение, значительно отличающееся от других"
   ]
  },
  {
   "cell_type": "code",
   "execution_count": null,
   "metadata": {
    "scrolled": false
   },
   "outputs": [],
   "source": []
  },
  {
   "cell_type": "markdown",
   "metadata": {},
   "source": [
    "Критерий Тьюки\n",
    "\n",
    "Цель: Определить, между какими группами (A, B, C) есть статистически значимые различия."
   ]
  },
  {
   "cell_type": "code",
   "execution_count": 10,
   "metadata": {
    "scrolled": false
   },
   "outputs": [
    {
     "name": "stdout",
     "output_type": "stream",
     "text": [
      "Multiple Comparison of Means - Tukey HSD, FWER=0.05 \n",
      "====================================================\n",
      "group1 group2 meandiff p-adj  lower    upper  reject\n",
      "----------------------------------------------------\n",
      "     A      B    8.034 0.001   7.7038  8.3642   True\n",
      "     A      C  -2.1093 0.001  -2.4395 -1.7791   True\n",
      "     B      C -10.1433 0.001 -10.4735 -9.8131   True\n",
      "----------------------------------------------------\n"
     ]
    }
   ],
   "source": [
    "# Критерий Тьюки\n",
    "tukey = pairwise_tukeyhsd(endog=exp1['events'], groups=exp1['group'], alpha=0.05)\n",
    "\n",
    "# Вывод результата\n",
    "print(tukey)"
   ]
  },
  {
   "cell_type": "markdown",
   "metadata": {},
   "source": [
    "\tP-value 'reject':\n",
    "\t\tЕсли p-value < 0.05, мы отвергаем нулевую гипотезу, которая утверждает, что между группами нет значимых различий.\n",
    "\t\tЕсли p-value >= 0.05, мы не можем отвергнуть нулевую гипотезу, что означает, что различия статистически незначимы."
   ]
  },
  {
   "cell_type": "markdown",
   "metadata": {},
   "source": [
    "Все три пары групп (A vs B, A vs C, B vs C) показали значимые различия. Это указывает на то, что формат фотографий (разные группы) существенно влияет на поведение пользователей."
   ]
  },
  {
   "cell_type": "markdown",
   "metadata": {},
   "source": [
    "Еще два критерия для проверки"
   ]
  },
  {
   "cell_type": "code",
   "execution_count": 11,
   "metadata": {
    "scrolled": true
   },
   "outputs": [
    {
     "data": {
      "text/html": [
       "<div>\n",
       "<style scoped>\n",
       "    .dataframe tbody tr th:only-of-type {\n",
       "        vertical-align: middle;\n",
       "    }\n",
       "\n",
       "    .dataframe tbody tr th {\n",
       "        vertical-align: top;\n",
       "    }\n",
       "\n",
       "    .dataframe thead th {\n",
       "        text-align: right;\n",
       "    }\n",
       "</style>\n",
       "<table border=\"1\" class=\"dataframe\">\n",
       "  <thead>\n",
       "    <tr style=\"text-align: right;\">\n",
       "      <th></th>\n",
       "      <th>A</th>\n",
       "      <th>B</th>\n",
       "      <th>mean(A)</th>\n",
       "      <th>mean(B)</th>\n",
       "      <th>diff</th>\n",
       "      <th>se</th>\n",
       "      <th>T</th>\n",
       "      <th>p-tukey</th>\n",
       "      <th>hedges</th>\n",
       "    </tr>\n",
       "  </thead>\n",
       "  <tbody>\n",
       "    <tr>\n",
       "      <th>0</th>\n",
       "      <td>A</td>\n",
       "      <td>B</td>\n",
       "      <td>29.5796</td>\n",
       "      <td>37.6136</td>\n",
       "      <td>-8.0340</td>\n",
       "      <td>0.140894</td>\n",
       "      <td>-57.021604</td>\n",
       "      <td>0.001</td>\n",
       "      <td>-0.806377</td>\n",
       "    </tr>\n",
       "    <tr>\n",
       "      <th>1</th>\n",
       "      <td>A</td>\n",
       "      <td>C</td>\n",
       "      <td>29.5796</td>\n",
       "      <td>27.4703</td>\n",
       "      <td>2.1093</td>\n",
       "      <td>0.140894</td>\n",
       "      <td>14.970833</td>\n",
       "      <td>0.001</td>\n",
       "      <td>0.211712</td>\n",
       "    </tr>\n",
       "    <tr>\n",
       "      <th>2</th>\n",
       "      <td>B</td>\n",
       "      <td>C</td>\n",
       "      <td>37.6136</td>\n",
       "      <td>27.4703</td>\n",
       "      <td>10.1433</td>\n",
       "      <td>0.140894</td>\n",
       "      <td>71.992436</td>\n",
       "      <td>0.001</td>\n",
       "      <td>1.018089</td>\n",
       "    </tr>\n",
       "  </tbody>\n",
       "</table>\n",
       "</div>"
      ],
      "text/plain": [
       "   A  B  mean(A)  mean(B)     diff        se          T  p-tukey    hedges\n",
       "0  A  B  29.5796  37.6136  -8.0340  0.140894 -57.021604    0.001 -0.806377\n",
       "1  A  C  29.5796  27.4703   2.1093  0.140894  14.970833    0.001  0.211712\n",
       "2  B  C  37.6136  27.4703  10.1433  0.140894  71.992436    0.001  1.018089"
      ]
     },
     "execution_count": 11,
     "metadata": {},
     "output_type": "execute_result"
    }
   ],
   "source": [
    "pg.pairwise_tukey(data = exp1, dv = 'events', between =  'group')"
   ]
  },
  {
   "cell_type": "code",
   "execution_count": 12,
   "metadata": {
    "scrolled": false
   },
   "outputs": [
    {
     "data": {
      "text/html": [
       "<div>\n",
       "<style scoped>\n",
       "    .dataframe tbody tr th:only-of-type {\n",
       "        vertical-align: middle;\n",
       "    }\n",
       "\n",
       "    .dataframe tbody tr th {\n",
       "        vertical-align: top;\n",
       "    }\n",
       "\n",
       "    .dataframe thead th {\n",
       "        text-align: right;\n",
       "    }\n",
       "</style>\n",
       "<table border=\"1\" class=\"dataframe\">\n",
       "  <thead>\n",
       "    <tr style=\"text-align: right;\">\n",
       "      <th></th>\n",
       "      <th>A</th>\n",
       "      <th>B</th>\n",
       "      <th>mean(A)</th>\n",
       "      <th>mean(B)</th>\n",
       "      <th>diff</th>\n",
       "      <th>se</th>\n",
       "      <th>T</th>\n",
       "      <th>df</th>\n",
       "      <th>pval</th>\n",
       "      <th>hedges</th>\n",
       "    </tr>\n",
       "  </thead>\n",
       "  <tbody>\n",
       "    <tr>\n",
       "      <th>0</th>\n",
       "      <td>A</td>\n",
       "      <td>B</td>\n",
       "      <td>29.5796</td>\n",
       "      <td>37.6136</td>\n",
       "      <td>-8.0340</td>\n",
       "      <td>0.140920</td>\n",
       "      <td>-57.011134</td>\n",
       "      <td>19987.258491</td>\n",
       "      <td>0.001</td>\n",
       "      <td>-0.806229</td>\n",
       "    </tr>\n",
       "    <tr>\n",
       "      <th>1</th>\n",
       "      <td>A</td>\n",
       "      <td>C</td>\n",
       "      <td>29.5796</td>\n",
       "      <td>27.4703</td>\n",
       "      <td>2.1093</td>\n",
       "      <td>0.141696</td>\n",
       "      <td>14.886135</td>\n",
       "      <td>19995.116233</td>\n",
       "      <td>0.001</td>\n",
       "      <td>0.210514</td>\n",
       "    </tr>\n",
       "    <tr>\n",
       "      <th>2</th>\n",
       "      <td>B</td>\n",
       "      <td>C</td>\n",
       "      <td>37.6136</td>\n",
       "      <td>27.4703</td>\n",
       "      <td>10.1433</td>\n",
       "      <td>0.140062</td>\n",
       "      <td>72.420220</td>\n",
       "      <td>19995.502469</td>\n",
       "      <td>0.001</td>\n",
       "      <td>1.024138</td>\n",
       "    </tr>\n",
       "  </tbody>\n",
       "</table>\n",
       "</div>"
      ],
      "text/plain": [
       "   A  B  mean(A)  mean(B)     diff        se          T            df   pval  \\\n",
       "0  A  B  29.5796  37.6136  -8.0340  0.140920 -57.011134  19987.258491  0.001   \n",
       "1  A  C  29.5796  27.4703   2.1093  0.141696  14.886135  19995.116233  0.001   \n",
       "2  B  C  37.6136  27.4703  10.1433  0.140062  72.420220  19995.502469  0.001   \n",
       "\n",
       "     hedges  \n",
       "0 -0.806229  \n",
       "1  0.210514  \n",
       "2  1.024138  "
      ]
     },
     "execution_count": 12,
     "metadata": {},
     "output_type": "execute_result"
    }
   ],
   "source": [
    "pg.pairwise_gameshowell(data = exp1, dv = 'events', between = 'group')"
   ]
  },
  {
   "cell_type": "markdown",
   "metadata": {},
   "source": [
    "Оба метода дают одинаковый вывод: различия между всеми парами групп статистически значимы.\n",
    "Группа B является наиболее эффективной, так как имеет наибольшее среднее значение events.\n",
    "\n",
    "Вывод:\n",
    "Методы Тьюки и Геймса-Хауэлла подтвердили, что формат фотографий оказывает значительное влияние на метрику events. Для максимального эффекта рекомендуется использовать формат группы B"
   ]
  },
  {
   "cell_type": "code",
   "execution_count": null,
   "metadata": {},
   "outputs": [],
   "source": []
  },
  {
   "cell_type": "code",
   "execution_count": 13,
   "metadata": {
    "scrolled": false
   },
   "outputs": [
    {
     "data": {
      "text/plain": [
       "Text(0, 0.5, 'Число покипок')"
      ]
     },
     "execution_count": 13,
     "metadata": {},
     "output_type": "execute_result"
    },
    {
     "data": {
      "image/png": "[encoded data removed]",
      "text/plain": [
       "<Figure size 576x396 with 1 Axes>"
      ]
     },
     "metadata": {},
     "output_type": "display_data"
    }
   ],
   "source": [
    "# Нарисуем, чтобы проще было смотреть\n",
    "\n",
    "sns.pointplot(x = 'group', y = 'events', data = exp1, capsize = .1)\n",
    "plt.title(\"Число покупок и формат еды\")\n",
    "plt.xlabel(\"Формат\")\n",
    "plt.ylabel(\"Число покипок\")"
   ]
  },
  {
   "cell_type": "markdown",
   "metadata": {},
   "source": [
    "### Выбор метода многофакторного дисперсионного анализа (ANOVA)\n",
    "\n",
    "Многофакторный дисперсионный анализ (ANOVA) был выбран для исследования различий между группами, так как он:\n",
    "\n",
    "- **Позволяет оценить влияние нескольких факторов.**\n",
    "  - В данном случае это формат кнопки и сегмент пользователя, которые могут оказывать влияние на метрику `events`.\n",
    "  \n",
    "- **Учитывает взаимодействие между факторами.**\n",
    "  - Это помогает понять их совокупное влияние на поведение пользователей и выявить возможные эффекты взаимодействия.\n",
    "\n",
    "- **Является стандартным инструментом для анализа различий.**\n",
    "  - Используется для оценки различий между средними значениями в нескольких группах, что важно для проверки гипотез.\n",
    "\n",
    "График наглядно демонстрирует результаты анализа. На нем видно, что **группа B** имеет наиболее высокий показатель `events`. Это делает её предпочтительным выбором для реализации, так как она может способствовать увеличению заказов."
   ]
  },
  {
   "cell_type": "code",
   "execution_count": null,
   "metadata": {},
   "outputs": [],
   "source": []
  },
  {
   "cell_type": "code",
   "execution_count": 14,
   "metadata": {},
   "outputs": [
    {
     "data": {
      "image/png": "[encoded data removed]",
      "text/plain": [
       "<Figure size 864x504 with 1 Axes>"
      ]
     },
     "metadata": {},
     "output_type": "display_data"
    }
   ],
   "source": [
    "# Визуализация распределения для контрольной группы (старой кнопки)\n",
    "plt.figure(figsize=(12, 7))  # Устанавливаем размер графика\n",
    "sns.histplot(x=exp2.query(\"group == 'control'\")['events'], bins=50)  # Строим гистограмму для группы 'control'\n",
    "plt.title(\"Распределение событий: контрольная группа\")\n",
    "plt.xlabel(\"Количество заказов\")\n",
    "plt.ylabel(\"Частота\")\n",
    "plt.show()"
   ]
  },
  {
   "cell_type": "code",
   "execution_count": 15,
   "metadata": {
    "scrolled": false
   },
   "outputs": [
    {
     "data": {
      "image/png": "[encoded data removed]",
      "text/plain": [
       "<Figure size 864x504 with 1 Axes>"
      ]
     },
     "metadata": {},
     "output_type": "display_data"
    }
   ],
   "source": [
    "# Визуализация распределения для тестовой группы (новой кнопки)\n",
    "plt.figure(figsize=(12, 7))  # Устанавливаем размер графика\n",
    "sns.histplot(x=exp2.query(\"group == 'test'\")['events'], bins=50)  # Строим гистограмму для группы 'test'\n",
    "plt.title(\"Распределение событий: тестовая группа\")\n",
    "plt.xlabel(\"Количество заказов\")\n",
    "plt.ylabel(\"Частота\")\n",
    "plt.show()"
   ]
  },
  {
   "cell_type": "code",
   "execution_count": null,
   "metadata": {},
   "outputs": [],
   "source": []
  },
  {
   "cell_type": "markdown",
   "metadata": {},
   "source": [
    "### Визуализация распределения событий (events)\n",
    "\n",
    "На приведённых графиках показано распределение метрики `events` для двух групп:\n",
    "- **Контрольная группа (Control)**: демонстрирует распределение заказов для пользователей, видевших старую кнопку.\n",
    "- **Тестовая группа (Test)**: показывает распределение заказов для пользователей, видевших новую кнопку.\n",
    "\n",
    "#### Анализ графиков:\n",
    "1. **Контрольная группа:**\n",
    "   - Распределение `events` с большей плотностью находится в диапазоне **20-40** заказов.\n",
    "   - Наблюдается явное сосредоточение значений в нижнем сегменте, что говорит о меньшей активности пользователей.\n",
    "\n",
    "2. **Тестовая группа:**\n",
    "   - Распределение `events` заметно шире, и пик плотности сдвинут в сторону более высоких значений заказов (**40-60**).\n",
    "   - Присутствуют пользователи с более высокой активностью, что указывает на положительное влияние новой кнопки на количество заказов.\n",
    "\n",
    "#### Вывод:\n",
    "Графики подтверждают, что новая версия кнопки в тестовой группе способствует увеличению активности пользователей, о чём свидетельствует более высокое среднее значение `events` и расширение диапазона активности."
   ]
  },
  {
   "cell_type": "code",
   "execution_count": 17,
   "metadata": {},
   "outputs": [
    {
     "data": {
      "text/html": [
       "<div>\n",
       "<style scoped>\n",
       "    .dataframe tbody tr th:only-of-type {\n",
       "        vertical-align: middle;\n",
       "    }\n",
       "\n",
       "    .dataframe tbody tr th {\n",
       "        vertical-align: top;\n",
       "    }\n",
       "\n",
       "    .dataframe thead th {\n",
       "        text-align: right;\n",
       "    }\n",
       "</style>\n",
       "<table border=\"1\" class=\"dataframe\">\n",
       "  <thead>\n",
       "    <tr style=\"text-align: right;\">\n",
       "      <th></th>\n",
       "      <th>id</th>\n",
       "      <th>group</th>\n",
       "      <th>segment</th>\n",
       "      <th>events</th>\n",
       "    </tr>\n",
       "  </thead>\n",
       "  <tbody>\n",
       "    <tr>\n",
       "      <th>0</th>\n",
       "      <td>83440</td>\n",
       "      <td>test</td>\n",
       "      <td>high</td>\n",
       "      <td>78.0</td>\n",
       "    </tr>\n",
       "    <tr>\n",
       "      <th>1</th>\n",
       "      <td>96723</td>\n",
       "      <td>test</td>\n",
       "      <td>high</td>\n",
       "      <td>71.0</td>\n",
       "    </tr>\n",
       "    <tr>\n",
       "      <th>2</th>\n",
       "      <td>68719</td>\n",
       "      <td>test</td>\n",
       "      <td>high</td>\n",
       "      <td>80.0</td>\n",
       "    </tr>\n",
       "    <tr>\n",
       "      <th>3</th>\n",
       "      <td>50399</td>\n",
       "      <td>test</td>\n",
       "      <td>high</td>\n",
       "      <td>80.0</td>\n",
       "    </tr>\n",
       "    <tr>\n",
       "      <th>4</th>\n",
       "      <td>95613</td>\n",
       "      <td>test</td>\n",
       "      <td>high</td>\n",
       "      <td>78.0</td>\n",
       "    </tr>\n",
       "    <tr>\n",
       "      <th>...</th>\n",
       "      <td>...</td>\n",
       "      <td>...</td>\n",
       "      <td>...</td>\n",
       "      <td>...</td>\n",
       "    </tr>\n",
       "    <tr>\n",
       "      <th>99995</th>\n",
       "      <td>60695</td>\n",
       "      <td>control</td>\n",
       "      <td>low</td>\n",
       "      <td>15.0</td>\n",
       "    </tr>\n",
       "    <tr>\n",
       "      <th>99996</th>\n",
       "      <td>5934</td>\n",
       "      <td>control</td>\n",
       "      <td>low</td>\n",
       "      <td>16.0</td>\n",
       "    </tr>\n",
       "    <tr>\n",
       "      <th>99997</th>\n",
       "      <td>30046</td>\n",
       "      <td>control</td>\n",
       "      <td>low</td>\n",
       "      <td>22.0</td>\n",
       "    </tr>\n",
       "    <tr>\n",
       "      <th>99998</th>\n",
       "      <td>26474</td>\n",
       "      <td>control</td>\n",
       "      <td>low</td>\n",
       "      <td>21.0</td>\n",
       "    </tr>\n",
       "    <tr>\n",
       "      <th>99999</th>\n",
       "      <td>42649</td>\n",
       "      <td>control</td>\n",
       "      <td>low</td>\n",
       "      <td>23.0</td>\n",
       "    </tr>\n",
       "  </tbody>\n",
       "</table>\n",
       "<p>100000 rows × 4 columns</p>\n",
       "</div>"
      ],
      "text/plain": [
       "          id    group segment  events\n",
       "0      83440     test    high    78.0\n",
       "1      96723     test    high    71.0\n",
       "2      68719     test    high    80.0\n",
       "3      50399     test    high    80.0\n",
       "4      95613     test    high    78.0\n",
       "...      ...      ...     ...     ...\n",
       "99995  60695  control     low    15.0\n",
       "99996   5934  control     low    16.0\n",
       "99997  30046  control     low    22.0\n",
       "99998  26474  control     low    21.0\n",
       "99999  42649  control     low    23.0\n",
       "\n",
       "[100000 rows x 4 columns]"
      ]
     },
     "execution_count": 17,
     "metadata": {},
     "output_type": "execute_result"
    }
   ],
   "source": [
    "exp2"
   ]
  },
  {
   "cell_type": "code",
   "execution_count": null,
   "metadata": {},
   "outputs": [],
   "source": []
  },
  {
   "cell_type": "code",
   "execution_count": 17,
   "metadata": {},
   "outputs": [
    {
     "name": "stdout",
     "output_type": "stream",
     "text": [
      "     group segment       mean  median       std\n",
      "0  control    high  59.970800    60.0  7.805347\n",
      "1  control     low  20.031575    20.0  4.473576\n",
      "2     test    high  69.938500    70.0  8.403974\n",
      "3     test     low  33.025925    33.0  5.720845\n",
      "\n",
      "Стандартное отклонение для контрольной группы и сегмента high: 7.81\n"
     ]
    }
   ],
   "source": [
    "# Группировка данных по 'group' и 'segment' и расчет средних значений, медиан и стандартного отклонения\n",
    "summary_stats = (\n",
    "    exp2.groupby(['group', 'segment'], as_index=False)\n",
    "    .agg(\n",
    "        mean=('events', 'mean'),\n",
    "        median=('events', 'median'),\n",
    "        std=('events', 'std')  # Стандартное отклонение\n",
    "    )\n",
    ")\n",
    "\n",
    "# Вывод результатов\n",
    "print(summary_stats)\n",
    "\n",
    "# Дополнительно: фильтрация для группы 'control' и сегмента 'high' для получения стандартного отклонения\n",
    "std_control_high = summary_stats[\n",
    "    (summary_stats['group'] == 'control') & (summary_stats['segment'] == 'high')\n",
    "]['std'].values[0]\n",
    "\n",
    "# Округление до двух знаков\n",
    "std_control_high_rounded = round(std_control_high, 2)\n",
    "print(f\"\\nСтандартное отклонение для контрольной группы и сегмента high: {std_control_high_rounded}\")"
   ]
  },
  {
   "cell_type": "code",
   "execution_count": 19,
   "metadata": {},
   "outputs": [
    {
     "data": {
      "text/html": [
       "<div>\n",
       "<style scoped>\n",
       "    .dataframe tbody tr th:only-of-type {\n",
       "        vertical-align: middle;\n",
       "    }\n",
       "\n",
       "    .dataframe tbody tr th {\n",
       "        vertical-align: top;\n",
       "    }\n",
       "\n",
       "    .dataframe thead th {\n",
       "        text-align: right;\n",
       "    }\n",
       "</style>\n",
       "<table border=\"1\" class=\"dataframe\">\n",
       "  <thead>\n",
       "    <tr style=\"text-align: right;\">\n",
       "      <th></th>\n",
       "      <th></th>\n",
       "      <th>count</th>\n",
       "      <th>mean</th>\n",
       "      <th>std</th>\n",
       "      <th>min</th>\n",
       "      <th>25%</th>\n",
       "      <th>50%</th>\n",
       "      <th>75%</th>\n",
       "      <th>max</th>\n",
       "    </tr>\n",
       "    <tr>\n",
       "      <th>group</th>\n",
       "      <th>segment</th>\n",
       "      <th></th>\n",
       "      <th></th>\n",
       "      <th></th>\n",
       "      <th></th>\n",
       "      <th></th>\n",
       "      <th></th>\n",
       "      <th></th>\n",
       "      <th></th>\n",
       "    </tr>\n",
       "  </thead>\n",
       "  <tbody>\n",
       "    <tr>\n",
       "      <th rowspan=\"2\" valign=\"top\">control</th>\n",
       "      <th>high</th>\n",
       "      <td>10000.0</td>\n",
       "      <td>59.970800</td>\n",
       "      <td>7.805347</td>\n",
       "      <td>31.0</td>\n",
       "      <td>55.0</td>\n",
       "      <td>60.0</td>\n",
       "      <td>65.0</td>\n",
       "      <td>89.0</td>\n",
       "    </tr>\n",
       "    <tr>\n",
       "      <th>low</th>\n",
       "      <td>40000.0</td>\n",
       "      <td>20.031575</td>\n",
       "      <td>4.473576</td>\n",
       "      <td>4.0</td>\n",
       "      <td>17.0</td>\n",
       "      <td>20.0</td>\n",
       "      <td>23.0</td>\n",
       "      <td>41.0</td>\n",
       "    </tr>\n",
       "    <tr>\n",
       "      <th rowspan=\"2\" valign=\"top\">test</th>\n",
       "      <th>high</th>\n",
       "      <td>10000.0</td>\n",
       "      <td>69.938500</td>\n",
       "      <td>8.403974</td>\n",
       "      <td>40.0</td>\n",
       "      <td>64.0</td>\n",
       "      <td>70.0</td>\n",
       "      <td>76.0</td>\n",
       "      <td>102.0</td>\n",
       "    </tr>\n",
       "    <tr>\n",
       "      <th>low</th>\n",
       "      <td>40000.0</td>\n",
       "      <td>33.025925</td>\n",
       "      <td>5.720845</td>\n",
       "      <td>13.0</td>\n",
       "      <td>29.0</td>\n",
       "      <td>33.0</td>\n",
       "      <td>37.0</td>\n",
       "      <td>59.0</td>\n",
       "    </tr>\n",
       "  </tbody>\n",
       "</table>\n",
       "</div>"
      ],
      "text/plain": [
       "                   count       mean       std   min   25%   50%   75%    max\n",
       "group   segment                                                             \n",
       "control high     10000.0  59.970800  7.805347  31.0  55.0  60.0  65.0   89.0\n",
       "        low      40000.0  20.031575  4.473576   4.0  17.0  20.0  23.0   41.0\n",
       "test    high     10000.0  69.938500  8.403974  40.0  64.0  70.0  76.0  102.0\n",
       "        low      40000.0  33.025925  5.720845  13.0  29.0  33.0  37.0   59.0"
      ]
     },
     "execution_count": 19,
     "metadata": {},
     "output_type": "execute_result"
    }
   ],
   "source": [
    "exp2.groupby(['group', 'segment'])['events'].describe()"
   ]
  },
  {
   "cell_type": "code",
   "execution_count": null,
   "metadata": {},
   "outputs": [],
   "source": []
  },
  {
   "cell_type": "code",
   "execution_count": 20,
   "metadata": {
    "scrolled": false
   },
   "outputs": [
    {
     "data": {
      "image/png": "[encoded data removed]",
      "text/plain": [
       "<Figure size 792x504 with 1 Axes>"
      ]
     },
     "metadata": {},
     "output_type": "display_data"
    }
   ],
   "source": [
    "plt.figure(figsize=(11, 7))\n",
    "sns.distplot(exp2.query(\"segment == 'low' & group == 'test'\")['events'],\n",
    "             label='test', kde=False, color=\"blue\")\n",
    "\n",
    "sns.distplot(exp2.query(\"segment == 'low' & group == 'control'\")['events'],\n",
    "             label='control', kde=False, color=\"red\")\n",
    "\n",
    "plt.title(\"Распределение событий для сегмента 'low'\")\n",
    "plt.legend()\n",
    "plt.show()"
   ]
  },
  {
   "cell_type": "markdown",
   "metadata": {},
   "source": [
    "\tОбщая цель графиков:\n",
    "\t\tВыявить различия в поведении пользователей из разных сегментов (high/low) при использовании тестовой и контрольной кнопок.\n",
    "\t\tЧто показывают графики:\n",
    "\t1.\tВ сегменте low тестовая группа демонстрирует явное увеличение метрики events по сравнению с контрольной.\n",
    "\t2.\tВ сегменте high различия между группами менее выражены, но тестовая группа также имеет немного больший показатель events."
   ]
  },
  {
   "cell_type": "code",
   "execution_count": 21,
   "metadata": {},
   "outputs": [
    {
     "data": {
      "image/png": "[encoded data removed]",
      "text/plain": [
       "<Figure size 792x504 with 1 Axes>"
      ]
     },
     "metadata": {},
     "output_type": "display_data"
    }
   ],
   "source": [
    "plt.figure(figsize=(11, 7))\n",
    "sns.distplot(exp2.query(\"group == 'test' & segment == 'high'\")['events'],\n",
    "             label='test', kde=False, color=\"blue\")\n",
    "\n",
    "sns.distplot(exp2.query(\"group == 'control' & segment == 'high'\")['events'],\n",
    "             label='control', kde=False, color=\"red\")\n",
    "\n",
    "plt.title(\"Распределение событий для сегмента 'high'\")\n",
    "plt.legend()\n",
    "plt.show()"
   ]
  },
  {
   "cell_type": "markdown",
   "metadata": {},
   "source": [
    "Вывод по графикам\n",
    "\n",
    "\t\tПрактическая значимость:\n",
    "\t\tСегмент low показывает значительный прирост событий в тестовой группе, что указывает на положительное влияние новой кнопки.\n",
    "        \n",
    "\t\tДля сегмента high эффекты менее выражены, но в тестовой группе наблюдаются незначительные улучшения"
   ]
  },
  {
   "cell_type": "code",
   "execution_count": 23,
   "metadata": {},
   "outputs": [
    {
     "data": {
      "text/html": [
       "<div>\n",
       "<style scoped>\n",
       "    .dataframe tbody tr th:only-of-type {\n",
       "        vertical-align: middle;\n",
       "    }\n",
       "\n",
       "    .dataframe tbody tr th {\n",
       "        vertical-align: top;\n",
       "    }\n",
       "\n",
       "    .dataframe thead th {\n",
       "        text-align: right;\n",
       "    }\n",
       "</style>\n",
       "<table border=\"1\" class=\"dataframe\">\n",
       "  <thead>\n",
       "    <tr style=\"text-align: right;\">\n",
       "      <th></th>\n",
       "      <th>id</th>\n",
       "      <th>group</th>\n",
       "      <th>segment</th>\n",
       "      <th>events</th>\n",
       "    </tr>\n",
       "  </thead>\n",
       "  <tbody>\n",
       "    <tr>\n",
       "      <th>0</th>\n",
       "      <td>83440</td>\n",
       "      <td>test</td>\n",
       "      <td>high</td>\n",
       "      <td>78.0</td>\n",
       "    </tr>\n",
       "    <tr>\n",
       "      <th>1</th>\n",
       "      <td>96723</td>\n",
       "      <td>test</td>\n",
       "      <td>high</td>\n",
       "      <td>71.0</td>\n",
       "    </tr>\n",
       "    <tr>\n",
       "      <th>2</th>\n",
       "      <td>68719</td>\n",
       "      <td>test</td>\n",
       "      <td>high</td>\n",
       "      <td>80.0</td>\n",
       "    </tr>\n",
       "    <tr>\n",
       "      <th>3</th>\n",
       "      <td>50399</td>\n",
       "      <td>test</td>\n",
       "      <td>high</td>\n",
       "      <td>80.0</td>\n",
       "    </tr>\n",
       "    <tr>\n",
       "      <th>4</th>\n",
       "      <td>95613</td>\n",
       "      <td>test</td>\n",
       "      <td>high</td>\n",
       "      <td>78.0</td>\n",
       "    </tr>\n",
       "  </tbody>\n",
       "</table>\n",
       "</div>"
      ],
      "text/plain": [
       "      id group segment  events\n",
       "0  83440  test    high    78.0\n",
       "1  96723  test    high    71.0\n",
       "2  68719  test    high    80.0\n",
       "3  50399  test    high    80.0\n",
       "4  95613  test    high    78.0"
      ]
     },
     "execution_count": 23,
     "metadata": {},
     "output_type": "execute_result"
    }
   ],
   "source": [
    "exp2.head()"
   ]
  },
  {
   "cell_type": "markdown",
   "metadata": {},
   "source": [
    "ANOVA-анализ с учетом взаимодействия факторов"
   ]
  },
  {
   "cell_type": "markdown",
   "metadata": {},
   "source": [
    "Проверим, как два фактора (group - тест/контроль, segment - high/low) влияют на метрику events"
   ]
  },
  {
   "cell_type": "code",
   "execution_count": 28,
   "metadata": {
    "scrolled": true
   },
   "outputs": [
    {
     "name": "stdout",
     "output_type": "stream",
     "text": [
      "            Source            SS       DF            MS              F  \\\n",
      "0            group  3.837195e+06      1.0  3.837195e+06  112031.864119   \n",
      "1          segment  2.362480e+07      1.0  2.362480e+07  689756.377484   \n",
      "2  group * segment  3.664244e+04      1.0  3.664244e+04    1069.823273   \n",
      "3         Residual  3.424956e+06  99996.0  3.425093e+01            NaN   \n",
      "\n",
      "           p-unc       np2  \n",
      "0   0.000000e+00  0.528383  \n",
      "1   0.000000e+00  0.873383  \n",
      "2  2.060261e-233  0.010585  \n",
      "3            NaN       NaN  \n"
     ]
    }
   ],
   "source": [
    "anova_results = pg.anova(data=exp2, dv='events', between=['group', 'segment'])\n",
    "print(anova_results)"
   ]
  },
  {
   "cell_type": "markdown",
   "metadata": {},
   "source": [
    "Основные показатели, на которые стоит обратить внимание:\n",
    "\t1.\tP-value (p-unc):\n",
    "\t•\tЕсли значение p-unc меньше 0.05, то фактор или взаимодействие факторов считаются статистически значимыми.\n",
    "\t•\tВ данном случае все три источника (group, segment, group * segment) имеют p-unc = 0.0000, что указывает на их значимое влияние на метрику events.\n",
    "    \n",
    "\t2.\tЧастичный η² (np2):\n",
    "\t•\tПоказывает, насколько сильно фактор влияет на метрику:\n",
    "\t•\tgroup (np2 = 0.528): Высокий эффект — около 53% дисперсии объясняется фактором тест/контроль.\n",
    "\t•\tsegment (np2 = 0.873): Очень сильный эффект — около 87% дисперсии объясняется сегментом low/high.\n",
    "\t•\tgroup * segment (np2 = 0.011): Умеренный эффект взаимодействия (около 1.1%).\n",
    "    \n",
    "\t3.\tF-статистика (F):\n",
    "\t•\tЧем выше значение F, тем сильнее влияние фактора на метрику.\n",
    "\t•\tВажно учитывать совместно с p-value, чтобы понять значимость фактора.\n",
    "\n",
    "Комментарий:\n",
    "\t•\tЗначения p-unc подтверждают значимость факторов, поэтому они должны быть учтены при принятии решений.\n",
    "\t•\tВысокое значение η² у сегмента (segment) указывает на то, что данный фактор имеет ключевое влияние на поведение пользователей.\n",
    "\t•\tУмеренный размер эффекта взаимодействия (group * segment) указывает на то, что тестовая кнопка может по-разному влиять на сегменты low и high.\n",
    "    \n",
    "Нам надо:\n",
    "\n",
    "\t•\tРазработать отдельные стратегии для каждого сегмента (low/high).\n",
    "\t•\tТестовая кнопка может быть особенно эффективной для пользователей из сегмента low."
   ]
  },
  {
   "cell_type": "code",
   "execution_count": 29,
   "metadata": {
    "scrolled": false
   },
   "outputs": [
    {
     "data": {
      "text/html": [
       "<table class=\"simpletable\">\n",
       "<caption>OLS Regression Results</caption>\n",
       "<tr>\n",
       "  <th>Dep. Variable:</th>         <td>events</td>      <th>  R-squared:         </th>  <td>   0.889</td>  \n",
       "</tr>\n",
       "<tr>\n",
       "  <th>Model:</th>                   <td>OLS</td>       <th>  Adj. R-squared:    </th>  <td>   0.889</td>  \n",
       "</tr>\n",
       "<tr>\n",
       "  <th>Method:</th>             <td>Least Squares</td>  <th>  F-statistic:       </th>  <td>2.676e+05</td> \n",
       "</tr>\n",
       "<tr>\n",
       "  <th>Date:</th>             <td>Fri, 20 Dec 2024</td> <th>  Prob (F-statistic):</th>   <td>  0.00</td>   \n",
       "</tr>\n",
       "<tr>\n",
       "  <th>Time:</th>                 <td>13:08:51</td>     <th>  Log-Likelihood:    </th> <td>-3.1858e+05</td>\n",
       "</tr>\n",
       "<tr>\n",
       "  <th>No. Observations:</th>      <td>100000</td>      <th>  AIC:               </th>  <td>6.372e+05</td> \n",
       "</tr>\n",
       "<tr>\n",
       "  <th>Df Residuals:</th>          <td> 99996</td>      <th>  BIC:               </th>  <td>6.372e+05</td> \n",
       "</tr>\n",
       "<tr>\n",
       "  <th>Df Model:</th>              <td>     3</td>      <th>                     </th>      <td> </td>     \n",
       "</tr>\n",
       "<tr>\n",
       "  <th>Covariance Type:</th>      <td>nonrobust</td>    <th>                     </th>      <td> </td>     \n",
       "</tr>\n",
       "</table>\n",
       "<table class=\"simpletable\">\n",
       "<tr>\n",
       "                <td></td>                  <th>coef</th>     <th>std err</th>      <th>t</th>      <th>P>|t|</th>  <th>[0.025</th>    <th>0.975]</th>  \n",
       "</tr>\n",
       "<tr>\n",
       "  <th>Intercept</th>                    <td>   59.9708</td> <td>    0.059</td> <td> 1024.716</td> <td> 0.000</td> <td>   59.856</td> <td>   60.086</td>\n",
       "</tr>\n",
       "<tr>\n",
       "  <th>segment[T.low]</th>               <td>  -39.9392</td> <td>    0.065</td> <td> -610.391</td> <td> 0.000</td> <td>  -40.067</td> <td>  -39.811</td>\n",
       "</tr>\n",
       "<tr>\n",
       "  <th>group[T.test]</th>                <td>    9.9677</td> <td>    0.083</td> <td>  120.433</td> <td> 0.000</td> <td>    9.805</td> <td>   10.130</td>\n",
       "</tr>\n",
       "<tr>\n",
       "  <th>segment[T.low]:group[T.test]</th> <td>    3.0266</td> <td>    0.093</td> <td>   32.708</td> <td> 0.000</td> <td>    2.845</td> <td>    3.208</td>\n",
       "</tr>\n",
       "</table>\n",
       "<table class=\"simpletable\">\n",
       "<tr>\n",
       "  <th>Omnibus:</th>       <td>1696.036</td> <th>  Durbin-Watson:     </th> <td>   2.007</td>\n",
       "</tr>\n",
       "<tr>\n",
       "  <th>Prob(Omnibus):</th>  <td> 0.000</td>  <th>  Jarque-Bera (JB):  </th> <td>2790.624</td>\n",
       "</tr>\n",
       "<tr>\n",
       "  <th>Skew:</th>           <td> 0.157</td>  <th>  Prob(JB):          </th> <td>    0.00</td>\n",
       "</tr>\n",
       "<tr>\n",
       "  <th>Kurtosis:</th>       <td> 3.756</td>  <th>  Cond. No.          </th> <td>    11.2</td>\n",
       "</tr>\n",
       "</table><br/><br/>Notes:<br/>[1] Standard Errors assume that the covariance matrix of the errors is correctly specified."
      ],
      "text/plain": [
       "<class 'statsmodels.iolib.summary.Summary'>\n",
       "\"\"\"\n",
       "                            OLS Regression Results                            \n",
       "==============================================================================\n",
       "Dep. Variable:                 events   R-squared:                       0.889\n",
       "Model:                            OLS   Adj. R-squared:                  0.889\n",
       "Method:                 Least Squares   F-statistic:                 2.676e+05\n",
       "Date:                Fri, 20 Dec 2024   Prob (F-statistic):               0.00\n",
       "Time:                        13:08:51   Log-Likelihood:            -3.1858e+05\n",
       "No. Observations:              100000   AIC:                         6.372e+05\n",
       "Df Residuals:                   99996   BIC:                         6.372e+05\n",
       "Df Model:                           3                                         \n",
       "Covariance Type:            nonrobust                                         \n",
       "================================================================================================\n",
       "                                   coef    std err          t      P>|t|      [0.025      0.975]\n",
       "------------------------------------------------------------------------------------------------\n",
       "Intercept                       59.9708      0.059   1024.716      0.000      59.856      60.086\n",
       "segment[T.low]                 -39.9392      0.065   -610.391      0.000     -40.067     -39.811\n",
       "group[T.test]                    9.9677      0.083    120.433      0.000       9.805      10.130\n",
       "segment[T.low]:group[T.test]     3.0266      0.093     32.708      0.000       2.845       3.208\n",
       "==============================================================================\n",
       "Omnibus:                     1696.036   Durbin-Watson:                   2.007\n",
       "Prob(Omnibus):                  0.000   Jarque-Bera (JB):             2790.624\n",
       "Skew:                           0.157   Prob(JB):                         0.00\n",
       "Kurtosis:                       3.756   Cond. No.                         11.2\n",
       "==============================================================================\n",
       "\n",
       "Notes:\n",
       "[1] Standard Errors assume that the covariance matrix of the errors is correctly specified.\n",
       "\"\"\""
      ]
     },
     "execution_count": 29,
     "metadata": {},
     "output_type": "execute_result"
    }
   ],
   "source": [
    "# Создание модели с учетом взаимодействий\n",
    "model = smf.ols(formula='events ~ segment + group + segment:group', data=exp2).fit()\n",
    "\n",
    "# Вывод результатов\n",
    "model.summary()"
   ]
  },
  {
   "cell_type": "code",
   "execution_count": null,
   "metadata": {},
   "outputs": [],
   "source": []
  },
  {
   "cell_type": "markdown",
   "metadata": {},
   "source": [
    "Краткие объяснения ключевых показателей модели регрессии\n",
    "\t1.\tR-squared и Adj. R-squared:\n",
    "\t\tR-squared (0.889): Означает, что модель объясняет 88.9% дисперсии метрики events.\n",
    "\t\tAdj. R-squared: Учитывает количество предикторов и подтверждает, что модель хорошо объясняет данные, избегая переобучения.\n",
    "\t2.\tF-statistic и Prob (F-statistic):\n",
    "\t\tF-statistic (2.676e+05): Высокое значение указывает на значимость всей модели.\n",
    "\t\tProb (F-statistic) = 0.00: Говорит о том, что модель статистически значима.\n",
    "\t3.\tКоэффициенты (coef):\n",
    "\t\tIntercept (59.97): Среднее значение метрики events для контрольной группы сегмента high.\n",
    "\t\tsegment[T.low] (-39.94): Указывает на снижение events на ~40 для сегмента low относительно high.\n",
    "\t\tgroup[T.test] (9.96): Тестовая кнопка увеличивает events на ~10 по сравнению с контрольной.\n",
    "\t\tsegment[T.low]:group[T.test] (3.03): Взаимодействие сегмента low и тестовой кнопки добавляет ещё ~3 к events.\n",
    "\t4.\tP>|t|:\n",
    "\t\tЗначения всех коэффициентов имеют P>|t| = 0.000, что говорит о статистической значимости всех факторов и их взаимодействия.\n",
    "\t5.\tМетрики качества модели:\n",
    "\t\tAIC и BIC (6.372e+05): Используются для сравнения моделей. Меньшие значения лучше.\n",
    "\t\tDurbin-Watson (2.007): Указывает на отсутствие автокорреляции остатков (близко к 2 — хорошо).\n",
    "\n",
    "Вывод\n",
    "\t\tСегмент: Важен для прогнозирования, так как сегмент low показывает снижение events на ~40 по сравнению с high.\n",
    "\t\tКнопка: Тестовая кнопка положительно влияет на events, увеличивая их на ~10.\n",
    "\t\tВзаимодействие: Для сегмента low тестовая кнопка дополнительно увеличивает events на ~3.\n",
    "\t\tМодель: Статистически значима, с высоким качеством объяснения данных (R-squared = 88.9%)."
   ]
  },
  {
   "cell_type": "code",
   "execution_count": null,
   "metadata": {},
   "outputs": [],
   "source": []
  },
  {
   "cell_type": "code",
   "execution_count": 30,
   "metadata": {
    "scrolled": true
   },
   "outputs": [
    {
     "name": "stdout",
     "output_type": "stream",
     "text": [
      "                     sum_sq       df              F         PR(>F)\n",
      "segment        2.362480e+07      1.0  689756.377484   0.000000e+00\n",
      "group          3.837195e+06      1.0  112031.864119   0.000000e+00\n",
      "segment:group  3.664244e+04      1.0    1069.823273  2.060261e-233\n",
      "Residual       3.424956e+06  99996.0            NaN            NaN\n"
     ]
    }
   ],
   "source": [
    "# Построение модели\n",
    "model = smf.ols(formula='events ~ segment + group + segment:group', data=exp2).fit()\n",
    "\n",
    "# Проведение ANOVA\n",
    "anova_table = sm.stats.anova_lm(model, typ=2)\n",
    "print(anova_table)"
   ]
  },
  {
   "cell_type": "code",
   "execution_count": null,
   "metadata": {},
   "outputs": [],
   "source": []
  },
  {
   "cell_type": "markdown",
   "metadata": {},
   "source": [
    "Что означают ключевые показатели в таблице ANOVA?\n",
    "\n",
    "\t\tsum_sq (Sum of Squares): Сумма квадратов отклонений, отражающая вклад каждого фактора в вариацию зависимой переменной.\n",
    "        \n",
    "\t\tdf (Degrees of Freedom): Число степеней свободы для каждого фактора.\n",
    "        \n",
    "\t\tF: Значение F-статистики, показывающее, насколько значим вклад фактора.\n",
    "        \n",
    "\t\tPR(>F) (p-value): Вероятность получения такого значения F-статистики при условии, что эффект отсутствует.\n",
    "        \n",
    "\t\tЕсли p-value < 0.05, фактор считается статистически значимым."
   ]
  },
  {
   "cell_type": "code",
   "execution_count": 33,
   "metadata": {
    "scrolled": true
   },
   "outputs": [
    {
     "data": {
      "text/html": [
       "<div>\n",
       "<style scoped>\n",
       "    .dataframe tbody tr th:only-of-type {\n",
       "        vertical-align: middle;\n",
       "    }\n",
       "\n",
       "    .dataframe tbody tr th {\n",
       "        vertical-align: top;\n",
       "    }\n",
       "\n",
       "    .dataframe thead th {\n",
       "        text-align: right;\n",
       "    }\n",
       "</style>\n",
       "<table border=\"1\" class=\"dataframe\">\n",
       "  <thead>\n",
       "    <tr style=\"text-align: right;\">\n",
       "      <th></th>\n",
       "      <th>Source</th>\n",
       "      <th>SS</th>\n",
       "      <th>DF</th>\n",
       "      <th>MS</th>\n",
       "      <th>F</th>\n",
       "      <th>p-unc</th>\n",
       "      <th>np2</th>\n",
       "    </tr>\n",
       "  </thead>\n",
       "  <tbody>\n",
       "    <tr>\n",
       "      <th>0</th>\n",
       "      <td>segment</td>\n",
       "      <td>2.362480e+07</td>\n",
       "      <td>1.0</td>\n",
       "      <td>2.362480e+07</td>\n",
       "      <td>689756.377484</td>\n",
       "      <td>0.000000e+00</td>\n",
       "      <td>0.873383</td>\n",
       "    </tr>\n",
       "    <tr>\n",
       "      <th>1</th>\n",
       "      <td>group</td>\n",
       "      <td>3.837195e+06</td>\n",
       "      <td>1.0</td>\n",
       "      <td>3.837195e+06</td>\n",
       "      <td>112031.864119</td>\n",
       "      <td>0.000000e+00</td>\n",
       "      <td>0.528383</td>\n",
       "    </tr>\n",
       "    <tr>\n",
       "      <th>2</th>\n",
       "      <td>segment * group</td>\n",
       "      <td>3.664244e+04</td>\n",
       "      <td>1.0</td>\n",
       "      <td>3.664244e+04</td>\n",
       "      <td>1069.823273</td>\n",
       "      <td>2.060261e-233</td>\n",
       "      <td>0.010585</td>\n",
       "    </tr>\n",
       "    <tr>\n",
       "      <th>3</th>\n",
       "      <td>Residual</td>\n",
       "      <td>3.424956e+06</td>\n",
       "      <td>99996.0</td>\n",
       "      <td>3.425093e+01</td>\n",
       "      <td>NaN</td>\n",
       "      <td>NaN</td>\n",
       "      <td>NaN</td>\n",
       "    </tr>\n",
       "  </tbody>\n",
       "</table>\n",
       "</div>"
      ],
      "text/plain": [
       "            Source            SS       DF            MS              F  \\\n",
       "0          segment  2.362480e+07      1.0  2.362480e+07  689756.377484   \n",
       "1            group  3.837195e+06      1.0  3.837195e+06  112031.864119   \n",
       "2  segment * group  3.664244e+04      1.0  3.664244e+04    1069.823273   \n",
       "3         Residual  3.424956e+06  99996.0  3.425093e+01            NaN   \n",
       "\n",
       "           p-unc       np2  \n",
       "0   0.000000e+00  0.873383  \n",
       "1   0.000000e+00  0.528383  \n",
       "2  2.060261e-233  0.010585  \n",
       "3            NaN       NaN  "
      ]
     },
     "execution_count": 33,
     "metadata": {},
     "output_type": "execute_result"
    }
   ],
   "source": [
    "# pingouin\n",
    "pg.anova( data = exp2, dv = 'events', between = ['segment', 'group'] )"
   ]
  },
  {
   "cell_type": "markdown",
   "metadata": {},
   "source": [
    "Выводы из таблицы:\n",
    "\t1.\tsegment:\n",
    "\t\tЗначение p-value: 0.000000e+00.\n",
    "\t\tЭто означает, что сегмент пользователя существенно влияет на количество событий.\n",
    "\t2.\tgroup:\n",
    "\t\tЗначение p-value: 0.000000e+00.\n",
    "\t\tЭто подтверждает значительное влияние группы кнопки на количество событий.\n",
    "\t3.\tsegment:group (взаимодействие):\n",
    "\t\tЗначение p-value: 2.060261e-233.\n",
    "\t\tЭто указывает на то, что взаимодействие между сегментом пользователя и группой кнопки также значимо."
   ]
  },
  {
   "cell_type": "code",
   "execution_count": null,
   "metadata": {},
   "outputs": [],
   "source": []
  },
  {
   "cell_type": "code",
   "execution_count": 36,
   "metadata": {},
   "outputs": [
    {
     "name": "stdout",
     "output_type": "stream",
     "text": [
      "      Multiple Comparison of Means - Tukey HSD, FWER=0.05       \n",
      "================================================================\n",
      "   group1       group2   meandiff p-adj  lower    upper   reject\n",
      "----------------------------------------------------------------\n",
      "control/high control/low -39.9392 0.001 -40.1073 -39.7711   True\n",
      "control/high   test/high   9.9677 0.001   9.7551  10.1803   True\n",
      "control/high    test/low -26.9449 0.001  -27.113 -26.7768   True\n",
      " control/low   test/high  49.9069 0.001  49.7388   50.075   True\n",
      " control/low    test/low  12.9944 0.001   12.888  13.1007   True\n",
      "   test/high    test/low -36.9126 0.001 -37.0807 -36.7445   True\n",
      "----------------------------------------------------------------\n"
     ]
    },
    {
     "data": {
      "text/html": [
       "<div>\n",
       "<style scoped>\n",
       "    .dataframe tbody tr th:only-of-type {\n",
       "        vertical-align: middle;\n",
       "    }\n",
       "\n",
       "    .dataframe tbody tr th {\n",
       "        vertical-align: top;\n",
       "    }\n",
       "\n",
       "    .dataframe thead th {\n",
       "        text-align: right;\n",
       "    }\n",
       "</style>\n",
       "<table border=\"1\" class=\"dataframe\">\n",
       "  <thead>\n",
       "    <tr style=\"text-align: right;\">\n",
       "      <th></th>\n",
       "      <th>group1</th>\n",
       "      <th>group2</th>\n",
       "      <th>meandiff</th>\n",
       "      <th>p-adj</th>\n",
       "      <th>lower</th>\n",
       "      <th>upper</th>\n",
       "      <th>reject</th>\n",
       "    </tr>\n",
       "  </thead>\n",
       "  <tbody>\n",
       "    <tr>\n",
       "      <th>0</th>\n",
       "      <td>control/high</td>\n",
       "      <td>control/low</td>\n",
       "      <td>-39.9392</td>\n",
       "      <td>0.001</td>\n",
       "      <td>-40.1073</td>\n",
       "      <td>-39.7711</td>\n",
       "      <td>True</td>\n",
       "    </tr>\n",
       "    <tr>\n",
       "      <th>1</th>\n",
       "      <td>control/high</td>\n",
       "      <td>test/high</td>\n",
       "      <td>9.9677</td>\n",
       "      <td>0.001</td>\n",
       "      <td>9.7551</td>\n",
       "      <td>10.1803</td>\n",
       "      <td>True</td>\n",
       "    </tr>\n",
       "    <tr>\n",
       "      <th>2</th>\n",
       "      <td>control/high</td>\n",
       "      <td>test/low</td>\n",
       "      <td>-26.9449</td>\n",
       "      <td>0.001</td>\n",
       "      <td>-27.1130</td>\n",
       "      <td>-26.7768</td>\n",
       "      <td>True</td>\n",
       "    </tr>\n",
       "    <tr>\n",
       "      <th>3</th>\n",
       "      <td>control/low</td>\n",
       "      <td>test/high</td>\n",
       "      <td>49.9069</td>\n",
       "      <td>0.001</td>\n",
       "      <td>49.7388</td>\n",
       "      <td>50.0750</td>\n",
       "      <td>True</td>\n",
       "    </tr>\n",
       "    <tr>\n",
       "      <th>4</th>\n",
       "      <td>control/low</td>\n",
       "      <td>test/low</td>\n",
       "      <td>12.9944</td>\n",
       "      <td>0.001</td>\n",
       "      <td>12.8880</td>\n",
       "      <td>13.1007</td>\n",
       "      <td>True</td>\n",
       "    </tr>\n",
       "    <tr>\n",
       "      <th>5</th>\n",
       "      <td>test/high</td>\n",
       "      <td>test/low</td>\n",
       "      <td>-36.9126</td>\n",
       "      <td>0.001</td>\n",
       "      <td>-37.0807</td>\n",
       "      <td>-36.7445</td>\n",
       "      <td>True</td>\n",
       "    </tr>\n",
       "  </tbody>\n",
       "</table>\n",
       "</div>"
      ],
      "text/plain": [
       "         group1       group2  meandiff  p-adj    lower    upper  reject\n",
       "0  control/high  control/low  -39.9392  0.001 -40.1073 -39.7711    True\n",
       "1  control/high    test/high    9.9677  0.001   9.7551  10.1803    True\n",
       "2  control/high     test/low  -26.9449  0.001 -27.1130 -26.7768    True\n",
       "3   control/low    test/high   49.9069  0.001  49.7388  50.0750    True\n",
       "4   control/low     test/low   12.9944  0.001  12.8880  13.1007    True\n",
       "5     test/high     test/low  -36.9126  0.001 -37.0807 -36.7445    True"
      ]
     },
     "metadata": {},
     "output_type": "display_data"
    }
   ],
   "source": [
    "# Создаем новую колонку combination для комбинаций group и segment\n",
    "exp2['combination'] = exp2['group'] + '/' + exp2['segment']\n",
    "\n",
    "# Применяем pairwise_tukey для проверки статистически значимых различий\n",
    "# Выполняем тест\n",
    "tukey_results = pairwise_tukeyhsd(\n",
    "    endog = exp2['events'],  # Зависимая переменная\n",
    "    groups = exp2['combination'],  # Группы (combination)\n",
    "    alpha = 0.05  # Уровень значимости\n",
    ")\n",
    "\n",
    "# Печатаем результаты\n",
    "print(tukey_results)\n",
    "\n",
    "# Вывод таблицы результатов\n",
    "tukey_summary = pd.DataFrame(data = tukey_results.summary().data[1:],\n",
    "                             columns = tukey_results.summary().data[0])\n",
    "display(tukey_summary)"
   ]
  },
  {
   "cell_type": "markdown",
   "metadata": {},
   "source": [
    "Что ищем в результатах:\n",
    "\t1.\tMean Difference (meandiff): разницу между средними значениями двух групп.\n",
    "\t2.\tp-adj: скорректированное p-значение. Если оно меньше 0.05, то различие значимо.\n",
    "\t3.\tReject: True, если различие значимо, и False, если нет."
   ]
  },
  {
   "cell_type": "markdown",
   "metadata": {},
   "source": [
    "Доверительные интервалы (lower/upper):\n",
    "\t\n",
    "    Доверительные интервалы не содержат нуля, что подтверждает наличие статистически значимых различий между группами.\n",
    "\n",
    "Вывод:\n",
    "\t\n",
    "    Результаты показывают, что изменения в группе и сегменте (low/high) существенно влияют на количество событий.\n",
    "\t\n",
    "    На основании meandiff и доверительных интервалов, можно сказать, что наибольшее влияние на метрику оказывает сегмент high и группы с изменённым форматом (например, test/high)."
   ]
  },
  {
   "cell_type": "code",
   "execution_count": 37,
   "metadata": {
    "scrolled": true
   },
   "outputs": [
    {
     "data": {
      "text/html": [
       "<div>\n",
       "<style scoped>\n",
       "    .dataframe tbody tr th:only-of-type {\n",
       "        vertical-align: middle;\n",
       "    }\n",
       "\n",
       "    .dataframe tbody tr th {\n",
       "        vertical-align: top;\n",
       "    }\n",
       "\n",
       "    .dataframe thead th {\n",
       "        text-align: right;\n",
       "    }\n",
       "</style>\n",
       "<table border=\"1\" class=\"dataframe\">\n",
       "  <thead>\n",
       "    <tr style=\"text-align: right;\">\n",
       "      <th></th>\n",
       "      <th>A</th>\n",
       "      <th>B</th>\n",
       "      <th>mean(A)</th>\n",
       "      <th>mean(B)</th>\n",
       "      <th>diff</th>\n",
       "      <th>se</th>\n",
       "      <th>T</th>\n",
       "      <th>p-tukey</th>\n",
       "      <th>hedges</th>\n",
       "    </tr>\n",
       "  </thead>\n",
       "  <tbody>\n",
       "    <tr>\n",
       "      <th>0</th>\n",
       "      <td>control/high</td>\n",
       "      <td>control/low</td>\n",
       "      <td>59.970800</td>\n",
       "      <td>20.031575</td>\n",
       "      <td>39.939225</td>\n",
       "      <td>0.065432</td>\n",
       "      <td>610.391461</td>\n",
       "      <td>0.001</td>\n",
       "      <td>6.824282</td>\n",
       "    </tr>\n",
       "    <tr>\n",
       "      <th>1</th>\n",
       "      <td>control/high</td>\n",
       "      <td>test/high</td>\n",
       "      <td>59.970800</td>\n",
       "      <td>69.938500</td>\n",
       "      <td>-9.967700</td>\n",
       "      <td>0.082766</td>\n",
       "      <td>-120.432523</td>\n",
       "      <td>0.001</td>\n",
       "      <td>-1.703109</td>\n",
       "    </tr>\n",
       "    <tr>\n",
       "      <th>2</th>\n",
       "      <td>control/high</td>\n",
       "      <td>test/low</td>\n",
       "      <td>59.970800</td>\n",
       "      <td>33.025925</td>\n",
       "      <td>26.944875</td>\n",
       "      <td>0.065432</td>\n",
       "      <td>411.798717</td>\n",
       "      <td>0.001</td>\n",
       "      <td>4.603981</td>\n",
       "    </tr>\n",
       "    <tr>\n",
       "      <th>3</th>\n",
       "      <td>control/low</td>\n",
       "      <td>test/high</td>\n",
       "      <td>20.031575</td>\n",
       "      <td>69.938500</td>\n",
       "      <td>-49.906925</td>\n",
       "      <td>0.065432</td>\n",
       "      <td>-762.727892</td>\n",
       "      <td>0.001</td>\n",
       "      <td>-8.527429</td>\n",
       "    </tr>\n",
       "    <tr>\n",
       "      <th>4</th>\n",
       "      <td>control/low</td>\n",
       "      <td>test/low</td>\n",
       "      <td>20.031575</td>\n",
       "      <td>33.025925</td>\n",
       "      <td>-12.994350</td>\n",
       "      <td>0.041383</td>\n",
       "      <td>-314.002699</td>\n",
       "      <td>0.001</td>\n",
       "      <td>-2.220314</td>\n",
       "    </tr>\n",
       "    <tr>\n",
       "      <th>5</th>\n",
       "      <td>test/high</td>\n",
       "      <td>test/low</td>\n",
       "      <td>69.938500</td>\n",
       "      <td>33.025925</td>\n",
       "      <td>36.912575</td>\n",
       "      <td>0.065432</td>\n",
       "      <td>564.135148</td>\n",
       "      <td>0.001</td>\n",
       "      <td>6.307128</td>\n",
       "    </tr>\n",
       "  </tbody>\n",
       "</table>\n",
       "</div>"
      ],
      "text/plain": [
       "              A            B    mean(A)    mean(B)       diff        se  \\\n",
       "0  control/high  control/low  59.970800  20.031575  39.939225  0.065432   \n",
       "1  control/high    test/high  59.970800  69.938500  -9.967700  0.082766   \n",
       "2  control/high     test/low  59.970800  33.025925  26.944875  0.065432   \n",
       "3   control/low    test/high  20.031575  69.938500 -49.906925  0.065432   \n",
       "4   control/low     test/low  20.031575  33.025925 -12.994350  0.041383   \n",
       "5     test/high     test/low  69.938500  33.025925  36.912575  0.065432   \n",
       "\n",
       "            T  p-tukey    hedges  \n",
       "0  610.391461    0.001  6.824282  \n",
       "1 -120.432523    0.001 -1.703109  \n",
       "2  411.798717    0.001  4.603981  \n",
       "3 -762.727892    0.001 -8.527429  \n",
       "4 -314.002699    0.001 -2.220314  \n",
       "5  564.135148    0.001  6.307128  "
      ]
     },
     "execution_count": 37,
     "metadata": {},
     "output_type": "execute_result"
    }
   ],
   "source": [
    "pg.pairwise_tukey(data = exp2, dv = 'events', between = 'combination')"
   ]
  },
  {
   "cell_type": "code",
   "execution_count": null,
   "metadata": {},
   "outputs": [],
   "source": []
  },
  {
   "cell_type": "markdown",
   "metadata": {},
   "source": [
    "PointPlot показывает тренд среднего значения и позволяет оценить влияние факторов group и segment.\n",
    "\n",
    "BoxPlot демонстрирует вариативность данных, медианы и выбросы, что важно для понимания устойчивости изменений."
   ]
  },
  {
   "cell_type": "code",
   "execution_count": 38,
   "metadata": {},
   "outputs": [
    {
     "data": {
      "image/png": "[encoded data removed]",
      "text/plain": [
       "<Figure size 576x396 with 1 Axes>"
      ]
     },
     "metadata": {},
     "output_type": "display_data"
    }
   ],
   "source": [
    "# PointPlot: Среднее значение метрики events для каждой группы (test и control), разделённой на сегменты (high и low)\n",
    "sns.pointplot(\n",
    "    x='group', y='events', hue='segment', data=exp2, capsize=0.1\n",
    ")\n",
    "plt.xlabel(\"Группа\")  # Подпись для оси X\n",
    "plt.ylabel(\"Число покупок\")  # Подпись для оси Y\n",
    "plt.title(\"Средние значения числа покупок в зависимости от группы и сегмента\")  # Заголовок графика\n",
    "plt.show()"
   ]
  },
  {
   "cell_type": "markdown",
   "metadata": {},
   "source": [
    "    Этот график иллюстрирует среднее значение метрики events для каждой группы (test и control), разделённой на сегменты (high и low).\n",
    "    Видно, что в тестовой группе (test) наблюдается более высокое значение метрики, особенно в сегменте high, что может свидетельствовать о положительном эффекте новой версии кнопки для данной категории пользователей.\n",
    "    Сегмент low показывает менее выраженный рост, но тенденция также положительная."
   ]
  },
  {
   "cell_type": "code",
   "execution_count": 39,
   "metadata": {},
   "outputs": [
    {
     "data": {
      "image/png": "[encoded data removed]",
      "text/plain": [
       "<Figure size 576x396 with 1 Axes>"
      ]
     },
     "metadata": {},
     "output_type": "display_data"
    }
   ],
   "source": [
    "# BoxPlot: Распределение значений метрики events для каждой комбинации группы (test, control) и сегмента (high, low)\n",
    "sns.boxplot(\n",
    "    x='group', y='events', hue='segment', data=exp2\n",
    ")\n",
    "plt.xlabel(\"Группа\")  # Подпись для оси X\n",
    "plt.ylabel(\"Число покупок\")  # Подпись для оси Y\n",
    "plt.title(\"Распределение числа покупок в зависимости от группы и сегмента\")  # Заголовок графика\n",
    "plt.show()"
   ]
  },
  {
   "cell_type": "markdown",
   "metadata": {},
   "source": [
    "BoxPlot \n",
    "    Позволяет визуализировать распределение значений метрики events для каждой комбинации группы (test, control) и сегмента (high, low).\n",
    "    \n",
    "\tВ сегменте high медианы значений значительно выше в тестовой группе, а распределение имеет меньшую вариативность.\n",
    "    \n",
    "\tВ сегменте low также видно улучшение в тестовой группе, хотя разброс данных больше."
   ]
  },
  {
   "cell_type": "code",
   "execution_count": null,
   "metadata": {},
   "outputs": [],
   "source": []
  },
  {
   "cell_type": "markdown",
   "metadata": {},
   "source": [
    "### Заключительный вывод\n",
    "\t•\tФактор group (тестовая или контрольная группа) и фактор segment (сегмент high или low) оказались значимыми для метрики events, как показали результаты ANOVA и визуализация.\n",
    "\t•\tНовая версия кнопки (тестовая группа) улучшила показатели для обеих сегментов, особенно для сегмента high, где наблюдается заметный рост.\n",
    "\t•\tРекомендация: На основе результатов анализа и графиков, можно рекомендовать выкатить новую версию кнопки для всех пользователей, уделяя особое внимание сегменту high, где эффект наиболее выражен."
   ]
  }
 ],
 "metadata": {
  "kernelspec": {
   "display_name": "Python 3",
   "language": "python",
   "name": "python3"
  },
  "language_info": {
   "codemirror_mode": {
    "name": "ipython",
    "version": 3
   },
   "file_extension": ".py",
   "mimetype": "text/x-python",
   "name": "python",
   "nbconvert_exporter": "python",
   "pygments_lexer": "ipython3",
   "version": "3.7.3"
  }
 },
 "nbformat": 4,
 "nbformat_minor": 4
}
