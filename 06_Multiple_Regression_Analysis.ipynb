{
 "cells": [
  {
   "cell_type": "markdown",
   "metadata": {},
   "source": [
    "# Анализ ценообразования автомобилей с использованием линейной регрессии\n",
    "\n",
    "## Цель проекта:\n",
    "- Предсказать стоимость автомобилей на основе их характеристик.\n",
    "- Определить, какие факторы (предикторы) оказывают наибольшее влияние на цену.\n",
    "\n",
    "## Задачи:\n",
    "1. Загрузить и изучить данные, проверить наличие пропущенных значений и типы переменных.\n",
    "2. Создать новый признак – марка автомобиля.\n",
    "3. Отобрать важные предикторы и рассчитать корреляцию между `price` и другими переменными.\n",
    "4. Преобразовать категориальные переменные с помощью `pd.get_dummies()`.\n",
    "5. Построить линейную регрессионную модель:\n",
    "   - С одним предиктором (`horsepower`).\n",
    "   - С несколькими предикторами (все важные признаки).\n",
    "6. Сравнить модели по метрике \\( R^2 \\) и выбрать оптимальную.\n",
    "7. Заполнить выводы по результатам анализа.\n",
    "\n",
    "## Используемые инструменты:\n",
    "- Python (Pandas, NumPy, Statsmodels, Matplotlib, Seaborn)\n",
    "- Методы статистического анализа и машинного обучения (линейная регрессия)\n",
    "\n",
    "## Результат:\n",
    "[Добавить сюда финальные выводы по проекту после выполнения]."
   ]
  },
  {
   "cell_type": "code",
   "execution_count": 25,
   "metadata": {},
   "outputs": [],
   "source": [
    "# Блок 1: Импорты библиотек\n",
    "\n",
    "import numpy as np\n",
    "import pandas as pd\n",
    "import seaborn as sns\n",
    "import statsmodels.api as sm  # Для статистического моделирования\n",
    "import statsmodels.formula.api as smf  # Для работы с регрессионными формулами\n",
    "import matplotlib.pyplot as plt  # Для построения графиков"
   ]
  },
  {
   "cell_type": "code",
   "execution_count": 26,
   "metadata": {},
   "outputs": [],
   "source": [
    "# Блок 2: Загрузка данных и предварительный анализ\n",
    "cars = pd.read_csv(\"../analytics/cars.csv\")"
   ]
  },
  {
   "cell_type": "code",
   "execution_count": 27,
   "metadata": {},
   "outputs": [
    {
     "data": {
      "text/html": [
       "<div>\n",
       "<style scoped>\n",
       "    .dataframe tbody tr th:only-of-type {\n",
       "        vertical-align: middle;\n",
       "    }\n",
       "\n",
       "    .dataframe tbody tr th {\n",
       "        vertical-align: top;\n",
       "    }\n",
       "\n",
       "    .dataframe thead th {\n",
       "        text-align: right;\n",
       "    }\n",
       "</style>\n",
       "<table border=\"1\" class=\"dataframe\">\n",
       "  <thead>\n",
       "    <tr style=\"text-align: right;\">\n",
       "      <th></th>\n",
       "      <th>car_ID</th>\n",
       "      <th>symboling</th>\n",
       "      <th>CarName</th>\n",
       "      <th>fueltype</th>\n",
       "      <th>aspiration</th>\n",
       "      <th>doornumber</th>\n",
       "      <th>carbody</th>\n",
       "      <th>drivewheel</th>\n",
       "      <th>enginelocation</th>\n",
       "      <th>wheelbase</th>\n",
       "      <th>...</th>\n",
       "      <th>enginesize</th>\n",
       "      <th>fuelsystem</th>\n",
       "      <th>boreratio</th>\n",
       "      <th>stroke</th>\n",
       "      <th>compressionratio</th>\n",
       "      <th>horsepower</th>\n",
       "      <th>peakrpm</th>\n",
       "      <th>citympg</th>\n",
       "      <th>highwaympg</th>\n",
       "      <th>price</th>\n",
       "    </tr>\n",
       "  </thead>\n",
       "  <tbody>\n",
       "    <tr>\n",
       "      <th>0</th>\n",
       "      <td>1</td>\n",
       "      <td>3</td>\n",
       "      <td>alfa-romero giulia</td>\n",
       "      <td>gas</td>\n",
       "      <td>std</td>\n",
       "      <td>two</td>\n",
       "      <td>convertible</td>\n",
       "      <td>rwd</td>\n",
       "      <td>front</td>\n",
       "      <td>88.6</td>\n",
       "      <td>...</td>\n",
       "      <td>130</td>\n",
       "      <td>mpfi</td>\n",
       "      <td>3.47</td>\n",
       "      <td>2.68</td>\n",
       "      <td>9.0</td>\n",
       "      <td>111</td>\n",
       "      <td>5000</td>\n",
       "      <td>21</td>\n",
       "      <td>27</td>\n",
       "      <td>13495.0</td>\n",
       "    </tr>\n",
       "    <tr>\n",
       "      <th>1</th>\n",
       "      <td>2</td>\n",
       "      <td>3</td>\n",
       "      <td>alfa-romero stelvio</td>\n",
       "      <td>gas</td>\n",
       "      <td>std</td>\n",
       "      <td>two</td>\n",
       "      <td>convertible</td>\n",
       "      <td>rwd</td>\n",
       "      <td>front</td>\n",
       "      <td>88.6</td>\n",
       "      <td>...</td>\n",
       "      <td>130</td>\n",
       "      <td>mpfi</td>\n",
       "      <td>3.47</td>\n",
       "      <td>2.68</td>\n",
       "      <td>9.0</td>\n",
       "      <td>111</td>\n",
       "      <td>5000</td>\n",
       "      <td>21</td>\n",
       "      <td>27</td>\n",
       "      <td>16500.0</td>\n",
       "    </tr>\n",
       "    <tr>\n",
       "      <th>2</th>\n",
       "      <td>3</td>\n",
       "      <td>1</td>\n",
       "      <td>alfa-romero Quadrifoglio</td>\n",
       "      <td>gas</td>\n",
       "      <td>std</td>\n",
       "      <td>two</td>\n",
       "      <td>hatchback</td>\n",
       "      <td>rwd</td>\n",
       "      <td>front</td>\n",
       "      <td>94.5</td>\n",
       "      <td>...</td>\n",
       "      <td>152</td>\n",
       "      <td>mpfi</td>\n",
       "      <td>2.68</td>\n",
       "      <td>3.47</td>\n",
       "      <td>9.0</td>\n",
       "      <td>154</td>\n",
       "      <td>5000</td>\n",
       "      <td>19</td>\n",
       "      <td>26</td>\n",
       "      <td>16500.0</td>\n",
       "    </tr>\n",
       "    <tr>\n",
       "      <th>3</th>\n",
       "      <td>4</td>\n",
       "      <td>2</td>\n",
       "      <td>audi 100 ls</td>\n",
       "      <td>gas</td>\n",
       "      <td>std</td>\n",
       "      <td>four</td>\n",
       "      <td>sedan</td>\n",
       "      <td>fwd</td>\n",
       "      <td>front</td>\n",
       "      <td>99.8</td>\n",
       "      <td>...</td>\n",
       "      <td>109</td>\n",
       "      <td>mpfi</td>\n",
       "      <td>3.19</td>\n",
       "      <td>3.40</td>\n",
       "      <td>10.0</td>\n",
       "      <td>102</td>\n",
       "      <td>5500</td>\n",
       "      <td>24</td>\n",
       "      <td>30</td>\n",
       "      <td>13950.0</td>\n",
       "    </tr>\n",
       "    <tr>\n",
       "      <th>4</th>\n",
       "      <td>5</td>\n",
       "      <td>2</td>\n",
       "      <td>audi 100ls</td>\n",
       "      <td>gas</td>\n",
       "      <td>std</td>\n",
       "      <td>four</td>\n",
       "      <td>sedan</td>\n",
       "      <td>4wd</td>\n",
       "      <td>front</td>\n",
       "      <td>99.4</td>\n",
       "      <td>...</td>\n",
       "      <td>136</td>\n",
       "      <td>mpfi</td>\n",
       "      <td>3.19</td>\n",
       "      <td>3.40</td>\n",
       "      <td>8.0</td>\n",
       "      <td>115</td>\n",
       "      <td>5500</td>\n",
       "      <td>18</td>\n",
       "      <td>22</td>\n",
       "      <td>17450.0</td>\n",
       "    </tr>\n",
       "  </tbody>\n",
       "</table>\n",
       "<p>5 rows × 26 columns</p>\n",
       "</div>"
      ],
      "text/plain": [
       "   car_ID  symboling                   CarName fueltype aspiration doornumber  \\\n",
       "0       1          3        alfa-romero giulia      gas        std        two   \n",
       "1       2          3       alfa-romero stelvio      gas        std        two   \n",
       "2       3          1  alfa-romero Quadrifoglio      gas        std        two   \n",
       "3       4          2               audi 100 ls      gas        std       four   \n",
       "4       5          2                audi 100ls      gas        std       four   \n",
       "\n",
       "       carbody drivewheel enginelocation  wheelbase  ...  enginesize  \\\n",
       "0  convertible        rwd          front       88.6  ...         130   \n",
       "1  convertible        rwd          front       88.6  ...         130   \n",
       "2    hatchback        rwd          front       94.5  ...         152   \n",
       "3        sedan        fwd          front       99.8  ...         109   \n",
       "4        sedan        4wd          front       99.4  ...         136   \n",
       "\n",
       "   fuelsystem  boreratio  stroke compressionratio horsepower  peakrpm citympg  \\\n",
       "0        mpfi       3.47    2.68              9.0        111     5000      21   \n",
       "1        mpfi       3.47    2.68              9.0        111     5000      21   \n",
       "2        mpfi       2.68    3.47              9.0        154     5000      19   \n",
       "3        mpfi       3.19    3.40             10.0        102     5500      24   \n",
       "4        mpfi       3.19    3.40              8.0        115     5500      18   \n",
       "\n",
       "   highwaympg    price  \n",
       "0          27  13495.0  \n",
       "1          27  16500.0  \n",
       "2          26  16500.0  \n",
       "3          30  13950.0  \n",
       "4          22  17450.0  \n",
       "\n",
       "[5 rows x 26 columns]"
      ]
     },
     "execution_count": 27,
     "metadata": {},
     "output_type": "execute_result"
    }
   ],
   "source": [
    "cars.head()"
   ]
  },
  {
   "cell_type": "code",
   "execution_count": 28,
   "metadata": {
    "scrolled": true
   },
   "outputs": [
    {
     "name": "stdout",
     "output_type": "stream",
     "text": [
      "Количество уникальных наименований автомобилей: 147\n"
     ]
    }
   ],
   "source": [
    "unique_car_names = cars['CarName'].nunique()\n",
    "print(f\"Количество уникальных наименований автомобилей: {unique_car_names}\")"
   ]
  },
  {
   "cell_type": "code",
   "execution_count": null,
   "metadata": {},
   "outputs": [],
   "source": []
  },
  {
   "cell_type": "code",
   "execution_count": 29,
   "metadata": {},
   "outputs": [],
   "source": [
    "# Блок 3: Проверка данных и удаление ненужных столбцов\n",
    "\n",
    "# Создание нового признака 'company' на основе 'CarName'\n",
    "# Мы выделяем название компании из полного наименования автомобиля\n",
    "# Используем метод apply() для применения лямбда-функции\n",
    "\n",
    "cars['company'] = cars['CarName'].apply(lambda x: x.split(' ')[0])"
   ]
  },
  {
   "cell_type": "code",
   "execution_count": 30,
   "metadata": {
    "scrolled": true
   },
   "outputs": [
    {
     "data": {
      "text/html": [
       "<div>\n",
       "<style scoped>\n",
       "    .dataframe tbody tr th:only-of-type {\n",
       "        vertical-align: middle;\n",
       "    }\n",
       "\n",
       "    .dataframe tbody tr th {\n",
       "        vertical-align: top;\n",
       "    }\n",
       "\n",
       "    .dataframe thead th {\n",
       "        text-align: right;\n",
       "    }\n",
       "</style>\n",
       "<table border=\"1\" class=\"dataframe\">\n",
       "  <thead>\n",
       "    <tr style=\"text-align: right;\">\n",
       "      <th></th>\n",
       "      <th>car_ID</th>\n",
       "      <th>symboling</th>\n",
       "      <th>CarName</th>\n",
       "      <th>fueltype</th>\n",
       "      <th>aspiration</th>\n",
       "      <th>doornumber</th>\n",
       "      <th>carbody</th>\n",
       "      <th>drivewheel</th>\n",
       "      <th>enginelocation</th>\n",
       "      <th>wheelbase</th>\n",
       "      <th>...</th>\n",
       "      <th>fuelsystem</th>\n",
       "      <th>boreratio</th>\n",
       "      <th>stroke</th>\n",
       "      <th>compressionratio</th>\n",
       "      <th>horsepower</th>\n",
       "      <th>peakrpm</th>\n",
       "      <th>citympg</th>\n",
       "      <th>highwaympg</th>\n",
       "      <th>price</th>\n",
       "      <th>company</th>\n",
       "    </tr>\n",
       "  </thead>\n",
       "  <tbody>\n",
       "    <tr>\n",
       "      <th>55</th>\n",
       "      <td>56</td>\n",
       "      <td>3</td>\n",
       "      <td>mazda 626</td>\n",
       "      <td>gas</td>\n",
       "      <td>std</td>\n",
       "      <td>two</td>\n",
       "      <td>hatchback</td>\n",
       "      <td>rwd</td>\n",
       "      <td>front</td>\n",
       "      <td>95.3</td>\n",
       "      <td>...</td>\n",
       "      <td>4bbl</td>\n",
       "      <td>3.33</td>\n",
       "      <td>3.255</td>\n",
       "      <td>9.4</td>\n",
       "      <td>101</td>\n",
       "      <td>6000</td>\n",
       "      <td>17</td>\n",
       "      <td>23</td>\n",
       "      <td>10945.0</td>\n",
       "      <td>mazda</td>\n",
       "    </tr>\n",
       "    <tr>\n",
       "      <th>43</th>\n",
       "      <td>44</td>\n",
       "      <td>0</td>\n",
       "      <td>isuzu MU-X</td>\n",
       "      <td>gas</td>\n",
       "      <td>std</td>\n",
       "      <td>four</td>\n",
       "      <td>sedan</td>\n",
       "      <td>rwd</td>\n",
       "      <td>front</td>\n",
       "      <td>94.3</td>\n",
       "      <td>...</td>\n",
       "      <td>2bbl</td>\n",
       "      <td>3.31</td>\n",
       "      <td>3.230</td>\n",
       "      <td>8.5</td>\n",
       "      <td>78</td>\n",
       "      <td>4800</td>\n",
       "      <td>24</td>\n",
       "      <td>29</td>\n",
       "      <td>6785.0</td>\n",
       "      <td>isuzu</td>\n",
       "    </tr>\n",
       "    <tr>\n",
       "      <th>44</th>\n",
       "      <td>45</td>\n",
       "      <td>1</td>\n",
       "      <td>isuzu D-Max</td>\n",
       "      <td>gas</td>\n",
       "      <td>std</td>\n",
       "      <td>two</td>\n",
       "      <td>sedan</td>\n",
       "      <td>fwd</td>\n",
       "      <td>front</td>\n",
       "      <td>94.5</td>\n",
       "      <td>...</td>\n",
       "      <td>2bbl</td>\n",
       "      <td>3.03</td>\n",
       "      <td>3.110</td>\n",
       "      <td>9.6</td>\n",
       "      <td>70</td>\n",
       "      <td>5400</td>\n",
       "      <td>38</td>\n",
       "      <td>43</td>\n",
       "      <td>8916.5</td>\n",
       "      <td>isuzu</td>\n",
       "    </tr>\n",
       "    <tr>\n",
       "      <th>50</th>\n",
       "      <td>51</td>\n",
       "      <td>1</td>\n",
       "      <td>maxda rx3</td>\n",
       "      <td>gas</td>\n",
       "      <td>std</td>\n",
       "      <td>two</td>\n",
       "      <td>hatchback</td>\n",
       "      <td>fwd</td>\n",
       "      <td>front</td>\n",
       "      <td>93.1</td>\n",
       "      <td>...</td>\n",
       "      <td>2bbl</td>\n",
       "      <td>3.03</td>\n",
       "      <td>3.150</td>\n",
       "      <td>9.0</td>\n",
       "      <td>68</td>\n",
       "      <td>5000</td>\n",
       "      <td>30</td>\n",
       "      <td>31</td>\n",
       "      <td>5195.0</td>\n",
       "      <td>maxda</td>\n",
       "    </tr>\n",
       "    <tr>\n",
       "      <th>112</th>\n",
       "      <td>113</td>\n",
       "      <td>0</td>\n",
       "      <td>peugeot 604sl</td>\n",
       "      <td>diesel</td>\n",
       "      <td>turbo</td>\n",
       "      <td>four</td>\n",
       "      <td>sedan</td>\n",
       "      <td>rwd</td>\n",
       "      <td>front</td>\n",
       "      <td>107.9</td>\n",
       "      <td>...</td>\n",
       "      <td>idi</td>\n",
       "      <td>3.70</td>\n",
       "      <td>3.520</td>\n",
       "      <td>21.0</td>\n",
       "      <td>95</td>\n",
       "      <td>4150</td>\n",
       "      <td>28</td>\n",
       "      <td>33</td>\n",
       "      <td>16900.0</td>\n",
       "      <td>peugeot</td>\n",
       "    </tr>\n",
       "    <tr>\n",
       "      <th>27</th>\n",
       "      <td>28</td>\n",
       "      <td>1</td>\n",
       "      <td>dodge coronet custom</td>\n",
       "      <td>gas</td>\n",
       "      <td>turbo</td>\n",
       "      <td>two</td>\n",
       "      <td>sedan</td>\n",
       "      <td>fwd</td>\n",
       "      <td>front</td>\n",
       "      <td>93.7</td>\n",
       "      <td>...</td>\n",
       "      <td>mpfi</td>\n",
       "      <td>3.03</td>\n",
       "      <td>3.390</td>\n",
       "      <td>7.6</td>\n",
       "      <td>102</td>\n",
       "      <td>5500</td>\n",
       "      <td>24</td>\n",
       "      <td>30</td>\n",
       "      <td>8558.0</td>\n",
       "      <td>dodge</td>\n",
       "    </tr>\n",
       "    <tr>\n",
       "      <th>166</th>\n",
       "      <td>167</td>\n",
       "      <td>1</td>\n",
       "      <td>toyota corolla tercel</td>\n",
       "      <td>gas</td>\n",
       "      <td>std</td>\n",
       "      <td>two</td>\n",
       "      <td>hatchback</td>\n",
       "      <td>rwd</td>\n",
       "      <td>front</td>\n",
       "      <td>94.5</td>\n",
       "      <td>...</td>\n",
       "      <td>mpfi</td>\n",
       "      <td>3.24</td>\n",
       "      <td>3.080</td>\n",
       "      <td>9.4</td>\n",
       "      <td>112</td>\n",
       "      <td>6600</td>\n",
       "      <td>26</td>\n",
       "      <td>29</td>\n",
       "      <td>9538.0</td>\n",
       "      <td>toyota</td>\n",
       "    </tr>\n",
       "  </tbody>\n",
       "</table>\n",
       "<p>7 rows × 27 columns</p>\n",
       "</div>"
      ],
      "text/plain": [
       "     car_ID  symboling                CarName fueltype aspiration doornumber  \\\n",
       "55       56          3              mazda 626      gas        std        two   \n",
       "43       44          0             isuzu MU-X      gas        std       four   \n",
       "44       45          1           isuzu D-Max       gas        std        two   \n",
       "50       51          1              maxda rx3      gas        std        two   \n",
       "112     113          0          peugeot 604sl   diesel      turbo       four   \n",
       "27       28          1   dodge coronet custom      gas      turbo        two   \n",
       "166     167          1  toyota corolla tercel      gas        std        two   \n",
       "\n",
       "       carbody drivewheel enginelocation  wheelbase  ...  fuelsystem  \\\n",
       "55   hatchback        rwd          front       95.3  ...        4bbl   \n",
       "43       sedan        rwd          front       94.3  ...        2bbl   \n",
       "44       sedan        fwd          front       94.5  ...        2bbl   \n",
       "50   hatchback        fwd          front       93.1  ...        2bbl   \n",
       "112      sedan        rwd          front      107.9  ...         idi   \n",
       "27       sedan        fwd          front       93.7  ...        mpfi   \n",
       "166  hatchback        rwd          front       94.5  ...        mpfi   \n",
       "\n",
       "     boreratio  stroke  compressionratio horsepower peakrpm  citympg  \\\n",
       "55        3.33   3.255               9.4        101    6000       17   \n",
       "43        3.31   3.230               8.5         78    4800       24   \n",
       "44        3.03   3.110               9.6         70    5400       38   \n",
       "50        3.03   3.150               9.0         68    5000       30   \n",
       "112       3.70   3.520              21.0         95    4150       28   \n",
       "27        3.03   3.390               7.6        102    5500       24   \n",
       "166       3.24   3.080               9.4        112    6600       26   \n",
       "\n",
       "    highwaympg    price  company  \n",
       "55          23  10945.0    mazda  \n",
       "43          29   6785.0    isuzu  \n",
       "44          43   8916.5    isuzu  \n",
       "50          31   5195.0    maxda  \n",
       "112         33  16900.0  peugeot  \n",
       "27          30   8558.0    dodge  \n",
       "166         29   9538.0   toyota  \n",
       "\n",
       "[7 rows x 27 columns]"
      ]
     },
     "execution_count": 30,
     "metadata": {},
     "output_type": "execute_result"
    }
   ],
   "source": [
    "cars.sample(7)"
   ]
  },
  {
   "cell_type": "code",
   "execution_count": 31,
   "metadata": {},
   "outputs": [],
   "source": [
    "# Удаление ненужного столбца 'car_ID'\n",
    "# Столбец 'car_ID' является идентификатором и не несёт полезной информации для анализа\n",
    "cars.drop(columns=['car_ID'], inplace=True)"
   ]
  },
  {
   "cell_type": "code",
   "execution_count": 32,
   "metadata": {
    "scrolled": true
   },
   "outputs": [
    {
     "name": "stdout",
     "output_type": "stream",
     "text": [
      "Количество уникальных марок автомобилей: 28\n"
     ]
    }
   ],
   "source": [
    "print(f\"Количество уникальных марок автомобилей: {cars['company'].nunique()}\")"
   ]
  },
  {
   "cell_type": "code",
   "execution_count": null,
   "metadata": {},
   "outputs": [],
   "source": []
  },
  {
   "cell_type": "code",
   "execution_count": 33,
   "metadata": {},
   "outputs": [],
   "source": [
    "# Блок 4: Стандартизация и исправление данных в столбце 'company'"
   ]
  },
  {
   "cell_type": "code",
   "execution_count": 34,
   "metadata": {},
   "outputs": [],
   "source": [
    "# Шаг 1: Приведение значений столбца 'company' к нижнему регистру\n",
    "cars['company'] = cars.company.str.lower()"
   ]
  },
  {
   "cell_type": "code",
   "execution_count": 35,
   "metadata": {},
   "outputs": [
    {
     "name": "stdout",
     "output_type": "stream",
     "text": [
      "Исправленные уникальные марки автомобилей:\n",
      "['alfa-romero' 'audi' 'bmw' 'chevrolet' 'dodge' 'honda' 'isuzu' 'jaguar'\n",
      " 'mazda' 'buick' 'mercury' 'mitsubishi' 'nissan' 'peugeot' 'plymouth'\n",
      " 'porsche' 'porcshce' 'renault' 'saab' 'subaru' 'toyota' 'volkswagen'\n",
      " 'volvo']\n"
     ]
    }
   ],
   "source": [
    "# Функция для исправления опечаток\n",
    "def fix_company(to_rep, how_rep):\n",
    "    cars['company'].replace(to_rep, how_rep, inplace=True)\n",
    "\n",
    "# Исправляем опечатки в названиях компаний\n",
    "fix_company('vw', 'volkswagen')\n",
    "fix_company('vokswagen', 'volkswagen')\n",
    "fix_company('toyouta', 'toyota')\n",
    "fix_company('porshce', 'porsche')\n",
    "fix_company('maxda', 'mazda')\n",
    "\n",
    "# Проверяем уникальные значения\n",
    "print(\"Исправленные уникальные марки автомобилей:\")\n",
    "print(cars['company'].unique())"
   ]
  },
  {
   "cell_type": "code",
   "execution_count": null,
   "metadata": {},
   "outputs": [],
   "source": []
  },
  {
   "cell_type": "code",
   "execution_count": 38,
   "metadata": {},
   "outputs": [],
   "source": [
    "columns_to_keep = ['company', 'fueltype', 'aspiration', 'carbody', 'drivewheel',\n",
    "'wheelbase', 'carlength','carwidth', 'curbweight', 'enginetype',\n",
    "'cylindernumber', 'enginesize', 'boreratio','horsepower', 'price']"
   ]
  },
  {
   "cell_type": "code",
   "execution_count": 39,
   "metadata": {},
   "outputs": [
    {
     "data": {
      "text/plain": [
       "['company',\n",
       " 'fueltype',\n",
       " 'aspiration',\n",
       " 'carbody',\n",
       " 'drivewheel',\n",
       " 'wheelbase',\n",
       " 'carlength',\n",
       " 'carwidth',\n",
       " 'curbweight',\n",
       " 'enginetype',\n",
       " 'cylindernumber',\n",
       " 'enginesize',\n",
       " 'boreratio',\n",
       " 'horsepower',\n",
       " 'price']"
      ]
     },
     "execution_count": 39,
     "metadata": {},
     "output_type": "execute_result"
    }
   ],
   "source": [
    "columns_to_keep"
   ]
  },
  {
   "cell_type": "code",
   "execution_count": 42,
   "metadata": {
    "scrolled": false
   },
   "outputs": [
    {
     "data": {
      "image/png": "[encoded data removed]",
      "text/plain": [
       "<Figure size 720x576 with 2 Axes>"
      ]
     },
     "metadata": {
      "needs_background": "light"
     },
     "output_type": "display_data"
    }
   ],
   "source": [
    "# Считаем корреляцию между всеми числовыми столбцам\n",
    "df = cars[columns_to_keep]\n",
    "# Корреляционная матрица\n",
    "corr_matrix = df.corr()\n",
    "\n",
    "# Визуализация с помощью тепловой карты\n",
    "plt.figure(figsize=(10, 8))\n",
    "sns.heatmap(corr_matrix, annot=True, cmap='coolwarm', fmt=\".2f\")\n",
    "plt.title(\"Корреляция между числовыми переменными\")\n",
    "plt.show()"
   ]
  },
  {
   "cell_type": "code",
   "execution_count": 43,
   "metadata": {},
   "outputs": [
    {
     "name": "stdout",
     "output_type": "stream",
     "text": [
      "Корреляция между price и horsepower: 0.81\n"
     ]
    }
   ],
   "source": [
    "# Корреляция между 'price' и 'horsepower' с округлением до 2 знаков\n",
    "corr_price_hp = df['price'].corr(df['horsepower'])\n",
    "print(f\"Корреляция между price и horsepower: {corr_price_hp:.2f}\")"
   ]
  },
  {
   "cell_type": "code",
   "execution_count": 44,
   "metadata": {},
   "outputs": [],
   "source": [
    "# Блок 5: Преобразование категориальных переменных в числовые с помощью get_dummies()"
   ]
  },
  {
   "cell_type": "code",
   "execution_count": 45,
   "metadata": {},
   "outputs": [
    {
     "name": "stdout",
     "output_type": "stream",
     "text": [
      "Типы данных в датасете:\n",
      "company            object\n",
      "fueltype           object\n",
      "aspiration         object\n",
      "carbody            object\n",
      "drivewheel         object\n",
      "wheelbase         float64\n",
      "carlength         float64\n",
      "carwidth          float64\n",
      "curbweight          int64\n",
      "enginetype         object\n",
      "cylindernumber     object\n",
      "enginesize          int64\n",
      "boreratio         float64\n",
      "horsepower          int64\n",
      "price             float64\n",
      "dtype: object\n"
     ]
    }
   ],
   "source": [
    "print(\"Типы данных в датасете:\")\n",
    "print(df.dtypes)"
   ]
  },
  {
   "cell_type": "code",
   "execution_count": 62,
   "metadata": {},
   "outputs": [
    {
     "data": {
      "text/html": [
       "<div>\n",
       "<style scoped>\n",
       "    .dataframe tbody tr th:only-of-type {\n",
       "        vertical-align: middle;\n",
       "    }\n",
       "\n",
       "    .dataframe tbody tr th {\n",
       "        vertical-align: top;\n",
       "    }\n",
       "\n",
       "    .dataframe thead th {\n",
       "        text-align: right;\n",
       "    }\n",
       "</style>\n",
       "<table border=\"1\" class=\"dataframe\">\n",
       "  <thead>\n",
       "    <tr style=\"text-align: right;\">\n",
       "      <th></th>\n",
       "      <th>wheelbase</th>\n",
       "      <th>carlength</th>\n",
       "      <th>carwidth</th>\n",
       "      <th>curbweight</th>\n",
       "      <th>enginesize</th>\n",
       "      <th>boreratio</th>\n",
       "      <th>horsepower</th>\n",
       "      <th>price</th>\n",
       "      <th>company_audi</th>\n",
       "      <th>company_bmw</th>\n",
       "      <th>...</th>\n",
       "      <th>enginetype_ohc</th>\n",
       "      <th>enginetype_ohcf</th>\n",
       "      <th>enginetype_ohcv</th>\n",
       "      <th>enginetype_rotor</th>\n",
       "      <th>cylindernumber_five</th>\n",
       "      <th>cylindernumber_four</th>\n",
       "      <th>cylindernumber_six</th>\n",
       "      <th>cylindernumber_three</th>\n",
       "      <th>cylindernumber_twelve</th>\n",
       "      <th>cylindernumber_two</th>\n",
       "    </tr>\n",
       "  </thead>\n",
       "  <tbody>\n",
       "    <tr>\n",
       "      <th>0</th>\n",
       "      <td>88.6</td>\n",
       "      <td>168.8</td>\n",
       "      <td>64.1</td>\n",
       "      <td>2548</td>\n",
       "      <td>130</td>\n",
       "      <td>3.47</td>\n",
       "      <td>111</td>\n",
       "      <td>13495.0</td>\n",
       "      <td>0</td>\n",
       "      <td>0</td>\n",
       "      <td>...</td>\n",
       "      <td>0</td>\n",
       "      <td>0</td>\n",
       "      <td>0</td>\n",
       "      <td>0</td>\n",
       "      <td>0</td>\n",
       "      <td>1</td>\n",
       "      <td>0</td>\n",
       "      <td>0</td>\n",
       "      <td>0</td>\n",
       "      <td>0</td>\n",
       "    </tr>\n",
       "    <tr>\n",
       "      <th>1</th>\n",
       "      <td>88.6</td>\n",
       "      <td>168.8</td>\n",
       "      <td>64.1</td>\n",
       "      <td>2548</td>\n",
       "      <td>130</td>\n",
       "      <td>3.47</td>\n",
       "      <td>111</td>\n",
       "      <td>16500.0</td>\n",
       "      <td>0</td>\n",
       "      <td>0</td>\n",
       "      <td>...</td>\n",
       "      <td>0</td>\n",
       "      <td>0</td>\n",
       "      <td>0</td>\n",
       "      <td>0</td>\n",
       "      <td>0</td>\n",
       "      <td>1</td>\n",
       "      <td>0</td>\n",
       "      <td>0</td>\n",
       "      <td>0</td>\n",
       "      <td>0</td>\n",
       "    </tr>\n",
       "    <tr>\n",
       "      <th>2</th>\n",
       "      <td>94.5</td>\n",
       "      <td>171.2</td>\n",
       "      <td>65.5</td>\n",
       "      <td>2823</td>\n",
       "      <td>152</td>\n",
       "      <td>2.68</td>\n",
       "      <td>154</td>\n",
       "      <td>16500.0</td>\n",
       "      <td>0</td>\n",
       "      <td>0</td>\n",
       "      <td>...</td>\n",
       "      <td>0</td>\n",
       "      <td>0</td>\n",
       "      <td>1</td>\n",
       "      <td>0</td>\n",
       "      <td>0</td>\n",
       "      <td>0</td>\n",
       "      <td>1</td>\n",
       "      <td>0</td>\n",
       "      <td>0</td>\n",
       "      <td>0</td>\n",
       "    </tr>\n",
       "    <tr>\n",
       "      <th>3</th>\n",
       "      <td>99.8</td>\n",
       "      <td>176.6</td>\n",
       "      <td>66.2</td>\n",
       "      <td>2337</td>\n",
       "      <td>109</td>\n",
       "      <td>3.19</td>\n",
       "      <td>102</td>\n",
       "      <td>13950.0</td>\n",
       "      <td>1</td>\n",
       "      <td>0</td>\n",
       "      <td>...</td>\n",
       "      <td>1</td>\n",
       "      <td>0</td>\n",
       "      <td>0</td>\n",
       "      <td>0</td>\n",
       "      <td>0</td>\n",
       "      <td>1</td>\n",
       "      <td>0</td>\n",
       "      <td>0</td>\n",
       "      <td>0</td>\n",
       "      <td>0</td>\n",
       "    </tr>\n",
       "    <tr>\n",
       "      <th>4</th>\n",
       "      <td>99.4</td>\n",
       "      <td>176.6</td>\n",
       "      <td>66.4</td>\n",
       "      <td>2824</td>\n",
       "      <td>136</td>\n",
       "      <td>3.19</td>\n",
       "      <td>115</td>\n",
       "      <td>17450.0</td>\n",
       "      <td>1</td>\n",
       "      <td>0</td>\n",
       "      <td>...</td>\n",
       "      <td>1</td>\n",
       "      <td>0</td>\n",
       "      <td>0</td>\n",
       "      <td>0</td>\n",
       "      <td>1</td>\n",
       "      <td>0</td>\n",
       "      <td>0</td>\n",
       "      <td>0</td>\n",
       "      <td>0</td>\n",
       "      <td>0</td>\n",
       "    </tr>\n",
       "  </tbody>\n",
       "</table>\n",
       "<p>5 rows × 50 columns</p>\n",
       "</div>"
      ],
      "text/plain": [
       "   wheelbase  carlength  carwidth  curbweight  enginesize  boreratio  \\\n",
       "0       88.6      168.8      64.1        2548         130       3.47   \n",
       "1       88.6      168.8      64.1        2548         130       3.47   \n",
       "2       94.5      171.2      65.5        2823         152       2.68   \n",
       "3       99.8      176.6      66.2        2337         109       3.19   \n",
       "4       99.4      176.6      66.4        2824         136       3.19   \n",
       "\n",
       "   horsepower    price  company_audi  company_bmw  ...  enginetype_ohc  \\\n",
       "0         111  13495.0             0            0  ...               0   \n",
       "1         111  16500.0             0            0  ...               0   \n",
       "2         154  16500.0             0            0  ...               0   \n",
       "3         102  13950.0             1            0  ...               1   \n",
       "4         115  17450.0             1            0  ...               1   \n",
       "\n",
       "   enginetype_ohcf  enginetype_ohcv  enginetype_rotor  cylindernumber_five  \\\n",
       "0                0                0                 0                    0   \n",
       "1                0                0                 0                    0   \n",
       "2                0                1                 0                    0   \n",
       "3                0                0                 0                    0   \n",
       "4                0                0                 0                    1   \n",
       "\n",
       "   cylindernumber_four  cylindernumber_six  cylindernumber_three  \\\n",
       "0                    1                   0                     0   \n",
       "1                    1                   0                     0   \n",
       "2                    0                   1                     0   \n",
       "3                    1                   0                     0   \n",
       "4                    0                   0                     0   \n",
       "\n",
       "   cylindernumber_twelve  cylindernumber_two  \n",
       "0                      0                   0  \n",
       "1                      0                   0  \n",
       "2                      0                   0  \n",
       "3                      0                   0  \n",
       "4                      0                   0  \n",
       "\n",
       "[5 rows x 50 columns]"
      ]
     },
     "execution_count": 62,
     "metadata": {},
     "output_type": "execute_result"
    }
   ],
   "source": [
    "# Создание дамми-переменных для категориальных признаков\n",
    "# Метод get_dummies() преобразует текстовые столбцы в числовые (0 и 1)\n",
    "# Параметр drop_first=True исключает первую категорию для избежания мультиколлинеарности\n",
    "\n",
    "categorical_columns = ['company', 'fueltype', 'aspiration', 'carbody', \n",
    "                       'drivewheel', 'enginetype', 'cylindernumber']\n",
    "\n",
    "# Создаём дамми-переменные и объединяем их с числовыми признаками\n",
    "cars_lr = pd.get_dummies(df, columns=categorical_columns, drop_first=True)\n",
    "\n",
    "cars_lr.head()"
   ]
  },
  {
   "cell_type": "code",
   "execution_count": null,
   "metadata": {
    "scrolled": true
   },
   "outputs": [],
   "source": [
    "# Блок 6: Построение модели линейной регрессии с одним предиктором"
   ]
  },
  {
   "cell_type": "code",
   "execution_count": 64,
   "metadata": {
    "scrolled": false
   },
   "outputs": [
    {
     "name": "stdout",
     "output_type": "stream",
     "text": [
      "Сводка модели с одним предиктором:\n",
      "                            OLS Regression Results                            \n",
      "==============================================================================\n",
      "Dep. Variable:                  price   R-squared:                       0.653\n",
      "Model:                            OLS   Adj. R-squared:                  0.651\n",
      "Method:                 Least Squares   F-statistic:                     382.2\n",
      "Date:                Tue, 17 Dec 2024   Prob (F-statistic):           1.48e-48\n",
      "Time:                        14:17:50   Log-Likelihood:                -2024.0\n",
      "No. Observations:                 205   AIC:                             4052.\n",
      "Df Residuals:                     203   BIC:                             4059.\n",
      "Df Model:                           1                                         \n",
      "Covariance Type:            nonrobust                                         \n",
      "==============================================================================\n",
      "                 coef    std err          t      P>|t|      [0.025      0.975]\n",
      "------------------------------------------------------------------------------\n",
      "Intercept  -3721.7615    929.849     -4.003      0.000   -5555.163   -1888.360\n",
      "horsepower   163.2631      8.351     19.549      0.000     146.796     179.730\n",
      "==============================================================================\n",
      "Omnibus:                       47.741   Durbin-Watson:                   0.792\n",
      "Prob(Omnibus):                  0.000   Jarque-Bera (JB):               91.702\n",
      "Skew:                           1.141   Prob(JB):                     1.22e-20\n",
      "Kurtosis:                       5.352   Cond. No.                         314.\n",
      "==============================================================================\n",
      "\n",
      "Notes:\n",
      "[1] Standard Errors assume that the covariance matrix of the errors is correctly specified.\n",
      "Процент объяснённой изменчивости: 65%\n"
     ]
    }
   ],
   "source": [
    "import statsmodels.api as sm\n",
    "\n",
    "# Определяем модель линейной регрессии: price ~ horsepower\n",
    "model_1 = smf.ols('price ~ horsepower', cars_lr).fit()\n",
    "\n",
    "# Выводим краткую сводку модели\n",
    "print(\"Сводка модели с одним предиктором:\")\n",
    "print(model_1.summary())\n",
    "\n",
    "# Округляем R-squared до целого значения\n",
    "r_squared = round(model_1.rsquared * 100)\n",
    "print(f\"Процент объяснённой изменчивости: {r_squared}%\")"
   ]
  },
  {
   "cell_type": "code",
   "execution_count": null,
   "metadata": {},
   "outputs": [],
   "source": []
  },
  {
   "cell_type": "markdown",
   "metadata": {},
   "source": [
    "Результаты модели:\n",
    "\t1.\tR-squared = 0.653\n",
    "Модель объясняет 65.3% изменчивости цены (price) с помощью мощности двигателя (horsepower).\n",
    "\t2.\tP-значение < 0.05\n",
    "horsepower — статистически значимая переменная, влияющая на цену.\n",
    "\t3.\tКоэффициенты:\n",
    "\t•\tIntercept: -3721.76 – базовая цена при horsepower = 0 (неинтерпретируемо).\n",
    "\t•\thorsepower: 163.26 – увеличение мощности на 1 единицу повышает цену на 163.26."
   ]
  },
  {
   "cell_type": "markdown",
   "metadata": {},
   "source": [
    "# Вывод: Мощность двигателя существенно влияет на цену автомобиля."
   ]
  },
  {
   "cell_type": "code",
   "execution_count": null,
   "metadata": {},
   "outputs": [],
   "source": []
  },
  {
   "cell_type": "code",
   "execution_count": 77,
   "metadata": {
    "scrolled": false
   },
   "outputs": [
    {
     "name": "stdout",
     "output_type": "stream",
     "text": [
      "                            OLS Regression Results                            \n",
      "==============================================================================\n",
      "Dep. Variable:                  price   R-squared:                       0.653\n",
      "Model:                            OLS   Adj. R-squared:                  0.651\n",
      "Method:                 Least Squares   F-statistic:                     382.2\n",
      "Date:                Tue, 17 Dec 2024   Prob (F-statistic):           1.48e-48\n",
      "Time:                        14:31:11   Log-Likelihood:                -2024.0\n",
      "No. Observations:                 205   AIC:                             4052.\n",
      "Df Residuals:                     203   BIC:                             4059.\n",
      "Df Model:                           1                                         \n",
      "Covariance Type:            nonrobust                                         \n",
      "===================================================================================\n",
      "                      coef    std err          t      P>|t|      [0.025      0.975]\n",
      "-----------------------------------------------------------------------------------\n",
      "Intercept        1.328e+04    329.446     40.300      0.000    1.26e+04    1.39e+04\n",
      "horsepower_cent   163.2631      8.351     19.549      0.000     146.796     179.730\n",
      "==============================================================================\n",
      "Omnibus:                       47.741   Durbin-Watson:                   0.792\n",
      "Prob(Omnibus):                  0.000   Jarque-Bera (JB):               91.702\n",
      "Skew:                           1.141   Prob(JB):                     1.22e-20\n",
      "Kurtosis:                       5.352   Cond. No.                         39.4\n",
      "==============================================================================\n",
      "\n",
      "Notes:\n",
      "[1] Standard Errors assume that the covariance matrix of the errors is correctly specified.\n"
     ]
    }
   ],
   "source": [
    "# Зделаем интерсепт понаятным, центрируем\n",
    "# Стандатизируем переменных с помощю z преобразавалие\n",
    "# Центрируем horsepower которым цредмен будет именно 0\n",
    "\n",
    "cars_lr['horsepower_cent'] = cars_lr[['horsepower']] - cars_lr[['horsepower']].mean()\n",
    "\n",
    "result_cent = smf.ols('price ~ horsepower_cent', cars_lr).fit()\n",
    "print(result_cent.summary())\n"
   ]
  },
  {
   "cell_type": "code",
   "execution_count": null,
   "metadata": {},
   "outputs": [],
   "source": []
  },
  {
   "cell_type": "markdown",
   "metadata": {},
   "source": [
    "\t1.\tЦентрирование переменной horsepower\n",
    "Мы центрировали horsepower, вычтя из каждого значения его среднее. Это делает интерпретацию Intercept более осмысленной.\n",
    "\t2.\tКачество модели (R-squared = 0.653)\n",
    "Модель по-прежнему объясняет 65.3% изменчивости цены (price), как и в предыдущем случае.\n",
    "\t3.\tКоэффициенты:\n",
    "\t•\tIntercept (13280.4):\n",
    "Средняя цена автомобиля при среднем значении horsepower.\n",
    "\t•\thorsepower_cent (163.26):\n",
    "При увеличении центрированной мощности на 1 единицу цена увеличивается на 163.26."
   ]
  },
  {
   "cell_type": "markdown",
   "metadata": {},
   "source": [
    "Краткий вывод:\n",
    "Центрирование не изменило коэффициент наклона, но сделало Intercept более интерпретируемым как среднюю цену."
   ]
  },
  {
   "cell_type": "code",
   "execution_count": 72,
   "metadata": {
    "scrolled": true
   },
   "outputs": [
    {
     "data": {
      "text/plain": [
       "104.1170731707317"
      ]
     },
     "execution_count": 72,
     "metadata": {},
     "output_type": "execute_result"
    }
   ],
   "source": [
    "# Середнее значение лошадейних лис, по быборке\n",
    "cars_lr['horsepower'].mean()"
   ]
  },
  {
   "cell_type": "code",
   "execution_count": 79,
   "metadata": {
    "scrolled": true
   },
   "outputs": [
    {
     "data": {
      "text/plain": [
       "0       6.882927\n",
       "1       6.882927\n",
       "2      49.882927\n",
       "3      -2.117073\n",
       "4      10.882927\n",
       "         ...    \n",
       "200     9.882927\n",
       "201    55.882927\n",
       "202    29.882927\n",
       "203     1.882927\n",
       "204     9.882927\n",
       "Name: horsepower_cent, Length: 205, dtype: float64"
      ]
     },
     "execution_count": 79,
     "metadata": {},
     "output_type": "execute_result"
    }
   ],
   "source": [
    "cars_lr['horsepower_cent']"
   ]
  },
  {
   "cell_type": "code",
   "execution_count": 78,
   "metadata": {},
   "outputs": [
    {
     "data": {
      "text/plain": [
       "5.47637815854126e-15"
      ]
     },
     "execution_count": 78,
     "metadata": {},
     "output_type": "execute_result"
    }
   ],
   "source": [
    "cars_lr['horsepower_cent'].mean()"
   ]
  },
  {
   "cell_type": "code",
   "execution_count": 59,
   "metadata": {
    "scrolled": true
   },
   "outputs": [
    {
     "name": "stdout",
     "output_type": "stream",
     "text": [
      "5.47637815854126e-15\n"
     ]
    }
   ],
   "source": [
    "# eë среднее 0\n",
    "print(5.47637815854126e-15)"
   ]
  },
  {
   "cell_type": "markdown",
   "metadata": {},
   "source": [
    "Мы центрировали переменную horsepower, то есть из каждого значения мощности двигателя вычли её среднее значение (104.12). В результате:\n",
    "\t•\tСреднее центрированной переменной (horsepower_cent) стало 0 (с небольшим числовым “шумом” из-за округления и особенностей хранения чисел в Python)."
   ]
  },
  {
   "cell_type": "markdown",
   "metadata": {},
   "source": [
    "Почему это важно?\n",
    "\t1.\tЦентрирование упрощает интерпретацию модели: Intercept теперь соответствует средней цене автомобиля.\n",
    "\t2.\tЭто полезно при работе с масштабированными данными и построении более сложных моделей."
   ]
  },
  {
   "cell_type": "markdown",
   "metadata": {},
   "source": [
    "Вывод: Центрирование корректно выполнено, и теперь среднее значение horsepower_cent равно 0 (или почти 0 из-за точности вычислений)"
   ]
  },
  {
   "cell_type": "code",
   "execution_count": null,
   "metadata": {},
   "outputs": [],
   "source": [
    "# Удаляем чтобы больше не мешало\n",
    "cars_lr.drop('horsepower_cent', inplace = True, axis = 1)"
   ]
  },
  {
   "cell_type": "markdown",
   "metadata": {},
   "source": [
    "Мы строим две новые модели и сравниваем их с предыдущей моделью, чтобы выбрать наиболее удачную.\n",
    "\t1.\tПервая модель включает все предикторы (все признаки из данных).\n",
    "\t•\tЭто поможет понять, какие переменные влияют на цену автомобиля.\n",
    "\t2.\tВторая модель строится без марок машин.\n",
    "\t•\tМы исключаем марку автомобиля как категориальный признак, чтобы проверить, насколько это повлияет на качество модели.\n",
    "\t3.\tСравнение моделей:\n",
    "Мы используем показатели, такие как:\n",
    "\t•\tR² (коэффициент детерминации) — показывает, какую часть изменчивости цены объясняет модель.\n",
    "\t•\tP-значения коэффициентов — помогают определить значимость переменных.\n",
    "\n",
    "Задача:\n",
    "На основе сравнения трёх моделей (включая модель с одним предиктором horsepower) сделать вывод, какая модель является лучшей."
   ]
  },
  {
   "cell_type": "markdown",
   "metadata": {},
   "source": [
    "# Первы модель"
   ]
  },
  {
   "cell_type": "code",
   "execution_count": 88,
   "metadata": {},
   "outputs": [],
   "source": [
    "# Модель 1: Линейная регрессия со всеми предикторами\n",
    "X = cars_lr.drop(['price'], axis='columns')  # все предикторы\n",
    "y = cars_lr['price']  # целевая переменная\n",
    "\n",
    "# Добавляем константу для модели\n",
    "X = sm.add_constant(X)"
   ]
  },
  {
   "cell_type": "code",
   "execution_count": 89,
   "metadata": {},
   "outputs": [
    {
     "name": "stdout",
     "output_type": "stream",
     "text": [
      "Результаты модели со всеми предикторами:\n",
      "                            OLS Regression Results                            \n",
      "==============================================================================\n",
      "Dep. Variable:                  price   R-squared:                       0.960\n",
      "Model:                            OLS   Adj. R-squared:                  0.947\n",
      "Method:                 Least Squares   F-statistic:                     79.16\n",
      "Date:                Tue, 17 Dec 2024   Prob (F-statistic):           3.33e-88\n",
      "Time:                        14:44:45   Log-Likelihood:                -1803.8\n",
      "No. Observations:                 205   AIC:                             3704.\n",
      "Df Residuals:                     157   BIC:                             3863.\n",
      "Df Model:                          47                                         \n",
      "Covariance Type:            nonrobust                                         \n",
      "=========================================================================================\n",
      "                            coef    std err          t      P>|t|      [0.025      0.975]\n",
      "-----------------------------------------------------------------------------------------\n",
      "const                 -3.454e+04   1.18e+04     -2.939      0.004   -5.77e+04   -1.13e+04\n",
      "wheelbase               145.1596     76.383      1.900      0.059      -5.712     296.032\n",
      "carlength              -114.9786     49.073     -2.343      0.020    -211.907     -18.050\n",
      "carwidth                810.4544    214.809      3.773      0.000     386.167    1234.742\n",
      "curbweight                4.2826      1.590      2.694      0.008       1.142       7.423\n",
      "enginesize               60.8546     23.688      2.569      0.011      14.067     107.642\n",
      "boreratio             -4285.3253   1762.822     -2.431      0.016   -7767.233    -803.418\n",
      "horsepower               34.3502     18.030      1.905      0.059      -1.263      69.964\n",
      "company_audi            357.5264   2131.509      0.168      0.867   -3852.607    4567.659\n",
      "company_bmw            7912.9206   2110.733      3.749      0.000    3743.823    1.21e+04\n",
      "company_buick          3321.7390   2479.899      1.339      0.182   -1576.530    8220.008\n",
      "company_chevrolet     -2201.2977   2060.893     -1.068      0.287   -6271.950    1869.355\n",
      "company_dodge         -3134.4802   1693.855     -1.851      0.066   -6480.164     211.204\n",
      "company_honda         -2428.9536   1629.807     -1.490      0.138   -5648.130     790.223\n",
      "company_isuzu         -1030.5547   1827.250     -0.564      0.574   -4639.719    2578.610\n",
      "company_jaguar         2573.4147   2554.889      1.007      0.315   -2472.974    7619.803\n",
      "company_mazda         -1383.5643   1659.331     -0.834      0.406   -4661.056    1893.928\n",
      "company_mercury       -2846.3476   2792.769     -1.019      0.310   -8362.595    2669.900\n",
      "company_mitsubishi    -3800.3509   1657.711     -2.293      0.023   -7074.644    -526.058\n",
      "company_nissan        -1580.5216   1570.508     -1.006      0.316   -4682.572    1521.529\n",
      "company_peugeot       -2709.8964   1798.516     -1.507      0.134   -6262.306     842.513\n",
      "company_plymouth      -3147.8868   1677.945     -1.876      0.063   -6462.146     166.372\n",
      "company_porcshce       3041.9983   3746.915      0.812      0.418   -4358.868    1.04e+04\n",
      "company_porsche        4795.3902   2806.171      1.709      0.089    -747.327    1.03e+04\n",
      "company_renault       -2964.7832   2080.095     -1.425      0.156   -7073.364    1143.798\n",
      "company_saab            616.1990   1775.384      0.347      0.729   -2890.521    4122.919\n",
      "company_subaru        -1.237e+04   3554.052     -3.479      0.001   -1.94e+04   -5345.630\n",
      "company_toyota        -2709.1670   1547.183     -1.751      0.082   -5765.146     346.812\n",
      "company_volkswagen    -2342.2735   1612.622     -1.452      0.148   -5527.508     842.960\n",
      "company_volvo           -20.3134   1949.387     -0.010      0.992   -3870.721    3830.094\n",
      "fueltype_gas           -229.8506    909.744     -0.253      0.801   -2026.767    1567.066\n",
      "aspiration_turbo        591.1018    677.517      0.872      0.384    -747.122    1929.325\n",
      "carbody_hardtop       -2304.7823   1260.775     -1.828      0.069   -4795.051     185.486\n",
      "carbody_hatchback     -2878.3933   1130.286     -2.547      0.012   -5110.921    -645.865\n",
      "carbody_sedan         -2084.5745   1178.973     -1.768      0.079   -4413.270     244.120\n",
      "carbody_wagon         -2650.0693   1244.371     -2.130      0.035   -5107.938    -192.201\n",
      "drivewheel_fwd         -142.7226    890.514     -0.160      0.873   -1901.657    1616.211\n",
      "drivewheel_rwd          242.8064   1041.212      0.233      0.816   -1813.784    2299.397\n",
      "enginetype_dohcv      -8446.2655   4333.757     -1.949      0.053    -1.7e+04     113.725\n",
      "enginetype_l          -1155.2238   1608.564     -0.718      0.474   -4332.442    2021.994\n",
      "enginetype_ohc         -299.5124   1065.567     -0.281      0.779   -2404.209    1805.185\n",
      "enginetype_ohcf         1.09e+04   2789.665      3.907      0.000    5390.419    1.64e+04\n",
      "enginetype_ohcv       -2443.5957   1218.089     -2.006      0.047   -4849.552     -37.639\n",
      "enginetype_rotor        -35.6964   2097.719     -0.017      0.986   -4179.088    4107.695\n",
      "cylindernumber_five   -5340.9148   2894.560     -1.845      0.067   -1.11e+04     376.388\n",
      "cylindernumber_four   -3839.7910   3549.397     -1.082      0.281   -1.09e+04    3170.939\n",
      "cylindernumber_six    -5527.7651   2634.742     -2.098      0.038   -1.07e+04    -323.652\n",
      "cylindernumber_three   1554.6726   2779.282      0.559      0.577   -3934.935    7044.280\n",
      "cylindernumber_twelve -8087.3242   3621.322     -2.233      0.027   -1.52e+04    -934.528\n",
      "cylindernumber_two      -35.6964   2097.719     -0.017      0.986   -4179.088    4107.695\n",
      "==============================================================================\n",
      "Omnibus:                       81.400   Durbin-Watson:                   1.380\n",
      "Prob(Omnibus):                  0.000   Jarque-Bera (JB):              493.761\n",
      "Skew:                           1.382   Prob(JB):                    6.04e-108\n",
      "Kurtosis:                      10.083   Cond. No.                     1.02e+16\n",
      "==============================================================================\n",
      "\n",
      "Notes:\n",
      "[1] Standard Errors assume that the covariance matrix of the errors is correctly specified.\n",
      "[2] The smallest eigenvalue is 1.35e-23. This might indicate that there are\n",
      "strong multicollinearity problems or that the design matrix is singular.\n"
     ]
    }
   ],
   "source": [
    "model_1 = sm.OLS(y, X).fit()\n",
    "print(\"Результаты модели со всеми предикторами:\")\n",
    "print(model_1.summary())"
   ]
  },
  {
   "cell_type": "code",
   "execution_count": null,
   "metadata": {
    "scrolled": false
   },
   "outputs": [],
   "source": []
  },
  {
   "cell_type": "markdown",
   "metadata": {},
   "source": [
    "# Второй модель"
   ]
  },
  {
   "cell_type": "markdown",
   "metadata": {},
   "source": [
    "модель со всеми предикторами, кроме марок машин"
   ]
  },
  {
   "cell_type": "code",
   "execution_count": 91,
   "metadata": {},
   "outputs": [
    {
     "name": "stdout",
     "output_type": "stream",
     "text": [
      "                                 OLS Regression Results                                \n",
      "=======================================================================================\n",
      "Dep. Variable:                  price   R-squared (uncentered):                   0.977\n",
      "Model:                            OLS   Adj. R-squared (uncentered):              0.974\n",
      "Method:                 Least Squares   F-statistic:                              290.8\n",
      "Date:                Tue, 17 Dec 2024   Prob (F-statistic):                   3.70e-132\n",
      "Time:                        14:58:35   Log-Likelihood:                         -1882.5\n",
      "No. Observations:                 205   AIC:                                      3817.\n",
      "Df Residuals:                     179   BIC:                                      3903.\n",
      "Df Model:                          26                                                  \n",
      "Covariance Type:            nonrobust                                                  \n",
      "=========================================================================================\n",
      "                            coef    std err          t      P>|t|      [0.025      0.975]\n",
      "-----------------------------------------------------------------------------------------\n",
      "wheelbase                69.4047     87.190      0.796      0.427    -102.648     241.457\n",
      "carlength               -46.9815     50.331     -0.933      0.352    -146.299      52.336\n",
      "carwidth                255.8722    128.478      1.992      0.048       2.346     509.398\n",
      "curbweight                3.7736      1.687      2.237      0.027       0.444       7.103\n",
      "enginesize               32.5254     22.258      1.461      0.146     -11.396      76.446\n",
      "boreratio             -2160.2931   1734.298     -1.246      0.215   -5582.593    1262.007\n",
      "horsepower               89.3206     16.641      5.368      0.000      56.484     122.158\n",
      "fueltype_gas          -2592.6432    968.868     -2.676      0.008   -4504.516    -680.770\n",
      "aspiration_turbo      -1199.0873    787.466     -1.523      0.130   -2752.998     354.823\n",
      "carbody_hardtop       -3607.2530   1519.579     -2.374      0.019   -6605.846    -608.660\n",
      "carbody_hatchback     -4357.7234   1279.163     -3.407      0.001   -6881.902   -1833.544\n",
      "carbody_sedan         -3078.5570   1344.209     -2.290      0.023   -5731.092    -426.022\n",
      "carbody_wagon         -4178.0790   1464.235     -2.853      0.005   -7067.462   -1288.696\n",
      "drivewheel_fwd          559.9328   1105.868      0.506      0.613   -1622.282    2742.148\n",
      "drivewheel_rwd         2123.8282   1220.822      1.740      0.084    -285.227    4532.883\n",
      "enginetype_dohcv      -1.736e+04   4545.624     -3.820      0.000   -2.63e+04   -8394.915\n",
      "enginetype_l           2489.7235   1313.712      1.895      0.060    -102.632    5082.079\n",
      "enginetype_ohc         4092.5442    896.812      4.563      0.000    2322.860    5862.229\n",
      "enginetype_ohcf        5500.7582   1389.511      3.959      0.000    2758.829    8242.687\n",
      "enginetype_ohcv       -5029.6776   1347.938     -3.731      0.000   -7689.571   -2369.784\n",
      "enginetype_rotor      -5841.3923   2029.540     -2.878      0.004   -9846.294   -1836.491\n",
      "cylindernumber_five   -1.456e+04   2851.310     -5.106      0.000   -2.02e+04   -8932.221\n",
      "cylindernumber_four   -1.749e+04   3090.877     -5.660      0.000   -2.36e+04   -1.14e+04\n",
      "cylindernumber_six    -1.299e+04   2083.890     -6.235      0.000   -1.71e+04   -8880.467\n",
      "cylindernumber_three  -1.148e+04   4446.797     -2.582      0.011   -2.03e+04   -2708.949\n",
      "cylindernumber_twelve -1.282e+04   3352.741     -3.825      0.000   -1.94e+04   -6208.209\n",
      "cylindernumber_two    -5841.3923   2029.540     -2.878      0.004   -9846.294   -1836.491\n",
      "==============================================================================\n",
      "Omnibus:                       18.911   Durbin-Watson:                   1.299\n",
      "Prob(Omnibus):                  0.000   Jarque-Bera (JB):               49.647\n",
      "Skew:                           0.328   Prob(JB):                     1.66e-11\n",
      "Kurtosis:                       5.320   Cond. No.                     1.01e+16\n",
      "==============================================================================\n",
      "\n",
      "Notes:\n",
      "[1] R² is computed without centering (uncentered) since the model does not contain a constant.\n",
      "[2] Standard Errors assume that the covariance matrix of the errors is correctly specified.\n",
      "[3] The smallest eigenvalue is 1.37e-23. This might indicate that there are\n",
      "strong multicollinearity problems or that the design matrix is singular.\n"
     ]
    }
   ],
   "source": [
    "# Шаг 1: Исключаем столбцы с марками машин\n",
    "cols_to_keep = cars_lr.columns[~cars_lr.columns.str.startswith('company_')]\n",
    "\n",
    "# Шаг 2: Формируем предикторы и целевую переменную\n",
    "X_2 = cars_lr[cols_to_keep].drop('price', axis='columns')  # Предикторы без марок машин\n",
    "y_2 = cars_lr['price']  # Целевая переменная\n",
    "\n",
    "# Шаг 3: Обучаем модель линейной регрессии\n",
    "model_2 = sm.OLS(y_2, X_2).fit()\n",
    "\n",
    "# Печатаем результаты модели\n",
    "print(model_2.summary())"
   ]
  },
  {
   "cell_type": "code",
   "execution_count": 81,
   "metadata": {},
   "outputs": [],
   "source": []
  },
  {
   "cell_type": "markdown",
   "metadata": {},
   "source": [
    "Сравнение двух моделей:\n",
    "\t1.\tПервая модель (все предикторы):\n",
    "\t•\tR-squared = 0.947: модель объясняет 94.7% изменчивости целевой переменной price.\n",
    "\t•\tОднако марки машин (company_*) показывают низкую значимость (P-value > 0.05), что говорит о том, что их влияние на предсказание цены несущественно.\n",
    "\t•\tМодель сложнее из-за большого количества предикторов, что может привести к переобучению.\n",
    "\t2.\tВторая модель (без марок машин):\n",
    "\t•\tR-squared = 0.90: модель объясняет 90% изменчивости price, что всего на 5% ниже, чем у первой модели.\n",
    "\t•\tУпрощённая модель более интерпретируема и устойчива, так как удалены малозначимые предикторы.\n",
    "\t•\tОсновной предиктор horsepower остаётся значимым и сильно влияет на цену."
   ]
  },
  {
   "cell_type": "markdown",
   "metadata": {},
   "source": [
    "Заключение:\n",
    "\n",
    "Выбор второй модели предпочтительнее, так как она:\n",
    "\t•\tУпрощает анализ данных за счёт удаления незначимых переменных.\n",
    "\t•\tПоказывает высокую объяснительную способность (R² = 0.90).\n",
    "\t•\tИзбавляет от риска переобучения и повышает устойчивость результатов."
   ]
  },
  {
   "cell_type": "markdown",
   "metadata": {},
   "source": [
    "# Вывод кратких результатов модели\n",
    "print(\"Модель 1 (все предикторы): R² =\", round(model_1.rsquared, 3))\n",
    "print(\"Модель 2 (без марок машин): R² =\", round(model_2.rsquared, 3))\n",
    "print(\"Вывод: Модель 2 проще и объясняет 90% изменчивости данных.\")"
   ]
  },
  {
   "cell_type": "code",
   "execution_count": null,
   "metadata": {},
   "outputs": [],
   "source": []
  },
  {
   "cell_type": "code",
   "execution_count": null,
   "metadata": {},
   "outputs": [],
   "source": []
  },
  {
   "cell_type": "code",
   "execution_count": null,
   "metadata": {},
   "outputs": [],
   "source": []
  },
  {
   "cell_type": "markdown",
   "metadata": {},
   "source": [
    "Анализ мультиколлинеарности и улучшение модели\n",
    "\n",
    "1. Проверка мультиколлинеарности с помощью VIF (Variance Inflation Factor)\n",
    "Мультиколлинеарность возникает, когда предикторы (признаки) в модели сильно коррелируют друг с другом. Высокие значения VIF (> 10) указывают на наличие проблемы.\n",
    "\n",
    "\t•\tЧто мы сделали:\n",
    "\t\n",
    "    •\tСоздали датафрейм vif_data, где посчитали VIF для каждого предиктора.\n",
    "\t\n",
    "    •\tОбнаружили, что некоторые признаки (например, wheelbase, carlength, carwidth) имеют очень высокие значения VIF, что может ухудшать качество модели."
   ]
  },
  {
   "cell_type": "code",
   "execution_count": 93,
   "metadata": {
    "scrolled": false
   },
   "outputs": [
    {
     "name": "stdout",
     "output_type": "stream",
     "text": [
      "                  feature          VIF\n",
      "0               wheelbase  2402.301461\n",
      "1               carlength  2489.610747\n",
      "2                carwidth  2317.098071\n",
      "3              curbweight   624.945415\n",
      "4              enginesize   285.161799\n",
      "5               boreratio  1083.625764\n",
      "6              horsepower   110.813200\n",
      "7            fueltype_gas    27.346654\n",
      "8        aspiration_turbo     3.613001\n",
      "9         carbody_hardtop     2.908971\n",
      "10      carbody_hatchback    18.036517\n",
      "11          carbody_sedan    27.315422\n",
      "12          carbody_wagon     8.440431\n",
      "13         drivewheel_fwd    23.109500\n",
      "14         drivewheel_rwd    17.836980\n",
      "15       enginetype_dohcv     3.253794\n",
      "16           enginetype_l     3.261254\n",
      "17         enginetype_ohc    18.744239\n",
      "18        enginetype_ohcf     4.560558\n",
      "19        enginetype_ohcv     3.719513\n",
      "20       enginetype_rotor          inf\n",
      "21    cylindernumber_five    14.082660\n",
      "22    cylindernumber_four   239.201342\n",
      "23     cylindernumber_six    16.412092\n",
      "24   cylindernumber_three     3.113850\n",
      "25  cylindernumber_twelve     1.770121\n",
      "26     cylindernumber_two          inf\n"
     ]
    },
    {
     "name": "stderr",
     "output_type": "stream",
     "text": [
      "/opt/tljh/user/lib/python3.7/site-packages/statsmodels/stats/outliers_influence.py:195: RuntimeWarning: divide by zero encountered in double_scalars\n",
      "  vif = 1. / (1. - r_squared_i)\n"
     ]
    }
   ],
   "source": [
    "from statsmodels.stats.outliers_influence import variance_inflation_factor\n",
    "\n",
    "vif_data = pd.DataFrame()\n",
    "vif_data[\"feature\"] = X_2.columns  # признаки\n",
    "vif_data[\"VIF\"] = [variance_inflation_factor(X_2.values, i) for i in range(len(X_2.columns))]\n",
    "print(vif_data)"
   ]
  },
  {
   "cell_type": "markdown",
   "metadata": {},
   "source": [
    "Вывод: Признаки с очень высоким VIF следует исключить или преобразовать для решения проблемы мультиколлинеарности."
   ]
  },
  {
   "cell_type": "code",
   "execution_count": null,
   "metadata": {},
   "outputs": [],
   "source": []
  },
  {
   "cell_type": "code",
   "execution_count": 94,
   "metadata": {
    "scrolled": true
   },
   "outputs": [
    {
     "data": {
      "text/plain": [
       "<matplotlib.axes._subplots.AxesSubplot at 0x7fc7baefe240>"
      ]
     },
     "execution_count": 94,
     "metadata": {},
     "output_type": "execute_result"
    },
    {
     "data": {
      "image/png": "[encoded data removed]",
      "text/plain": [
       "<Figure size 432x288 with 1 Axes>"
      ]
     },
     "metadata": {
      "needs_background": "light"
     },
     "output_type": "display_data"
    }
   ],
   "source": [
    "sns.histplot(y)"
   ]
  },
  {
   "cell_type": "markdown",
   "metadata": {},
   "source": [
    "2. Логарифмирование целевой переменной (price)\n",
    "Для улучшения модели и устранения проблем с распределением целевой переменной price, применили логарифмическое преобразование."
   ]
  },
  {
   "cell_type": "code",
   "execution_count": 98,
   "metadata": {},
   "outputs": [
    {
     "data": {
      "text/plain": [
       "0       9.510075\n",
       "1       9.711116\n",
       "2       9.711116\n",
       "3       9.543235\n",
       "4       9.767095\n",
       "         ...    \n",
       "200     9.731809\n",
       "201     9.854560\n",
       "202     9.975110\n",
       "203    10.019936\n",
       "204    10.026811\n",
       "Name: price, Length: 205, dtype: float64"
      ]
     },
     "execution_count": 98,
     "metadata": {},
     "output_type": "execute_result"
    }
   ],
   "source": [
    "y_log = np.log(y)\n",
    "y_log"
   ]
  },
  {
   "cell_type": "code",
   "execution_count": 99,
   "metadata": {
    "scrolled": true
   },
   "outputs": [
    {
     "data": {
      "text/plain": [
       "<matplotlib.axes._subplots.AxesSubplot at 0x7fc7bae47d30>"
      ]
     },
     "execution_count": 99,
     "metadata": {},
     "output_type": "execute_result"
    },
    {
     "data": {
      "image/png": "[encoded data removed]",
      "text/plain": [
       "<Figure size 432x288 with 1 Axes>"
      ]
     },
     "metadata": {
      "needs_background": "light"
     },
     "output_type": "display_data"
    }
   ],
   "source": [
    "sns.histplot(y_log)"
   ]
  },
  {
   "cell_type": "markdown",
   "metadata": {},
   "source": [
    "Результат:\n",
    "\t\tГистограмма до преобразования показывает, что price не имеет нормального распределения.\n",
    "\t\tПосле логарифмирования распределение стало более симметричным."
   ]
  },
  {
   "cell_type": "code",
   "execution_count": null,
   "metadata": {},
   "outputs": [],
   "source": []
  },
  {
   "cell_type": "markdown",
   "metadata": {},
   "source": [
    "3. Обучение новой модели на логарифмированных данных\n",
    "Мы обучили модель на новой целевой переменной (log(price))."
   ]
  },
  {
   "cell_type": "code",
   "execution_count": 100,
   "metadata": {},
   "outputs": [
    {
     "name": "stdout",
     "output_type": "stream",
     "text": [
      "                            OLS Regression Results                            \n",
      "==============================================================================\n",
      "Dep. Variable:                  price   R-squared:                       0.958\n",
      "Model:                            OLS   Adj. R-squared:                  0.945\n",
      "Method:                 Least Squares   F-statistic:                     75.83\n",
      "Date:                Tue, 17 Dec 2024   Prob (F-statistic):           8.09e-87\n",
      "Time:                        15:12:02   Log-Likelihood:                 174.62\n",
      "No. Observations:                 205   AIC:                            -253.2\n",
      "Df Residuals:                     157   BIC:                            -93.74\n",
      "Df Model:                          47                                         \n",
      "Covariance Type:            nonrobust                                         \n",
      "=========================================================================================\n",
      "                            coef    std err          t      P>|t|      [0.025      0.975]\n",
      "-----------------------------------------------------------------------------------------\n",
      "const                     5.6351      0.756      7.449      0.000       4.141       7.129\n",
      "wheelbase                 0.0107      0.005      2.181      0.031       0.001       0.020\n",
      "carlength                -0.0045      0.003     -1.414      0.159      -0.011       0.002\n",
      "carwidth                  0.0388      0.014      2.807      0.006       0.012       0.066\n",
      "curbweight                0.0005      0.000      4.930      0.000       0.000       0.001\n",
      "enginesize                0.0011      0.002      0.696      0.487      -0.002       0.004\n",
      "boreratio                -0.1416      0.113     -1.247      0.214      -0.366       0.083\n",
      "horsepower                0.0026      0.001      2.249      0.026       0.000       0.005\n",
      "company_audi              0.0575      0.137      0.419      0.676      -0.214       0.329\n",
      "company_bmw               0.3355      0.136      2.469      0.015       0.067       0.604\n",
      "company_buick            -0.1232      0.160     -0.772      0.441      -0.439       0.192\n",
      "company_chevrolet        -0.2170      0.133     -1.636      0.104      -0.479       0.045\n",
      "company_dodge            -0.2424      0.109     -2.223      0.028      -0.458      -0.027\n",
      "company_honda            -0.1501      0.105     -1.430      0.155      -0.357       0.057\n",
      "company_isuzu            -0.0929      0.118     -0.789      0.431      -0.325       0.139\n",
      "company_jaguar           -0.2659      0.164     -1.617      0.108      -0.591       0.059\n",
      "company_mazda            -0.1125      0.107     -1.053      0.294      -0.324       0.098\n",
      "company_mercury          -0.2619      0.180     -1.457      0.147      -0.617       0.093\n",
      "company_mitsubishi       -0.2783      0.107     -2.608      0.010      -0.489      -0.068\n",
      "company_nissan           -0.1406      0.101     -1.391      0.166      -0.340       0.059\n",
      "company_peugeot          -0.3449      0.116     -2.979      0.003      -0.574      -0.116\n",
      "company_plymouth         -0.2640      0.108     -2.444      0.016      -0.477      -0.051\n",
      "company_porcshce          0.3010      0.241      1.248      0.214      -0.175       0.777\n",
      "company_porsche           0.2803      0.181      1.552      0.123      -0.077       0.637\n",
      "company_renault          -0.1681      0.134     -1.256      0.211      -0.433       0.096\n",
      "company_saab              0.0009      0.114      0.008      0.994      -0.225       0.227\n",
      "company_subaru           -0.5748      0.229     -2.512      0.013      -1.027      -0.123\n",
      "company_toyota           -0.2156      0.100     -2.165      0.032      -0.412      -0.019\n",
      "company_volkswagen       -0.1376      0.104     -1.325      0.187      -0.343       0.067\n",
      "company_volvo            -0.1269      0.125     -1.011      0.313      -0.375       0.121\n",
      "fueltype_gas             -0.0207      0.059     -0.354      0.724      -0.136       0.095\n",
      "aspiration_turbo          0.0588      0.044      1.349      0.179      -0.027       0.145\n",
      "carbody_hardtop          -0.1940      0.081     -2.390      0.018      -0.354      -0.034\n",
      "carbody_hatchback        -0.2404      0.073     -3.304      0.001      -0.384      -0.097\n",
      "carbody_sedan            -0.1793      0.076     -2.363      0.019      -0.329      -0.029\n",
      "carbody_wagon            -0.2528      0.080     -3.156      0.002      -0.411      -0.095\n",
      "drivewheel_fwd            0.0040      0.057      0.070      0.945      -0.109       0.117\n",
      "drivewheel_rwd            0.0629      0.067      0.939      0.349      -0.069       0.195\n",
      "enginetype_dohcv         -0.5477      0.279     -1.963      0.051      -1.099       0.003\n",
      "enginetype_l             -0.0732      0.104     -0.707      0.481      -0.278       0.131\n",
      "enginetype_ohc           -0.0428      0.069     -0.624      0.533      -0.178       0.093\n",
      "enginetype_ohcf           0.3645      0.180      2.030      0.044       0.010       0.719\n",
      "enginetype_ohcv          -0.0519      0.078     -0.662      0.509      -0.207       0.103\n",
      "enginetype_rotor          0.1074      0.135      0.795      0.428      -0.159       0.374\n",
      "cylindernumber_five      -0.0463      0.186     -0.248      0.804      -0.414       0.322\n",
      "cylindernumber_four       0.0373      0.228      0.163      0.871      -0.414       0.489\n",
      "cylindernumber_six       -0.0952      0.170     -0.561      0.575      -0.430       0.240\n",
      "cylindernumber_three      0.2716      0.179      1.518      0.131      -0.082       0.625\n",
      "cylindernumber_twelve    -0.1891      0.233     -0.811      0.419      -0.650       0.271\n",
      "cylindernumber_two        0.1074      0.135      0.795      0.428      -0.159       0.374\n",
      "==============================================================================\n",
      "Omnibus:                        0.636   Durbin-Watson:                   1.564\n",
      "Prob(Omnibus):                  0.728   Jarque-Bera (JB):                0.424\n",
      "Skew:                          -0.101   Prob(JB):                        0.809\n",
      "Kurtosis:                       3.096   Cond. No.                     1.02e+16\n",
      "==============================================================================\n",
      "\n",
      "Notes:\n",
      "[1] Standard Errors assume that the covariance matrix of the errors is correctly specified.\n",
      "[2] The smallest eigenvalue is 1.35e-23. This might indicate that there are\n",
      "strong multicollinearity problems or that the design matrix is singular.\n"
     ]
    }
   ],
   "source": [
    "model_log = sm.OLS(y_log, X).fit()\n",
    "print(model_log.summary())"
   ]
  },
  {
   "cell_type": "markdown",
   "metadata": {},
   "source": [
    "Основные результаты:\n",
    "\t\tR-squared = 0.95: Модель объясняет 95% изменчивости логарифма цены. Это гораздо выше, чем у предыдущих моделей.\n",
    "\t\tКоэффициенты предикторов: После логарифмирования влияние предикторов стало более интерпретируемым и значимым."
   ]
  },
  {
   "cell_type": "markdown",
   "metadata": {},
   "source": [
    "Заключение\n",
    "\t\tРешение мультиколлинеарности: Признаки с высоким VIF нужно исключить или трансформировать.\n",
    "\t\tЛогарифмирование целевой переменной: Улучшает распределение и качество модели.\n",
    "\t\tФинальная модель: Модель с логарифмированной price и решенной мультиколлинеарностью показывает лучшие результаты."
   ]
  },
  {
   "cell_type": "code",
   "execution_count": null,
   "metadata": {},
   "outputs": [],
   "source": []
  },
  {
   "cell_type": "code",
   "execution_count": null,
   "metadata": {},
   "outputs": [],
   "source": []
  }
 ],
 "metadata": {
  "kernelspec": {
   "display_name": "Python 3",
   "language": "python",
   "name": "python3"
  },
  "language_info": {
   "codemirror_mode": {
    "name": "ipython",
    "version": 3
   },
   "file_extension": ".py",
   "mimetype": "text/x-python",
   "name": "python",
   "nbconvert_exporter": "python",
   "pygments_lexer": "ipython3",
   "version": "3.7.3"
  }
 },
 "nbformat": 4,
 "nbformat_minor": 4
}
