{
 "cells": [
  {
   "cell_type": "markdown",
   "metadata": {},
   "source": [
    "Цель проекта\n",
    "\n",
    "Провести анализ данных A/B теста нового алгоритма доставки, который оптимизирует последние заказы курьеров так, чтобы они совпадали с их маршрутом домой. Мы сравним среднее время доставки между двумя группами курьеров:\n",
    "\t•\tControl (старый алгоритм)\n",
    "\t•\tTest (новый алгоритм с опцией “по пути”)\n",
    "\n",
    "Цель — понять, улучшает ли новый алгоритм среднее время доставки, и принять решение о его дальнейшем внедрении."
   ]
  },
  {
   "cell_type": "markdown",
   "metadata": {},
   "source": [
    "План работы\n",
    "\t1.\tЗагрузка и первичная обработка данных:\n",
    "\t•\tПроверка структуры данных (размерность, типы данных, пропуски).\n",
    "\t•\tОписание и распределение данных по группам.\n",
    "\t2.\tАнализ данных:\n",
    "\t•\tИсследование времени доставки по группам.\n",
    "\t•\tВизуализация распределений для сравнения.\n",
    "\t3.\tСтатистическое сравнение средних значений:\n",
    "\t•\tПроведение T-теста для проверки гипотезы о различии средних значений между группами.\n",
    "\t•\tИнтерпретация результатов.\n",
    "\t4.\tВыводы и рекомендации."
   ]
  },
  {
   "cell_type": "code",
   "execution_count": 89,
   "metadata": {},
   "outputs": [],
   "source": [
    "import pandas as pd\n",
    "import numpy as np\n",
    "import matplotlib.pyplot as plt\n",
    "import seaborn as sns\n",
    "import scipy.stats as st\n",
    "%matplotlib inline"
   ]
  },
  {
   "cell_type": "code",
   "execution_count": 90,
   "metadata": {},
   "outputs": [],
   "source": [
    "df = pd.read_csv(\"../analytics/experiment_lesson_4.csv\")"
   ]
  },
  {
   "cell_type": "code",
   "execution_count": 91,
   "metadata": {
    "scrolled": false
   },
   "outputs": [
    {
     "name": "stdout",
     "output_type": "stream",
     "text": [
      "<class 'pandas.core.frame.DataFrame'>\n",
      "RangeIndex: 20196 entries, 0 to 20195\n",
      "Data columns (total 4 columns):\n",
      " #   Column            Non-Null Count  Dtype  \n",
      "---  ------            --------------  -----  \n",
      " 0   order_id          20196 non-null  int64  \n",
      " 1   delivery_time     20196 non-null  float64\n",
      " 2   district          20196 non-null  object \n",
      " 3   experiment_group  20196 non-null  object \n",
      "dtypes: float64(1), int64(1), object(2)\n",
      "memory usage: 631.2+ KB\n"
     ]
    }
   ],
   "source": [
    "df.info()"
   ]
  },
  {
   "cell_type": "code",
   "execution_count": 92,
   "metadata": {
    "scrolled": true
   },
   "outputs": [
    {
     "data": {
      "text/html": [
       "<div>\n",
       "<style scoped>\n",
       "    .dataframe tbody tr th:only-of-type {\n",
       "        vertical-align: middle;\n",
       "    }\n",
       "\n",
       "    .dataframe tbody tr th {\n",
       "        vertical-align: top;\n",
       "    }\n",
       "\n",
       "    .dataframe thead th {\n",
       "        text-align: right;\n",
       "    }\n",
       "</style>\n",
       "<table border=\"1\" class=\"dataframe\">\n",
       "  <thead>\n",
       "    <tr style=\"text-align: right;\">\n",
       "      <th></th>\n",
       "      <th>order_id</th>\n",
       "      <th>delivery_time</th>\n",
       "      <th>district</th>\n",
       "      <th>experiment_group</th>\n",
       "    </tr>\n",
       "  </thead>\n",
       "  <tbody>\n",
       "    <tr>\n",
       "      <th>6878</th>\n",
       "      <td>8715</td>\n",
       "      <td>47.0</td>\n",
       "      <td>Purlieus</td>\n",
       "      <td>control</td>\n",
       "    </tr>\n",
       "    <tr>\n",
       "      <th>13431</th>\n",
       "      <td>19947</td>\n",
       "      <td>28.0</td>\n",
       "      <td>Central</td>\n",
       "      <td>test</td>\n",
       "    </tr>\n",
       "    <tr>\n",
       "      <th>2093</th>\n",
       "      <td>5446</td>\n",
       "      <td>56.0</td>\n",
       "      <td>Purlieus</td>\n",
       "      <td>control</td>\n",
       "    </tr>\n",
       "    <tr>\n",
       "      <th>9673</th>\n",
       "      <td>10410</td>\n",
       "      <td>47.0</td>\n",
       "      <td>Purlieus</td>\n",
       "      <td>control</td>\n",
       "    </tr>\n",
       "    <tr>\n",
       "      <th>18175</th>\n",
       "      <td>18355</td>\n",
       "      <td>48.0</td>\n",
       "      <td>Purlieus</td>\n",
       "      <td>test</td>\n",
       "    </tr>\n",
       "  </tbody>\n",
       "</table>\n",
       "</div>"
      ],
      "text/plain": [
       "       order_id  delivery_time  district experiment_group\n",
       "6878       8715           47.0  Purlieus          control\n",
       "13431     19947           28.0   Central             test\n",
       "2093       5446           56.0  Purlieus          control\n",
       "9673      10410           47.0  Purlieus          control\n",
       "18175     18355           48.0  Purlieus             test"
      ]
     },
     "execution_count": 92,
     "metadata": {},
     "output_type": "execute_result"
    }
   ],
   "source": [
    "df.sample(5)"
   ]
  },
  {
   "cell_type": "code",
   "execution_count": 93,
   "metadata": {},
   "outputs": [
    {
     "data": {
      "text/plain": [
       "order_id            0\n",
       "delivery_time       0\n",
       "district            0\n",
       "experiment_group    0\n",
       "dtype: int64"
      ]
     },
     "execution_count": 93,
     "metadata": {},
     "output_type": "execute_result"
    }
   ],
   "source": [
    "df.isna().sum()"
   ]
  },
  {
   "cell_type": "code",
   "execution_count": 101,
   "metadata": {},
   "outputs": [],
   "source": [
    "# Фильтруем данные по экспериментальным группам:\n",
    "# 1. Контрольная группа (старый алгоритм) — сохраняем только время доставки\n",
    "control = df[df['experiment_group'] == 'control']['delivery_time']\n",
    "\n",
    "# 2. Тестовая группа (новый алгоритм с опцией \"по пути\") — сохраняем время доставки\n",
    "test = df[df['experiment_group'] == 'test']['delivery_time']"
   ]
  },
  {
   "cell_type": "code",
   "execution_count": 102,
   "metadata": {},
   "outputs": [
    {
     "data": {
      "text/html": [
       "<div>\n",
       "<style scoped>\n",
       "    .dataframe tbody tr th:only-of-type {\n",
       "        vertical-align: middle;\n",
       "    }\n",
       "\n",
       "    .dataframe tbody tr th {\n",
       "        vertical-align: top;\n",
       "    }\n",
       "\n",
       "    .dataframe thead th {\n",
       "        text-align: right;\n",
       "    }\n",
       "</style>\n",
       "<table border=\"1\" class=\"dataframe\">\n",
       "  <thead>\n",
       "    <tr style=\"text-align: right;\">\n",
       "      <th></th>\n",
       "      <th>order_id</th>\n",
       "      <th>delivery_time</th>\n",
       "      <th>district</th>\n",
       "      <th>experiment_group</th>\n",
       "    </tr>\n",
       "  </thead>\n",
       "  <tbody>\n",
       "    <tr>\n",
       "      <th>0</th>\n",
       "      <td>3159</td>\n",
       "      <td>44.0</td>\n",
       "      <td>Purlieus</td>\n",
       "      <td>control</td>\n",
       "    </tr>\n",
       "    <tr>\n",
       "      <th>1</th>\n",
       "      <td>10426</td>\n",
       "      <td>51.0</td>\n",
       "      <td>Purlieus</td>\n",
       "      <td>control</td>\n",
       "    </tr>\n",
       "    <tr>\n",
       "      <th>2</th>\n",
       "      <td>9155</td>\n",
       "      <td>46.0</td>\n",
       "      <td>Purlieus</td>\n",
       "      <td>control</td>\n",
       "    </tr>\n",
       "    <tr>\n",
       "      <th>3</th>\n",
       "      <td>10699</td>\n",
       "      <td>34.0</td>\n",
       "      <td>Purlieus</td>\n",
       "      <td>control</td>\n",
       "    </tr>\n",
       "    <tr>\n",
       "      <th>4</th>\n",
       "      <td>10061</td>\n",
       "      <td>43.0</td>\n",
       "      <td>Purlieus</td>\n",
       "      <td>control</td>\n",
       "    </tr>\n",
       "    <tr>\n",
       "      <th>...</th>\n",
       "      <td>...</td>\n",
       "      <td>...</td>\n",
       "      <td>...</td>\n",
       "      <td>...</td>\n",
       "    </tr>\n",
       "    <tr>\n",
       "      <th>20191</th>\n",
       "      <td>14561</td>\n",
       "      <td>42.0</td>\n",
       "      <td>Suburb</td>\n",
       "      <td>test</td>\n",
       "    </tr>\n",
       "    <tr>\n",
       "      <th>20192</th>\n",
       "      <td>12015</td>\n",
       "      <td>32.0</td>\n",
       "      <td>Suburb</td>\n",
       "      <td>test</td>\n",
       "    </tr>\n",
       "    <tr>\n",
       "      <th>20193</th>\n",
       "      <td>20077</td>\n",
       "      <td>23.0</td>\n",
       "      <td>Purlieus</td>\n",
       "      <td>test</td>\n",
       "    </tr>\n",
       "    <tr>\n",
       "      <th>20194</th>\n",
       "      <td>14861</td>\n",
       "      <td>41.0</td>\n",
       "      <td>Central</td>\n",
       "      <td>test</td>\n",
       "    </tr>\n",
       "    <tr>\n",
       "      <th>20195</th>\n",
       "      <td>13501</td>\n",
       "      <td>41.0</td>\n",
       "      <td>Central</td>\n",
       "      <td>test</td>\n",
       "    </tr>\n",
       "  </tbody>\n",
       "</table>\n",
       "<p>20196 rows × 4 columns</p>\n",
       "</div>"
      ],
      "text/plain": [
       "       order_id  delivery_time  district experiment_group\n",
       "0          3159           44.0  Purlieus          control\n",
       "1         10426           51.0  Purlieus          control\n",
       "2          9155           46.0  Purlieus          control\n",
       "3         10699           34.0  Purlieus          control\n",
       "4         10061           43.0  Purlieus          control\n",
       "...         ...            ...       ...              ...\n",
       "20191     14561           42.0    Suburb             test\n",
       "20192     12015           32.0    Suburb             test\n",
       "20193     20077           23.0  Purlieus             test\n",
       "20194     14861           41.0   Central             test\n",
       "20195     13501           41.0   Central             test\n",
       "\n",
       "[20196 rows x 4 columns]"
      ]
     },
     "execution_count": 102,
     "metadata": {},
     "output_type": "execute_result"
    }
   ],
   "source": [
    "df"
   ]
  },
  {
   "cell_type": "markdown",
   "metadata": {},
   "source": [
    "Формулировка гипотез\n",
    "\n",
    "\t\tВерно: Нулевая гипотеза (H0) — разницы между средним временем доставки в тестовой и контрольной группе нет.\n",
    "\t\tНулевая гипотеза (H0) предполагает, что новый алгоритм не оказывает статистически значимого влияния на время доставки.\n",
    "        \n",
    "\t\tАльтернативная гипотеза (H1) утверждает, что разница существует."
   ]
  },
  {
   "cell_type": "code",
   "execution_count": 95,
   "metadata": {},
   "outputs": [
    {
     "name": "stderr",
     "output_type": "stream",
     "text": [
      "No handles with labels found to put in legend.\n"
     ]
    },
    {
     "data": {
      "image/png": "[encoded data removed]",
      "text/plain": [
       "<Figure size 792x504 with 1 Axes>"
      ]
     },
     "metadata": {
      "needs_background": "light"
     },
     "output_type": "display_data"
    }
   ],
   "source": [
    "# График распределения времени доставки для контрольной группы по районам\n",
    "plt.figure(figsize=(11, 7))\n",
    "\n",
    "sns.histplot(data=df[df['experiment_group'] == 'control'], \n",
    "             x='delivery_time', \n",
    "             hue='district', \n",
    "             bins=30, \n",
    "             alpha=0.6)\n",
    "plt.title('Распределение времени доставки для контрольной группы по районам', fontsize=14)\n",
    "plt.xlabel('Время доставки (минуты)', fontsize=12)\n",
    "plt.ylabel('Частота', fontsize=12)\n",
    "plt.legend(title='Район')\n",
    "plt.grid(alpha=0.3)\n",
    "plt.show()"
   ]
  },
  {
   "cell_type": "markdown",
   "metadata": {},
   "source": [
    "Цель данного этапа — сравнить распределения времени доставки в контрольной группе (старый алгоритм) и тестовой группе (новый алгоритм) для проверки гипотезы о равенстве средних значений."
   ]
  },
  {
   "cell_type": "code",
   "execution_count": 96,
   "metadata": {},
   "outputs": [
    {
     "data": {
      "text/plain": [
       "Purlieus    16960\n",
       "Central      2396\n",
       "Suburb        840\n",
       "Name: district, dtype: int64"
      ]
     },
     "execution_count": 96,
     "metadata": {},
     "output_type": "execute_result"
    }
   ],
   "source": [
    "df['district'].value_counts()"
   ]
  },
  {
   "cell_type": "code",
   "execution_count": null,
   "metadata": {},
   "outputs": [],
   "source": []
  },
  {
   "cell_type": "code",
   "execution_count": 97,
   "metadata": {
    "scrolled": false
   },
   "outputs": [
    {
     "name": "stderr",
     "output_type": "stream",
     "text": [
      "No handles with labels found to put in legend.\n"
     ]
    },
    {
     "data": {
      "image/png": "[encoded data removed]",
      "text/plain": [
       "<Figure size 792x504 with 1 Axes>"
      ]
     },
     "metadata": {
      "needs_background": "light"
     },
     "output_type": "display_data"
    }
   ],
   "source": [
    "# График распределения времени доставки для тестовой группы по районам\n",
    "plt.figure(figsize=(11, 7))\n",
    "\n",
    "sns.histplot(data=df[df['experiment_group'] == 'test'], \n",
    "             x='delivery_time', \n",
    "             hue='district', \n",
    "             bins=30, \n",
    "             alpha=0.6)\n",
    "plt.title('Распределение времени доставки для тестовой группы по районам', fontsize=14)\n",
    "plt.xlabel('Время доставки (минуты)', fontsize=12)\n",
    "plt.ylabel('Частота', fontsize=12)\n",
    "plt.legend(title='Район')\n",
    "plt.grid(alpha=0.3)\n",
    "plt.show()"
   ]
  },
  {
   "cell_type": "markdown",
   "metadata": {},
   "source": [
    "\n",
    "Проверим количество наблюдений в тестовой и контрольной группах и посчитать их разницу."
   ]
  },
  {
   "cell_type": "code",
   "execution_count": 98,
   "metadata": {},
   "outputs": [
    {
     "data": {
      "text/plain": [
       "12"
      ]
     },
     "execution_count": 98,
     "metadata": {},
     "output_type": "execute_result"
    }
   ],
   "source": [
    "# Считаем количество наблюдений для тестовой группы\n",
    "test_shape = df[df['experiment_group'] == 'test'].shape[0]\n",
    "\n",
    "# Считаем количество наблюдений для контрольной группы\n",
    "control_shape = df[df['experiment_group'] == 'control'].shape[0]\n",
    "\n",
    "# Находим разницу в количестве наблюдений между группами\n",
    "test_shape - control_shape"
   ]
  },
  {
   "cell_type": "markdown",
   "metadata": {},
   "source": [
    "Pазница между тестовой и контрольной группами составляет 12 наблюдений, что можно считать допустимым отклонением\n",
    "при равномерном распределении на практике."
   ]
  },
  {
   "cell_type": "code",
   "execution_count": null,
   "metadata": {},
   "outputs": [],
   "source": []
  },
  {
   "cell_type": "code",
   "execution_count": null,
   "metadata": {},
   "outputs": [],
   "source": []
  },
  {
   "cell_type": "markdown",
   "metadata": {},
   "source": [
    "1.\tПроверяем нормальность распределения:\n",
    "\n",
    "\t\tИспользуем тест Агостино-Пирсона через scipy.stats.normaltest() для контрольной и тестовой групп.\n",
    "        \n",
    "        Нулевая гипотеза теста: данные распределены нормально\n",
    "        \n",
    "2.\tСчитаем стандартное отклонение:\n",
    "\n",
    "\t\tОно показывает, насколько сильно время доставки варьируется вокруг среднего значения для каждой группы."
   ]
  },
  {
   "cell_type": "code",
   "execution_count": 99,
   "metadata": {
    "scrolled": false
   },
   "outputs": [
    {
     "name": "stdout",
     "output_type": "stream",
     "text": [
      "Тест нормальности для тестовой группы:\n",
      "NormaltestResult(statistic=7.024157092641915, pvalue=0.02983483685333173)\n",
      "\n",
      "Тест нормальности для контрольной группы:\n",
      "NormaltestResult(statistic=0.25349755437872584, pvalue=0.8809549607809654)\n",
      "\n",
      "Результаты через pingouin:\n",
      "                W      pval  normal\n",
      "control  0.253498  0.880955    True\n",
      "test     7.024157  0.029835   False\n",
      "\n",
      "Стандартное отклонение:\n",
      "Тестовая группа: 9.88\n",
      "Контрольная группа: 9.99\n"
     ]
    }
   ],
   "source": [
    "# Импорт библиотек\n",
    "import scipy as scipy\n",
    "from scipy.stats import normaltest\n",
    "import pingouin as pg\n",
    "\n",
    "# Фильтруем данные по группам\n",
    "test_group = df.query(\"experiment_group == 'test'\")['delivery_time']\n",
    "control_group = df.query(\"experiment_group == 'control'\")['delivery_time']\n",
    "\n",
    "# Проверка нормальности распределения\n",
    "print(\"Тест нормальности для тестовой группы:\")\n",
    "print(scipy.stats.normaltest(test_group))\n",
    "print(\"\\nТест нормальности для контрольной группы:\")\n",
    "print(scipy.stats.normaltest(control_group))\n",
    "\n",
    "# Проверка через pingouin\n",
    "print(\"\\nРезультаты через pingouin:\")\n",
    "print(pg.normality(data=df, dv=\"delivery_time\", group=\"experiment_group\", method=\"normaltest\"))\n",
    "\n",
    "# Стандартное отклонение для обеих групп\n",
    "print(\"\\nСтандартное отклонение:\")\n",
    "print(\"Тестовая группа:\", round(test_group.std(), 2))\n",
    "print(\"Контрольная группа:\", round(control_group.std(), 2))"
   ]
  },
  {
   "cell_type": "code",
   "execution_count": null,
   "metadata": {},
   "outputs": [],
   "source": []
  },
  {
   "cell_type": "markdown",
   "metadata": {},
   "source": [
    "\tНормальность:\n",
    "\t\tТестовая группа: p-value = 0.0298 ⟶ распределение не является нормальным (отклоняем H0).\n",
    "\t\tКонтрольная группа: p-value = 0.88 ⟶ распределение нормальное (принимаем H0).\n"
   ]
  },
  {
   "cell_type": "code",
   "execution_count": null,
   "metadata": {},
   "outputs": [],
   "source": []
  },
  {
   "cell_type": "markdown",
   "metadata": {},
   "source": [
    "Чтобы посчитать t-статистику для сравнения средних значений между тестовой и контрольной группами, используем t-тест Стьюдента из модуля scipy.stats"
   ]
  },
  {
   "cell_type": "code",
   "execution_count": 100,
   "metadata": {},
   "outputs": [
    {
     "name": "stdout",
     "output_type": "stream",
     "text": [
      "t-статистика: -43.04\n",
      "p-value: 0.0000\n"
     ]
    }
   ],
   "source": [
    "from scipy.stats import ttest_ind\n",
    "\n",
    "# Проведение t-теста\n",
    "t_stat, p_value = ttest_ind(test_group, control_group, equal_var = False)  # Welch's t-test\n",
    "\n",
    "# Вывод результатов\n",
    "print(f\"t-статистика: {t_stat:.2f}\")\n",
    "print(f\"p-value: {p_value:.4f}\")"
   ]
  },
  {
   "cell_type": "markdown",
   "metadata": {},
   "source": [
    "Сравнение средних значений с использованием t-теста\n",
    "\n",
    "Для проверки разницы между средним временем доставки в контрольной и тестовой группах используем t-тест Стьюдента.\n",
    "\t1.\tНулевая гипотеза (H0): Среднее время доставки в тестовой и контрольной группах не различается.\n",
    "\t2.\tАльтернативная гипотеза (H1): Среднее время доставки различается между группами."
   ]
  },
  {
   "cell_type": "markdown",
   "metadata": {},
   "source": [
    "\n",
    "\tt-тест подходит для сравнения средних двух групп, даже если данные слегка отклоняются от нормального распределения, благодаря большому объему выборок.\n",
    "\tТакже проверил значение p-value, чтобы понять, статистически значимо ли это различие.\n",
    "\n",
    "Вывод:\n",
    "\t\tСтатистика t-теста равна -43.\n",
    "\t\tЗначение p-value ≤ 0.05, что позволяет отвергнуть нулевую гипотезу.\n",
    "\t\tЭто говорит о том, что среднее время доставки в тестовой и контрольной группах различается.\n",
    "\n",
    "Таким образом, новый алгоритм “по пути” оказывает влияние на скорость доставки."
   ]
  },
  {
   "cell_type": "markdown",
   "metadata": {},
   "source": [
    "# Графическое представление"
   ]
  },
  {
   "cell_type": "code",
   "execution_count": 80,
   "metadata": {
    "scrolled": false
   },
   "outputs": [
    {
     "data": {
      "image/png": "[encoded data removed]",
      "text/plain": [
       "<Figure size 720x432 with 1 Axes>"
      ]
     },
     "metadata": {
      "needs_background": "light"
     },
     "output_type": "display_data"
    }
   ],
   "source": [
    "\n",
    "import numpy as np\n",
    "import matplotlib.pyplot as plt\n",
    "from scipy.stats import t\n",
    "\n",
    "# Параметры\n",
    "df = 30  # Степени свободы\n",
    "t_value = -43  # t-статистика\n",
    "\n",
    "# Генерация t-распределения\n",
    "x = np.linspace(-5, 5, 1000)  # Диапазон значений t-распределения\n",
    "y = t.pdf(x, df)  # Плотность распределения\n",
    "\n",
    "# Построение графика\n",
    "plt.figure(figsize=(10, 6))\n",
    "plt.plot(x, y, label='t-распределение', color='blue')\n",
    "plt.axvline(t_value, color='red', linestyle='--', label=f't = {t_value}')\n",
    "plt.fill_between(x, 0, y, where=(x <= t_value), color='red', alpha=0.5, label='p-value')\n",
    "\n",
    "# Настройки\n",
    "plt.title('Визуализация t-статистики на t-распределении')\n",
    "plt.xlabel('t-значения')\n",
    "plt.ylabel('Плотность вероятности')\n",
    "plt.legend()\n",
    "plt.grid()\n",
    "plt.show()"
   ]
  },
  {
   "cell_type": "code",
   "execution_count": null,
   "metadata": {},
   "outputs": [],
   "source": []
  },
  {
   "cell_type": "markdown",
   "metadata": {},
   "source": [
    "На сколько процентов изменилось среднее время доставки в тестовой группе по сравнению с контрольной ?\n"
   ]
  },
  {
   "cell_type": "code",
   "execution_count": 81,
   "metadata": {},
   "outputs": [
    {
     "data": {
      "text/plain": [
       "-13.354653121660812"
      ]
     },
     "execution_count": 81,
     "metadata": {},
     "output_type": "execute_result"
    }
   ],
   "source": [
    "# Расчёт процента изменения среднего времени доставки\n",
    "percent_of_chanch = ((test_group.mean() - control_group.mean()) / control_group.mean()) * 100\n",
    "percent_of_chanch"
   ]
  },
  {
   "cell_type": "code",
   "execution_count": 82,
   "metadata": {},
   "outputs": [
    {
     "data": {
      "text/plain": [
       "45.065101070154576"
      ]
     },
     "execution_count": 82,
     "metadata": {},
     "output_type": "execute_result"
    }
   ],
   "source": [
    "control_group.mean()"
   ]
  },
  {
   "cell_type": "code",
   "execution_count": 83,
   "metadata": {},
   "outputs": [
    {
     "data": {
      "text/plain": [
       "39.04681314330958"
      ]
     },
     "execution_count": 83,
     "metadata": {},
     "output_type": "execute_result"
    }
   ],
   "source": [
    "test_group.mean()"
   ]
  },
  {
   "cell_type": "code",
   "execution_count": 84,
   "metadata": {},
   "outputs": [
    {
     "data": {
      "image/png": "[encoded data removed]",
      "text/plain": [
       "<Figure size 576x360 with 1 Axes>"
      ]
     },
     "metadata": {
      "needs_background": "light"
     },
     "output_type": "display_data"
    }
   ],
   "source": [
    "import matplotlib.pyplot as plt\n",
    "\n",
    "# Средние значения\n",
    "mean_control = control_group.mean()  # Среднее для контрольной группы\n",
    "mean_test = test_group.mean()  # Среднее для тестовой группы\n",
    "\n",
    "# Построение графика\n",
    "plt.figure(figsize=(8, 5))\n",
    "plt.bar(['Контрольная группа', 'Тестовая группа'], [mean_control, mean_test], color=['red', 'green'])\n",
    "plt.title('Сравнение среднего времени доставки')\n",
    "plt.ylabel('Среднее время доставки (минуты)')\n",
    "plt.grid(alpha=0.3)\n",
    "plt.show()"
   ]
  },
  {
   "cell_type": "markdown",
   "metadata": {},
   "source": [
    "\tРезультат:\n",
    "Среднее время доставки уменьшилось на 13.35%.\n",
    "Это говорит о том, что новая функция позволила курьерам завершать доставку быстрее, что значительно улучшило эффективность."
   ]
  },
  {
   "cell_type": "markdown",
   "metadata": {},
   "source": [
    "Вывод:\n",
    "\t1.\tВ тестовой группе, где использовался новый алгоритм, среднее время доставки сократилось на 13.35% (примерно на 6 минут).\n",
    "\t2.\tРазница между группами визуально заметна на графике и подтверждается расчётами.\n",
    "\t3.\tНовый алгоритм эффективен и может быть рекомендован к использованию для всех курьеров."
   ]
  },
  {
   "cell_type": "code",
   "execution_count": null,
   "metadata": {},
   "outputs": [],
   "source": []
  },
  {
   "cell_type": "code",
   "execution_count": 104,
   "metadata": {},
   "outputs": [
    {
     "data": {
      "text/plain": [
       "<matplotlib.axes._subplots.AxesSubplot at 0x7fa88373f358>"
      ]
     },
     "execution_count": 104,
     "metadata": {},
     "output_type": "execute_result"
    },
    {
     "data": {
      "image/png": "[encoded data removed]",
      "text/plain": [
       "<Figure size 360x288 with 1 Axes>"
      ]
     },
     "metadata": {
      "needs_background": "light"
     },
     "output_type": "display_data"
    }
   ],
   "source": [
    "import pingouin as pg\n",
    "\n",
    "# Фильтрация данных для контрольной группы\n",
    "control_delivery = df.query(\"experiment_group == 'control'\")['delivery_time']\n",
    "\n",
    "# Построение QQ-плота\n",
    "pg.qqplot(control_delivery)"
   ]
  },
  {
   "cell_type": "code",
   "execution_count": 105,
   "metadata": {},
   "outputs": [
    {
     "data": {
      "text/plain": [
       "<matplotlib.axes._subplots.AxesSubplot at 0x7fa8c041f978>"
      ]
     },
     "execution_count": 105,
     "metadata": {},
     "output_type": "execute_result"
    },
    {
     "data": {
      "image/png": "[encoded data removed]",
      "text/plain": [
       "<Figure size 360x288 with 1 Axes>"
      ]
     },
     "metadata": {
      "needs_background": "light"
     },
     "output_type": "display_data"
    }
   ],
   "source": [
    "# Фильтрация данных для тестовой группы\n",
    "control_delivery = df.query(\"experiment_group == 'test'\")['delivery_time']\n",
    "\n",
    "# Построение QQ-плота\n",
    "pg.qqplot(control_delivery)"
   ]
  },
  {
   "cell_type": "code",
   "execution_count": null,
   "metadata": {},
   "outputs": [],
   "source": []
  },
  {
   "cell_type": "code",
   "execution_count": null,
   "metadata": {},
   "outputs": [],
   "source": []
  },
  {
   "cell_type": "code",
   "execution_count": null,
   "metadata": {},
   "outputs": [],
   "source": []
  }
 ],
 "metadata": {
  "kernelspec": {
   "display_name": "Python 3",
   "language": "python",
   "name": "python3"
  },
  "language_info": {
   "codemirror_mode": {
    "name": "ipython",
    "version": 3
   },
   "file_extension": ".py",
   "mimetype": "text/x-python",
   "name": "python",
   "nbconvert_exporter": "python",
   "pygments_lexer": "ipython3",
   "version": "3.7.3"
  }
 },
 "nbformat": 4,
 "nbformat_minor": 4
}
