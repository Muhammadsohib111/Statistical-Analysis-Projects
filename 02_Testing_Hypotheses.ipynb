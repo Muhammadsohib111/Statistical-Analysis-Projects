{
 "cells": [
  {
   "cell_type": "markdown",
   "metadata": {},
   "source": [
    "Цель проекта\n",
    "\n",
    "Анализ рекламной кампании для оценки ее эффективности и изучения ключевых продуктовых метрик на основе представленных данных.\n",
    "\n",
    "Задачи проекта:\n",
    "\t1.\tПровести первичный анализ данных: проверить структуру данных, количество строк и столбцов, наличие пропущенных значений и уникальные значения ключевых категорий.\n",
    "\t2.\tИсследовать распределение числа показов (Impressions) для каждой рекламы, применив логарифмическое преобразование для удобства визуализации.\n",
    "\t3.\tРассчитать и проанализировать метрику CTR (Click-Through Rate) – отношение числа кликов к числу показов. Исследовать распределение CTR и описательные статистики.\n",
    "\t4.\tВыполнить анализ CTR с разбивкой по рекламным кампаниям.\n",
    "\t5.\tРассчитать CPC (стоимость клика) и изучить его распределение с использованием мер центральной тенденции и изменчивости.\n",
    "\t6.\tВизуализировать CPC с разбивкой по полу пользователей.\n",
    "\t7.\tПосчитать конверсию из клика в покупку и проанализировать ее значения.\n",
    "\n",
    "Ожидаемые результаты:\n",
    "\n",
    "\t\tПолучение наглядных визуализаций распределений метрик и выявление ключевых тенденций.\n",
    "        \n",
    "\t\tОпределение наиболее эффективных рекламных кампаний и сегментов пользователей.\n",
    "        \n",
    "\t\tРекомендации по оптимизации рекламной стратегии на основе полученных данных."
   ]
  },
  {
   "cell_type": "code",
   "execution_count": 3,
   "metadata": {},
   "outputs": [],
   "source": [
    "# Импортируем необходимые библиотеки для анализа данных и визуализацииimport numpy as np\n",
    "import pandas as pd\n",
    "import numpy as np\n",
    "import matplotlib.pyplot as plt\n",
    "import seaborn as sns\n",
    "from scipy.stats import iqr as ss\n",
    "\n",
    "%matplotlib inline"
   ]
  },
  {
   "cell_type": "code",
   "execution_count": 4,
   "metadata": {},
   "outputs": [],
   "source": [
    "# Загружаем данные из CSV-файла\n",
    "df = pd.read_csv('./conversion.csv')"
   ]
  },
  {
   "cell_type": "code",
   "execution_count": 5,
   "metadata": {},
   "outputs": [
    {
     "data": {
      "text/html": [
       "<div>\n",
       "<style scoped>\n",
       "    .dataframe tbody tr th:only-of-type {\n",
       "        vertical-align: middle;\n",
       "    }\n",
       "\n",
       "    .dataframe tbody tr th {\n",
       "        vertical-align: top;\n",
       "    }\n",
       "\n",
       "    .dataframe thead th {\n",
       "        text-align: right;\n",
       "    }\n",
       "</style>\n",
       "<table border=\"1\" class=\"dataframe\">\n",
       "  <thead>\n",
       "    <tr style=\"text-align: right;\">\n",
       "      <th></th>\n",
       "      <th>ad_id</th>\n",
       "      <th>xyz_campaign_id</th>\n",
       "      <th>fb_campaign_id</th>\n",
       "      <th>age</th>\n",
       "      <th>gender</th>\n",
       "      <th>interest</th>\n",
       "      <th>Impressions</th>\n",
       "      <th>Clicks</th>\n",
       "      <th>Spent</th>\n",
       "      <th>Total_Conversion</th>\n",
       "      <th>Approved_Conversion</th>\n",
       "    </tr>\n",
       "  </thead>\n",
       "  <tbody>\n",
       "    <tr>\n",
       "      <th>0</th>\n",
       "      <td>708746</td>\n",
       "      <td>916</td>\n",
       "      <td>103916</td>\n",
       "      <td>30-34</td>\n",
       "      <td>M</td>\n",
       "      <td>15</td>\n",
       "      <td>7350</td>\n",
       "      <td>1</td>\n",
       "      <td>1.43</td>\n",
       "      <td>2</td>\n",
       "      <td>1</td>\n",
       "    </tr>\n",
       "    <tr>\n",
       "      <th>1</th>\n",
       "      <td>708749</td>\n",
       "      <td>916</td>\n",
       "      <td>103917</td>\n",
       "      <td>30-34</td>\n",
       "      <td>M</td>\n",
       "      <td>16</td>\n",
       "      <td>17861</td>\n",
       "      <td>2</td>\n",
       "      <td>1.82</td>\n",
       "      <td>2</td>\n",
       "      <td>0</td>\n",
       "    </tr>\n",
       "    <tr>\n",
       "      <th>2</th>\n",
       "      <td>708771</td>\n",
       "      <td>916</td>\n",
       "      <td>103920</td>\n",
       "      <td>30-34</td>\n",
       "      <td>M</td>\n",
       "      <td>20</td>\n",
       "      <td>693</td>\n",
       "      <td>0</td>\n",
       "      <td>0.00</td>\n",
       "      <td>1</td>\n",
       "      <td>0</td>\n",
       "    </tr>\n",
       "    <tr>\n",
       "      <th>3</th>\n",
       "      <td>708815</td>\n",
       "      <td>916</td>\n",
       "      <td>103928</td>\n",
       "      <td>30-34</td>\n",
       "      <td>M</td>\n",
       "      <td>28</td>\n",
       "      <td>4259</td>\n",
       "      <td>1</td>\n",
       "      <td>1.25</td>\n",
       "      <td>1</td>\n",
       "      <td>0</td>\n",
       "    </tr>\n",
       "    <tr>\n",
       "      <th>4</th>\n",
       "      <td>708818</td>\n",
       "      <td>916</td>\n",
       "      <td>103928</td>\n",
       "      <td>30-34</td>\n",
       "      <td>M</td>\n",
       "      <td>28</td>\n",
       "      <td>4133</td>\n",
       "      <td>1</td>\n",
       "      <td>1.29</td>\n",
       "      <td>1</td>\n",
       "      <td>1</td>\n",
       "    </tr>\n",
       "  </tbody>\n",
       "</table>\n",
       "</div>"
      ],
      "text/plain": [
       "    ad_id  xyz_campaign_id  fb_campaign_id    age gender  interest  \\\n",
       "0  708746              916          103916  30-34      M        15   \n",
       "1  708749              916          103917  30-34      M        16   \n",
       "2  708771              916          103920  30-34      M        20   \n",
       "3  708815              916          103928  30-34      M        28   \n",
       "4  708818              916          103928  30-34      M        28   \n",
       "\n",
       "   Impressions  Clicks  Spent  Total_Conversion  Approved_Conversion  \n",
       "0         7350       1   1.43                 2                    1  \n",
       "1        17861       2   1.82                 2                    0  \n",
       "2          693       0   0.00                 1                    0  \n",
       "3         4259       1   1.25                 1                    0  \n",
       "4         4133       1   1.29                 1                    1  "
      ]
     },
     "execution_count": 5,
     "metadata": {},
     "output_type": "execute_result"
    }
   ],
   "source": [
    "df.head()"
   ]
  },
  {
   "cell_type": "code",
   "execution_count": 6,
   "metadata": {},
   "outputs": [
    {
     "name": "stdout",
     "output_type": "stream",
     "text": [
      "<class 'pandas.core.frame.DataFrame'>\n",
      "RangeIndex: 1143 entries, 0 to 1142\n",
      "Data columns (total 11 columns):\n",
      " #   Column               Non-Null Count  Dtype  \n",
      "---  ------               --------------  -----  \n",
      " 0   ad_id                1143 non-null   int64  \n",
      " 1   xyz_campaign_id      1143 non-null   int64  \n",
      " 2   fb_campaign_id       1143 non-null   int64  \n",
      " 3   age                  1143 non-null   object \n",
      " 4   gender               1143 non-null   object \n",
      " 5   interest             1143 non-null   int64  \n",
      " 6   Impressions          1143 non-null   int64  \n",
      " 7   Clicks               1143 non-null   int64  \n",
      " 8   Spent                1143 non-null   float64\n",
      " 9   Total_Conversion     1143 non-null   int64  \n",
      " 10  Approved_Conversion  1143 non-null   int64  \n",
      "dtypes: float64(1), int64(8), object(2)\n",
      "memory usage: 98.4+ KB\n"
     ]
    }
   ],
   "source": [
    "df.info()"
   ]
  },
  {
   "cell_type": "code",
   "execution_count": 7,
   "metadata": {},
   "outputs": [
    {
     "data": {
      "text/plain": [
       "(1143, 11)"
      ]
     },
     "execution_count": 7,
     "metadata": {},
     "output_type": "execute_result"
    }
   ],
   "source": [
    "df.shape"
   ]
  },
  {
   "cell_type": "code",
   "execution_count": 8,
   "metadata": {},
   "outputs": [
    {
     "data": {
      "text/plain": [
       "ad_id                  0\n",
       "xyz_campaign_id        0\n",
       "fb_campaign_id         0\n",
       "age                    0\n",
       "gender                 0\n",
       "interest               0\n",
       "Impressions            0\n",
       "Clicks                 0\n",
       "Spent                  0\n",
       "Total_Conversion       0\n",
       "Approved_Conversion    0\n",
       "dtype: int64"
      ]
     },
     "execution_count": 8,
     "metadata": {},
     "output_type": "execute_result"
    }
   ],
   "source": [
    "df.isna().sum()"
   ]
  },
  {
   "cell_type": "code",
   "execution_count": 9,
   "metadata": {
    "scrolled": true
   },
   "outputs": [
    {
     "data": {
      "text/plain": [
       "1178    625\n",
       "936     464\n",
       "916      54\n",
       "Name: xyz_campaign_id, dtype: int64"
      ]
     },
     "execution_count": 9,
     "metadata": {},
     "output_type": "execute_result"
    }
   ],
   "source": [
    "df['xyz_campaign_id'].value_counts()"
   ]
  },
  {
   "cell_type": "code",
   "execution_count": null,
   "metadata": {},
   "outputs": [],
   "source": []
  },
  {
   "cell_type": "code",
   "execution_count": 10,
   "metadata": {
    "scrolled": false
   },
   "outputs": [
    {
     "data": {
      "image/png": "[encoded data removed]",
      "text/plain": [
       "<Figure size 792x504 with 1 Axes>"
      ]
     },
     "metadata": {
      "needs_background": "light"
     },
     "output_type": "display_data"
    }
   ],
   "source": [
    "# Группируем данные по кампаниям Facebook ('fb_campaign_id') и считаем общее\n",
    "# количество показов (Impressions)\n",
    "impressions_per_campaign = df.groupby('fb_campaign_id')['Impressions'].sum()\n",
    "\n",
    "# Логарифмируем значения числа показов для уменьшения разброса и улучшения визуализации\n",
    "log_impressions = np.log(impressions_per_campaign)\n",
    "\n",
    "# Строим гистограмму распределения логарифма числа показов по рекламным кампаниям\n",
    "plt.figure(figsize=(11, 7))\n",
    "sns.histplot(log_impressions, kde=False, bins=20, color='gray')  # Используем гистограмму\n",
    "plt.title('Распределение логарифма числа показов (Impressions) по рекламным кампаниям')\n",
    "plt.xlabel('Логарифм числа показов')\n",
    "plt.ylabel('Частота')\n",
    "plt.grid(True)\n",
    "plt.show()"
   ]
  },
  {
   "cell_type": "code",
   "execution_count": 11,
   "metadata": {},
   "outputs": [
    {
     "data": {
      "image/png": "[encoded data removed]",
      "text/plain": [
       "<Figure size 792x504 with 1 Axes>"
      ]
     },
     "metadata": {
      "needs_background": "light"
     },
     "output_type": "display_data"
    }
   ],
   "source": [
    "# Распределение до логарифмирование\n",
    "plt.figure(figsize=(11, 7))\n",
    "sns.histplot(impressions_per_campaign, kde=False, bins=20, color='gray')  # Используем гистограмму\n",
    "plt.title('Распределение числа показов (Impressions) по рекламным кампаниям')\n",
    "plt.xlabel('Числа показов')\n",
    "plt.ylabel('Частота')\n",
    "plt.grid(True)\n",
    "plt.show()"
   ]
  },
  {
   "cell_type": "markdown",
   "metadata": {},
   "source": [
    "\n",
    "Рассчитать и проанализировать метрику CTR (Click-Through Rate) — показатель кликабельности, который помогает оценить, насколько рекламное объявление привлекает внимание пользователей"
   ]
  },
  {
   "cell_type": "code",
   "execution_count": 12,
   "metadata": {},
   "outputs": [],
   "source": [
    "# Рассчитываем CTR (Click-Through Rate) как отношение кликов к числу показов\n",
    "\n",
    "df['CTR'] = df['Clicks'] / df['Impressions']"
   ]
  },
  {
   "cell_type": "code",
   "execution_count": null,
   "metadata": {},
   "outputs": [],
   "source": []
  },
  {
   "cell_type": "code",
   "execution_count": 13,
   "metadata": {
    "scrolled": false
   },
   "outputs": [
    {
     "data": {
      "image/png": "[encoded data removed]",
      "text/plain": [
       "<Figure size 792x504 with 1 Axes>"
      ]
     },
     "metadata": {
      "needs_background": "light"
     },
     "output_type": "display_data"
    }
   ],
   "source": [
    "# Фильтруем данные для рекламной кампании с идентификатором 916\n",
    "campaign_916_data = df[df['xyz_campaign_id'] == 916]\n",
    "\n",
    "# Строим гистограмму распределения CTR для кампании 916\n",
    "plt.figure(figsize = (11, 7))  # Устанавливаем размер графика\n",
    "sns.histplot(data = campaign_916_data, x = campaign_916_data['CTR'], bins = 20, color = \"black\")  # Гистограмма\n",
    "plt.title('Распределение CTR для рекламной кампании 916')  # Заголовок графика\n",
    "plt.xlabel('CTR')  # Подпись оси X\n",
    "plt.ylabel('Частота')  # Подпись оси Y\n",
    "plt.grid(True)  # Включаем сетку\n",
    "plt.show()"
   ]
  },
  {
   "cell_type": "markdown",
   "metadata": {},
   "source": [
    "Краткий вывод по графику CTR:\n",
    "\n",
    "Большинство значений CTR близко к нулю, что указывает на низкую кликабельность объявлений. Небольшая группа объявлений имеет высокий CTR, выделяясь на фоне остальных. Распределение асимметрично и смещено влево."
   ]
  },
  {
   "cell_type": "code",
   "execution_count": 14,
   "metadata": {},
   "outputs": [
    {
     "data": {
      "text/plain": [
       "738637"
      ]
     },
     "execution_count": 14,
     "metadata": {},
     "output_type": "execute_result"
    }
   ],
   "source": [
    "# Находим индекс строки с максимальным CTR, устанавливая 'ad_id' в качестве индекса\n",
    "df.set_index('ad_id')['CTR'].idxmax()"
   ]
  },
  {
   "cell_type": "markdown",
   "metadata": {},
   "source": [
    "Рассчитываем стоимость за клик (CPC) Cost-Per-Click — это стоимость одного клика."
   ]
  },
  {
   "cell_type": "code",
   "execution_count": 15,
   "metadata": {
    "scrolled": true
   },
   "outputs": [
    {
     "data": {
      "text/plain": [
       "0.25"
      ]
     },
     "execution_count": 15,
     "metadata": {},
     "output_type": "execute_result"
    }
   ],
   "source": [
    "# CPC (cost-per-click) – стоимость одного клика пользователя по объявлению\n",
    "df['CPC'] = df['Spent'] / df['Clicks']\n",
    "\n",
    "# Округляем среднее значение CPC до двух знаков после запятой\n",
    "round(ss(df['CPC'], nan_policy='omit'), 2)"
   ]
  },
  {
   "cell_type": "markdown",
   "metadata": {},
   "source": [
    "Вычисляем меры изменчивости для CTR"
   ]
  },
  {
   "cell_type": "code",
   "execution_count": 16,
   "metadata": {
    "scrolled": true
   },
   "outputs": [
    {
     "data": {
      "text/plain": [
       "0.0001334143888399813"
      ]
     },
     "execution_count": 16,
     "metadata": {},
     "output_type": "execute_result"
    }
   ],
   "source": [
    "# Находим первый (Q1) и третий (Q3) квартили CTR\n",
    "Q1 = df['CTR'].quantile(0.25)  # Первый квартиль (25%)\n",
    "Q3 = df['CTR'].quantile(0.75)  # Третий квартиль (75%)\n",
    "\n",
    "# Вычисляем межквартильный размах (IQR) для CTR\n",
    "IQR = Q3 - Q1\n",
    "IQR"
   ]
  },
  {
   "cell_type": "markdown",
   "metadata": {},
   "source": [
    " Межквартильный размах (IQR):\n",
    " \n",
    "\t\tIQR (межквартильный размах): Рассчитанный IQR = 0.000133.\n",
    "\t\tЭто значение показывает очень узкий диапазон значений CTR между первым (Q1) и третьим (Q3) квартилями.\n",
    "\t\tОсновные значения CTR сконцентрированы в узком интервале, а небольшая группа данных сильно выбивается за пределы этого интервала, что говорит о низкой вариативности для большинства объявлений и высоких выбросах."
   ]
  },
  {
   "cell_type": "markdown",
   "metadata": {},
   "source": [
    " Визуализируем распределение CTR"
   ]
  },
  {
   "cell_type": "code",
   "execution_count": 17,
   "metadata": {
    "scrolled": false
   },
   "outputs": [
    {
     "data": {
      "image/png": "[encoded data removed]",
      "text/plain": [
       "<Figure size 720x432 with 1 Axes>"
      ]
     },
     "metadata": {
      "needs_background": "light"
     },
     "output_type": "display_data"
    },
    {
     "data": {
      "image/png": "[encoded data removed]",
      "text/plain": [
       "<Figure size 720x432 with 1 Axes>"
      ]
     },
     "metadata": {
      "needs_background": "light"
     },
     "output_type": "display_data"
    }
   ],
   "source": [
    "# Гистограмма\n",
    "plt.figure(figsize=(10, 6))\n",
    "sns.histplot(df['CTR'].dropna(), bins=30, kde=True, color='blue')\n",
    "plt.title('Распределение CTR')\n",
    "plt.xlabel('CTR')\n",
    "plt.ylabel('Частота')\n",
    "plt.grid(True)\n",
    "plt.show()\n",
    "\n",
    "\n",
    "\n",
    "# Коробчатая диаграмма (boxplot)\n",
    "plt.figure(figsize = (10, 6))\n",
    "sns.boxplot(x = df['CTR'].dropna(), color = 'orange')\n",
    "plt.title('Распределение CTR (boxplot)')\n",
    "plt.show()"
   ]
  },
  {
   "cell_type": "markdown",
   "metadata": {},
   "source": [
    "Выводы по графикам и IQR:\n",
    "\n",
    "1. Гистограмма и boxplot распределения CTR:\n",
    "\n",
    "\t•\tГистограмма: Большинство значений CTR (Click-Through Rate) сосредоточено близко к нулю, что указывает на низкую кликабельность большинства объявлений.\n",
    "    \n",
    "\t•\tBoxplot:\n",
    "\n",
    "\t•\tРаспределение CTR асимметрично и смещено влево. Это подтверждает наличие большого количества низких значений и несколько выбросов (outliers) справа.\n",
    "\t•\tНебольшая группа объявлений имеет очень высокий CTR по сравнению с остальными, что отражается в длинных «усах» и выбросах на boxplot."
   ]
  },
  {
   "cell_type": "code",
   "execution_count": null,
   "metadata": {},
   "outputs": [],
   "source": []
  },
  {
   "cell_type": "code",
   "execution_count": 18,
   "metadata": {
    "scrolled": false
   },
   "outputs": [
    {
     "data": {
      "text/html": [
       "<div>\n",
       "<style scoped>\n",
       "    .dataframe tbody tr th:only-of-type {\n",
       "        vertical-align: middle;\n",
       "    }\n",
       "\n",
       "    .dataframe tbody tr th {\n",
       "        vertical-align: top;\n",
       "    }\n",
       "\n",
       "    .dataframe thead th {\n",
       "        text-align: right;\n",
       "    }\n",
       "</style>\n",
       "<table border=\"1\" class=\"dataframe\">\n",
       "  <thead>\n",
       "    <tr style=\"text-align: right;\">\n",
       "      <th></th>\n",
       "      <th>ad_id</th>\n",
       "      <th>xyz_campaign_id</th>\n",
       "      <th>fb_campaign_id</th>\n",
       "      <th>age</th>\n",
       "      <th>gender</th>\n",
       "      <th>interest</th>\n",
       "      <th>Impressions</th>\n",
       "      <th>Clicks</th>\n",
       "      <th>Spent</th>\n",
       "      <th>Total_Conversion</th>\n",
       "      <th>Approved_Conversion</th>\n",
       "      <th>CTR</th>\n",
       "      <th>CPC</th>\n",
       "    </tr>\n",
       "  </thead>\n",
       "  <tbody>\n",
       "    <tr>\n",
       "      <th>0</th>\n",
       "      <td>708746</td>\n",
       "      <td>916</td>\n",
       "      <td>103916</td>\n",
       "      <td>30-34</td>\n",
       "      <td>M</td>\n",
       "      <td>15</td>\n",
       "      <td>7350</td>\n",
       "      <td>1</td>\n",
       "      <td>1.43</td>\n",
       "      <td>2</td>\n",
       "      <td>1</td>\n",
       "      <td>0.000136</td>\n",
       "      <td>1.43</td>\n",
       "    </tr>\n",
       "    <tr>\n",
       "      <th>1</th>\n",
       "      <td>708749</td>\n",
       "      <td>916</td>\n",
       "      <td>103917</td>\n",
       "      <td>30-34</td>\n",
       "      <td>M</td>\n",
       "      <td>16</td>\n",
       "      <td>17861</td>\n",
       "      <td>2</td>\n",
       "      <td>1.82</td>\n",
       "      <td>2</td>\n",
       "      <td>0</td>\n",
       "      <td>0.000112</td>\n",
       "      <td>0.91</td>\n",
       "    </tr>\n",
       "    <tr>\n",
       "      <th>2</th>\n",
       "      <td>708771</td>\n",
       "      <td>916</td>\n",
       "      <td>103920</td>\n",
       "      <td>30-34</td>\n",
       "      <td>M</td>\n",
       "      <td>20</td>\n",
       "      <td>693</td>\n",
       "      <td>0</td>\n",
       "      <td>0.00</td>\n",
       "      <td>1</td>\n",
       "      <td>0</td>\n",
       "      <td>0.000000</td>\n",
       "      <td>NaN</td>\n",
       "    </tr>\n",
       "    <tr>\n",
       "      <th>3</th>\n",
       "      <td>708815</td>\n",
       "      <td>916</td>\n",
       "      <td>103928</td>\n",
       "      <td>30-34</td>\n",
       "      <td>M</td>\n",
       "      <td>28</td>\n",
       "      <td>4259</td>\n",
       "      <td>1</td>\n",
       "      <td>1.25</td>\n",
       "      <td>1</td>\n",
       "      <td>0</td>\n",
       "      <td>0.000235</td>\n",
       "      <td>1.25</td>\n",
       "    </tr>\n",
       "    <tr>\n",
       "      <th>4</th>\n",
       "      <td>708818</td>\n",
       "      <td>916</td>\n",
       "      <td>103928</td>\n",
       "      <td>30-34</td>\n",
       "      <td>M</td>\n",
       "      <td>28</td>\n",
       "      <td>4133</td>\n",
       "      <td>1</td>\n",
       "      <td>1.29</td>\n",
       "      <td>1</td>\n",
       "      <td>1</td>\n",
       "      <td>0.000242</td>\n",
       "      <td>1.29</td>\n",
       "    </tr>\n",
       "  </tbody>\n",
       "</table>\n",
       "</div>"
      ],
      "text/plain": [
       "    ad_id  xyz_campaign_id  fb_campaign_id    age gender  interest  \\\n",
       "0  708746              916          103916  30-34      M        15   \n",
       "1  708749              916          103917  30-34      M        16   \n",
       "2  708771              916          103920  30-34      M        20   \n",
       "3  708815              916          103928  30-34      M        28   \n",
       "4  708818              916          103928  30-34      M        28   \n",
       "\n",
       "   Impressions  Clicks  Spent  Total_Conversion  Approved_Conversion  \\\n",
       "0         7350       1   1.43                 2                    1   \n",
       "1        17861       2   1.82                 2                    0   \n",
       "2          693       0   0.00                 1                    0   \n",
       "3         4259       1   1.25                 1                    0   \n",
       "4         4133       1   1.29                 1                    1   \n",
       "\n",
       "        CTR   CPC  \n",
       "0  0.000136  1.43  \n",
       "1  0.000112  0.91  \n",
       "2  0.000000   NaN  \n",
       "3  0.000235  1.25  \n",
       "4  0.000242  1.29  "
      ]
     },
     "execution_count": 18,
     "metadata": {},
     "output_type": "execute_result"
    }
   ],
   "source": [
    "df.head()"
   ]
  },
  {
   "cell_type": "code",
   "execution_count": 31,
   "metadata": {},
   "outputs": [
    {
     "name": "stdout",
     "output_type": "stream",
     "text": [
      "0.6693706420966038\n",
      "0.5497069693780606\n"
     ]
    }
   ],
   "source": [
    "print(df.query(\"gender == 'M'\")['CPC'].std())\n",
    "print(df.query(\"gender == 'F'\")['CPC'].std())"
   ]
  },
  {
   "cell_type": "code",
   "execution_count": 19,
   "metadata": {},
   "outputs": [
    {
     "data": {
      "image/png": "[encoded data removed]",
      "text/plain": [
       "<Figure size 864x432 with 1 Axes>"
      ]
     },
     "metadata": {
      "needs_background": "light"
     },
     "output_type": "display_data"
    }
   ],
   "source": [
    "# Шаг 1: Создаем новую колонку CPC (стоимость за клик)\n",
    "df['CPC'] = df['Spent'] / df['Clicks']\n",
    "\n",
    "# Шаг 2: Проверяем наличие пропущенных значений и заменяем их на 0\n",
    "df['CPC'] = df['CPC'].fillna(0)\n",
    "\n",
    "# Шаг 3: Визуализируем распределение CPC с разбивкой по полу\n",
    "plt.figure(figsize = (12, 6))\n",
    "sns.boxplot(x = 'gender', y = 'CPC', data = df)\n",
    "plt.title('Распределение CPC с разбивкой по полу')\n",
    "plt.xlabel('Пол пользователей')\n",
    "plt.ylabel('CPC (стоимость за клик)')\n",
    "plt.grid(True)\n",
    "plt.show()"
   ]
  },
  {
   "cell_type": "markdown",
   "metadata": {},
   "source": [
    "Вывод по графику:\n",
    "\t1.\tОбщая картина:\n",
    "\t\tCPC (стоимость за клик) для мужчин (M) имеет больший разброс по сравнению с женщинами (F).\n",
    "\t\tМедиана CPC для мужчин и женщин примерно на одном уровне (около 1.5), однако у мужчин наблюдается больше выбросов как в сторону минимальных, так и максимальных значений.\n",
    "\t\n",
    "    2.\tМужчины (M):\n",
    "\t\tБолее широкий разброс значений CPC.\n",
    "\t\tПрисутствуют выбросы ниже 0.5 и выше 2.0.\n",
    "\t\n",
    "    3.\tЖенщины (F):\n",
    "\t\tCPC распределено более равномерно, выбросы наблюдаются в нижней части диапазона.\n",
    "\t\tВерхняя граница чуть ниже, чем у мужчин, что указывает на меньшую изменчивость."
   ]
  },
  {
   "cell_type": "code",
   "execution_count": 20,
   "metadata": {},
   "outputs": [
    {
     "data": {
      "image/png": "[encoded data removed]",
      "text/plain": [
       "<Figure size 792x504 with 1 Axes>"
      ]
     },
     "metadata": {
      "needs_background": "light"
     },
     "output_type": "display_data"
    }
   ],
   "source": [
    "# Плотность распределения CPC (стоимости за клик) с разбивкой по полу\n",
    "\n",
    "# Создаём график с двумя распределениями\n",
    "plt.figure(figsize=(11, 7))  # Устанавливаем размер графика\n",
    "\n",
    "# Плотность CPC для мужчин\n",
    "sns.kdeplot(\n",
    "    df.query(\"gender == 'M'\")['CPC'].dropna(),  # Фильтруем данные по полу 'M' (мужчины) и убираем пропуски\n",
    "    label = 'Мужчины',  # Подпись для легенды\n",
    "    shade = True,  # Закрашиваем под кривой\n",
    "    color = 'blue'  # Цвет для мужчин\n",
    ")\n",
    "\n",
    "# Плотность CPC для женщин\n",
    "sns.kdeplot(\n",
    "    df.query(\"gender == 'F'\")['CPC'].dropna(),  # Фильтруем данные по полу 'F' (женщины) и убираем пропуски\n",
    "    label = 'Женщины',  # Подпись для легенды\n",
    "    shade = True,  # Закрашиваем под кривой\n",
    "    color = 'orange'  # Цвет для женщин\n",
    ")\n",
    "\n",
    "# Оформление графика\n",
    "plt.title('Распределение CPC с разбивкой по полу')  # Заголовок графика\n",
    "plt.xlabel('CPC')  # Подпись оси X\n",
    "plt.ylabel('Плотность')  # Подпись оси Y\n",
    "plt.legend(title = 'Пол')  # Легенда с заголовком \"Пол\"\n",
    "plt.grid(True)  # Включаем сетку для удобства чтения графика\n",
    "plt.show()  # Показываем график"
   ]
  },
  {
   "cell_type": "code",
   "execution_count": 21,
   "metadata": {},
   "outputs": [
    {
     "name": "stdout",
     "output_type": "stream",
     "text": [
      "    ad_id  Clicks  Approved_Conversion     CR\n",
      "0  708746       1                    1  100.0\n",
      "1  708749       2                    0    0.0\n",
      "2  708771       0                    0    NaN\n",
      "3  708815       1                    0    0.0\n",
      "4  708818       1                    1  100.0\n"
     ]
    }
   ],
   "source": [
    "# CR показывает долю пользователей, совершивших покупку,\n",
    "# среди тех, кто кликнул по рекламе.\n",
    "\n",
    "# Шаг 1: Добавляем столбец CR (конверсия из кликов в покупки)\n",
    "\n",
    "df['CR'] = (df['Approved_Conversion'] / df['Clicks']) * 100\n",
    "\n",
    "# Проверяем первые строки с новым столбцом\n",
    "print(df[['ad_id', 'Clicks', 'Approved_Conversion', 'CR']].head())"
   ]
  },
  {
   "cell_type": "code",
   "execution_count": 22,
   "metadata": {
    "scrolled": true
   },
   "outputs": [
    {
     "name": "stdout",
     "output_type": "stream",
     "text": [
      "\n",
      "Описательные статистики для CR:\n",
      "count    1007.000000\n",
      "mean             inf\n",
      "std              NaN\n",
      "min         0.000000\n",
      "25%         0.000000\n",
      "50%         1.801802\n",
      "75%        10.000000\n",
      "max              inf\n",
      "Name: CR, dtype: float64\n"
     ]
    }
   ],
   "source": [
    "# Шаг 2: Рассчитываем описательные статистики\n",
    "cr_stats = df['CR'].describe()\n",
    "print(\"\\nОписательные статистики для CR:\")\n",
    "print(cr_stats)"
   ]
  },
  {
   "cell_type": "markdown",
   "metadata": {},
   "source": [
    "\tCR для некоторых объявлений равен 100%: это значит, что каждый клик по объявлению привел к покупке.\n",
    "    CR = NaN: нет кликов по объявлению, поэтому конверсия не рассчитывается"
   ]
  },
  {
   "cell_type": "markdown",
   "metadata": {},
   "source": [
    "Рассчитываем меры центральной тенденции и дисперсии для CPC по группам пола:"
   ]
  },
  {
   "cell_type": "code",
   "execution_count": 23,
   "metadata": {},
   "outputs": [
    {
     "name": "stdout",
     "output_type": "stream",
     "text": [
      "Статистики для CPC по полу:\n",
      "  gender      mean    median       var       std\n",
      "0      F  1.200775  1.406667  0.302178  0.549707\n",
      "1      M  1.252977  1.531667  0.448057  0.669371\n"
     ]
    }
   ],
   "source": [
    "# Группировка данных по полу и расчет мер центральной тенденции и дисперсии\n",
    "cpc_stats = df.groupby('gender')['CPC'].agg(['mean', 'median', 'var', 'std']).reset_index()\n",
    "\n",
    "# Печатаем результаты\n",
    "print(\"Статистики для CPC по полу:\")\n",
    "print(cpc_stats)"
   ]
  },
  {
   "cell_type": "code",
   "execution_count": null,
   "metadata": {},
   "outputs": [],
   "source": []
  },
  {
   "cell_type": "markdown",
   "metadata": {},
   "source": [
    "Проверка статистической значимости различий в CPC между полами с помощью t-теста:"
   ]
  },
  {
   "cell_type": "code",
   "execution_count": 25,
   "metadata": {
    "scrolled": true
   },
   "outputs": [
    {
     "name": "stdout",
     "output_type": "stream",
     "text": [
      "T-statistic: 1.44\n",
      "P-value: 0.1488\n",
      "Нет статистически значимых различий в CPC между мужчинами и женщинами.\n"
     ]
    }
   ],
   "source": [
    "from scipy.stats import ttest_ind\n",
    "\n",
    "# Создаем выборки CPC для мужчин и женщин\n",
    "cpc_male = df[df['gender'] == 'M']['CPC'].dropna()\n",
    "cpc_female = df[df['gender'] == 'F']['CPC'].dropna()\n",
    "\n",
    "# Выполняем t-тест\n",
    "t_stat, p_value = ttest_ind(cpc_male, cpc_female, equal_var=False)  # Welch's t-test\n",
    "\n",
    "# Печатаем результаты\n",
    "print(f\"T-statistic: {t_stat:.2f}\")\n",
    "print(f\"P-value: {p_value:.4f}\")\n",
    "\n",
    "# Интерпретация результата\n",
    "if p_value < 0.05:\n",
    "    print(\"Различия в CPC между мужчинами и женщинами статистически значимы.\")\n",
    "else:\n",
    "    print(\"Нет статистически значимых различий в CPC между мужчинами и женщинами.\")"
   ]
  },
  {
   "cell_type": "markdown",
   "metadata": {},
   "source": [
    "Заключение:\n",
    "\t\n",
    "      В результате анализа мы выявили, что большая часть рекламных объявлений имеет низкий CTR, что говорит о слабой кликабельности. При этом небольшая группа объявлений показывает высокие результаты. Также стоимость за клик (CPC) для мужчин выше, но разница статистически не значима. Рекомендуется пересмотреть объявления с низким CTR и оптимизировать рекламные кампании"
   ]
  },
  {
   "cell_type": "code",
   "execution_count": null,
   "metadata": {},
   "outputs": [],
   "source": []
  }
 ],
 "metadata": {
  "kernelspec": {
   "display_name": "Python 3",
   "language": "python",
   "name": "python3"
  },
  "language_info": {
   "codemirror_mode": {
    "name": "ipython",
    "version": 3
   },
   "file_extension": ".py",
   "mimetype": "text/x-python",
   "name": "python",
   "nbconvert_exporter": "python",
   "pygments_lexer": "ipython3",
   "version": "3.7.3"
  }
 },
 "nbformat": 4,
 "nbformat_minor": 4
}
